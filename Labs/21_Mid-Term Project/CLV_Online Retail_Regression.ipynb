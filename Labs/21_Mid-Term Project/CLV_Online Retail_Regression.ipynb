{
 "cells": [
  {
   "cell_type": "markdown",
   "id": "233736c4",
   "metadata": {},
   "source": [
    "# Online Retail "
   ]
  },
  {
   "cell_type": "markdown",
   "id": "3e8e80ba",
   "metadata": {},
   "source": [
    "**Project Goal:** \n",
    "Predicting Customer Lifetime Value "
   ]
  },
  {
   "cell_type": "markdown",
   "id": "4cdae285",
   "metadata": {},
   "source": [
    "**Learning Objectives:**\n",
    "1) prepare transaction data for regression, \n",
    "2) engineer features for regression analysis, \n",
    "3) perform and evaluate regression modelling and interpreting results"
   ]
  },
  {
   "cell_type": "markdown",
   "id": "84f28878",
   "metadata": {},
   "source": [
    "**Predictive Analytics Methods:**\n",
    "- Simple Linear Regression\n",
    "- Multivariate Linear Regression "
   ]
  },
  {
   "cell_type": "markdown",
   "id": "9f203373",
   "metadata": {},
   "source": [
    "**About the data:**\n",
    "The used Data set features online retail transactions taken between 2010 and 2011 for a UK-based and registered non-store online retailer. It contains all purchases during an eight month period. "
   ]
  },
  {
   "cell_type": "code",
   "execution_count": null,
   "id": "edd9f6cb",
   "metadata": {},
   "outputs": [],
   "source": []
  },
  {
   "cell_type": "code",
   "execution_count": null,
   "id": "689b671f",
   "metadata": {},
   "outputs": [],
   "source": []
  },
  {
   "cell_type": "code",
   "execution_count": null,
   "id": "5f32bcf1",
   "metadata": {},
   "outputs": [],
   "source": []
  }
 ],
 "metadata": {
  "kernelspec": {
   "display_name": "Python 3",
   "language": "python",
   "name": "python3"
  },
  "language_info": {
   "codemirror_mode": {
    "name": "ipython",
    "version": 3
   },
   "file_extension": ".py",
   "mimetype": "text/x-python",
   "name": "python",
   "nbconvert_exporter": "python",
   "pygments_lexer": "ipython3",
   "version": "3.8.8"
  }
 },
 "nbformat": 4,
 "nbformat_minor": 5
}

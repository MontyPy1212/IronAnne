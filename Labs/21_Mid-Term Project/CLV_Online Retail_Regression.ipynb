{
 "cells": [
  {
   "cell_type": "markdown",
   "id": "a856fbdf",
   "metadata": {},
   "source": [
    "# Mid-term Project"
   ]
  },
  {
   "cell_type": "markdown",
   "id": "4d9fa11a",
   "metadata": {},
   "source": [
    "**Project Goal:** \n",
    "Predicting Customer Lifetime Value (CLV) for an eCommerce company.\n",
    "\n",
    "Background: For any marketing professional it is essential to be able to estimate an expected return from a marketing campaign and a customers' total worth to the business. The CLV is a key metric that helps not only to determine an adequat marketing spend, monitoring acquisition costs for new and identify the high-value customers."
   ]
  },
  {
   "cell_type": "markdown",
   "id": "88a296d5",
   "metadata": {},
   "source": [
    "**Learning Objectives:**\n",
    "1. Prepare transaction data for regression, \n",
    "2. Engineer features for regression analysis, \n",
    "3. Perform and evaluate regression model(s) \n",
    "4. Interpreting results and formulate further recommendations for the marketing department"
   ]
  },
  {
   "cell_type": "markdown",
   "id": "592d8659",
   "metadata": {},
   "source": [
    "**Predictive Analytics Methods:**\n",
    "- Simple Linear Regression\n",
    "- Multivariate Linear Regression "
   ]
  },
  {
   "cell_type": "markdown",
   "id": "3222cb4e",
   "metadata": {},
   "source": [
    "**About the data:**\n",
    "The used Data set features online retail transactions taken between 2010 and 2011 for a UK-based and registered non-store online retailer. It contains all purchases during an eight month period. "
   ]
  },
  {
   "cell_type": "markdown",
   "id": "499e7077",
   "metadata": {},
   "source": [
    "## Importing Data "
   ]
  },
  {
   "cell_type": "code",
   "execution_count": 1,
   "id": "82723da0",
   "metadata": {},
   "outputs": [],
   "source": [
    "import pandas as pd \n",
    "\n",
    "def load_original_data():\n",
    "    return pd.read_excel(\"/Users/Annie/Documents/GitHub/IronAnne/Labs/21_Mid-Term Project/online_retail_II.xlsx\")\n",
    "\n",
    "#retail_df = pd.read_excel(\"/Users/Annie/Documents/GitHub/IronAnne/Labs/21_Mid-Term Project/online_retail_II.xlsx\")"
   ]
  },
  {
   "cell_type": "code",
   "execution_count": 2,
   "id": "9825e503",
   "metadata": {},
   "outputs": [],
   "source": [
    "retail_df = load_original_data()"
   ]
  },
  {
   "cell_type": "code",
   "execution_count": 4,
   "id": "2a57c32b",
   "metadata": {},
   "outputs": [
    {
     "data": {
      "text/html": [
       "<div>\n",
       "<style scoped>\n",
       "    .dataframe tbody tr th:only-of-type {\n",
       "        vertical-align: middle;\n",
       "    }\n",
       "\n",
       "    .dataframe tbody tr th {\n",
       "        vertical-align: top;\n",
       "    }\n",
       "\n",
       "    .dataframe thead th {\n",
       "        text-align: right;\n",
       "    }\n",
       "</style>\n",
       "<table border=\"1\" class=\"dataframe\">\n",
       "  <thead>\n",
       "    <tr style=\"text-align: right;\">\n",
       "      <th></th>\n",
       "      <th>Invoice</th>\n",
       "      <th>StockCode</th>\n",
       "      <th>Description</th>\n",
       "      <th>Quantity</th>\n",
       "      <th>InvoiceDate</th>\n",
       "      <th>Price</th>\n",
       "      <th>Customer ID</th>\n",
       "      <th>Country</th>\n",
       "    </tr>\n",
       "  </thead>\n",
       "  <tbody>\n",
       "    <tr>\n",
       "      <th>0</th>\n",
       "      <td>489434</td>\n",
       "      <td>85048</td>\n",
       "      <td>15CM CHRISTMAS GLASS BALL 20 LIGHTS</td>\n",
       "      <td>12</td>\n",
       "      <td>2009-12-01 07:45:00</td>\n",
       "      <td>6.95</td>\n",
       "      <td>13085.0</td>\n",
       "      <td>United Kingdom</td>\n",
       "    </tr>\n",
       "    <tr>\n",
       "      <th>1</th>\n",
       "      <td>489434</td>\n",
       "      <td>79323P</td>\n",
       "      <td>PINK CHERRY LIGHTS</td>\n",
       "      <td>12</td>\n",
       "      <td>2009-12-01 07:45:00</td>\n",
       "      <td>6.75</td>\n",
       "      <td>13085.0</td>\n",
       "      <td>United Kingdom</td>\n",
       "    </tr>\n",
       "    <tr>\n",
       "      <th>2</th>\n",
       "      <td>489434</td>\n",
       "      <td>79323W</td>\n",
       "      <td>WHITE CHERRY LIGHTS</td>\n",
       "      <td>12</td>\n",
       "      <td>2009-12-01 07:45:00</td>\n",
       "      <td>6.75</td>\n",
       "      <td>13085.0</td>\n",
       "      <td>United Kingdom</td>\n",
       "    </tr>\n",
       "    <tr>\n",
       "      <th>3</th>\n",
       "      <td>489434</td>\n",
       "      <td>22041</td>\n",
       "      <td>RECORD FRAME 7\" SINGLE SIZE</td>\n",
       "      <td>48</td>\n",
       "      <td>2009-12-01 07:45:00</td>\n",
       "      <td>2.10</td>\n",
       "      <td>13085.0</td>\n",
       "      <td>United Kingdom</td>\n",
       "    </tr>\n",
       "    <tr>\n",
       "      <th>4</th>\n",
       "      <td>489434</td>\n",
       "      <td>21232</td>\n",
       "      <td>STRAWBERRY CERAMIC TRINKET BOX</td>\n",
       "      <td>24</td>\n",
       "      <td>2009-12-01 07:45:00</td>\n",
       "      <td>1.25</td>\n",
       "      <td>13085.0</td>\n",
       "      <td>United Kingdom</td>\n",
       "    </tr>\n",
       "  </tbody>\n",
       "</table>\n",
       "</div>"
      ],
      "text/plain": [
       "  Invoice StockCode                          Description  Quantity  \\\n",
       "0  489434     85048  15CM CHRISTMAS GLASS BALL 20 LIGHTS        12   \n",
       "1  489434    79323P                   PINK CHERRY LIGHTS        12   \n",
       "2  489434    79323W                  WHITE CHERRY LIGHTS        12   \n",
       "3  489434     22041         RECORD FRAME 7\" SINGLE SIZE         48   \n",
       "4  489434     21232       STRAWBERRY CERAMIC TRINKET BOX        24   \n",
       "\n",
       "          InvoiceDate  Price  Customer ID         Country  \n",
       "0 2009-12-01 07:45:00   6.95      13085.0  United Kingdom  \n",
       "1 2009-12-01 07:45:00   6.75      13085.0  United Kingdom  \n",
       "2 2009-12-01 07:45:00   6.75      13085.0  United Kingdom  \n",
       "3 2009-12-01 07:45:00   2.10      13085.0  United Kingdom  \n",
       "4 2009-12-01 07:45:00   1.25      13085.0  United Kingdom  "
      ]
     },
     "execution_count": 4,
     "metadata": {},
     "output_type": "execute_result"
    }
   ],
   "source": [
    "retail_df.head()"
   ]
  },
  {
   "cell_type": "code",
   "execution_count": 5,
   "id": "b37046bd",
   "metadata": {},
   "outputs": [
    {
     "data": {
      "text/plain": [
       "(525461, 8)"
      ]
     },
     "execution_count": 5,
     "metadata": {},
     "output_type": "execute_result"
    }
   ],
   "source": [
    "retail_df.shape"
   ]
  },
  {
   "cell_type": "code",
   "execution_count": null,
   "id": "e1921ed1",
   "metadata": {},
   "outputs": [],
   "source": [
    "#combine two sheets to one "
   ]
  },
  {
   "cell_type": "markdown",
   "id": "edcfc974",
   "metadata": {},
   "source": [
    "## Data Clean-up"
   ]
  },
  {
   "cell_type": "markdown",
   "id": "7018183f",
   "metadata": {},
   "source": [
    "Steps:\n",
    "1. Handling negative data (quantities & price) \n",
    "2. Dropping NaN values \n",
    "3. Removing Duplicates \n",
    "5. Handling incomplete data \n",
    "4. Renaming columns\n",
    "5. Splitting columns (invoice date) \n",
    "6. Adding new columns (total sales value)"
   ]
  },
  {
   "cell_type": "code",
   "execution_count": null,
   "id": "c4c1eea7",
   "metadata": {},
   "outputs": [],
   "source": [
    "CustomerID (has several invoices, purchased products)..check unique values "
   ]
  },
  {
   "cell_type": "code",
   "execution_count": null,
   "id": "98a6ead2",
   "metadata": {},
   "outputs": [],
   "source": [
    "Countries (EIRE = Ireland, RSA = Republic of South Africa)"
   ]
  },
  {
   "cell_type": "code",
   "execution_count": null,
   "id": "f3d14d20",
   "metadata": {},
   "outputs": [],
   "source": [
    "Price (Remove negative values / quantaties)"
   ]
  },
  {
   "cell_type": "code",
   "execution_count": null,
   "id": "f112f991",
   "metadata": {},
   "outputs": [],
   "source": [
    "Invoice data (1. Dec 2009 - 23. May 2010) + (1. Dec 2010 - 6. Jun 2011)"
   ]
  },
  {
   "cell_type": "code",
   "execution_count": null,
   "id": "3eb8c5f5",
   "metadata": {},
   "outputs": [],
   "source": [
    "Decription (Remove \"???\" & Numbers, lower cases, check unique values, NaNs)"
   ]
  },
  {
   "cell_type": "code",
   "execution_count": null,
   "id": "091ad7e7",
   "metadata": {},
   "outputs": [],
   "source": []
  },
  {
   "cell_type": "code",
   "execution_count": null,
   "id": "4c4f1ac3",
   "metadata": {},
   "outputs": [],
   "source": [
    "\n",
    "\"\"\"\n",
    "def clean_data(df):\n",
    "    df.columns=[e.lower().replace(' ', '_') for e in df.columns]\n",
    "    df=df.drop(columns=['unnamed:_0', 'vehicle_type',\"customer\",\"number_of_open_complaints\"])\n",
    "    df=df.dropna()\n",
    "    df=df[df['income']>0]\n",
    "    df[\"total_claim_amount\"]=round(df[\"total_claim_amount\"],0)\n",
    "    df[\"customer_lifetime_value\"]=round(df[\"customer_lifetime_value\"],0)\n",
    "    df['effective_to_date']=pd.to_datetime(df['effective_to_date'], errors='coerce')\n",
    "    df[\"month\"]=list(map(lambda date:date.strftime(format=\"%B\"),df[\"effective_to_date\"]))\n",
    "    return df\"\"\""
   ]
  },
  {
   "cell_type": "markdown",
   "id": "d23a5d68",
   "metadata": {},
   "source": [
    "## What is CLV?"
   ]
  },
  {
   "cell_type": "markdown",
   "id": "a05d8a26",
   "metadata": {},
   "source": [
    "Explanation, Example, Formular"
   ]
  },
  {
   "cell_type": "code",
   "execution_count": null,
   "id": "e1958bfa",
   "metadata": {},
   "outputs": [],
   "source": []
  },
  {
   "cell_type": "code",
   "execution_count": null,
   "id": "6aa69afe",
   "metadata": {},
   "outputs": [],
   "source": [
    "## EDA "
   ]
  },
  {
   "cell_type": "code",
   "execution_count": null,
   "id": "e0812ebb",
   "metadata": {},
   "outputs": [],
   "source": [
    "## Data Processing & Transformation"
   ]
  },
  {
   "cell_type": "code",
   "execution_count": null,
   "id": "dd81d735",
   "metadata": {},
   "outputs": [],
   "source": [
    "## Feature Engineering"
   ]
  },
  {
   "cell_type": "code",
   "execution_count": null,
   "id": "c5e66379",
   "metadata": {},
   "outputs": [],
   "source": [
    "## Applying Model "
   ]
  },
  {
   "cell_type": "code",
   "execution_count": null,
   "id": "08143f4d",
   "metadata": {},
   "outputs": [],
   "source": [
    "## Evaluating Model "
   ]
  },
  {
   "cell_type": "code",
   "execution_count": null,
   "id": "6c96e6f1",
   "metadata": {},
   "outputs": [],
   "source": [
    "## Interpreting Results "
   ]
  },
  {
   "cell_type": "code",
   "execution_count": null,
   "id": "18173a32",
   "metadata": {},
   "outputs": [],
   "source": [
    "## Recommending Actions "
   ]
  }
 ],
 "metadata": {
  "kernelspec": {
   "display_name": "Python 3",
   "language": "python",
   "name": "python3"
  },
  "language_info": {
   "codemirror_mode": {
    "name": "ipython",
    "version": 3
   },
   "file_extension": ".py",
   "mimetype": "text/x-python",
   "name": "python",
   "nbconvert_exporter": "python",
   "pygments_lexer": "ipython3",
   "version": "3.8.8"
  }
 },
 "nbformat": 4,
 "nbformat_minor": 5
}

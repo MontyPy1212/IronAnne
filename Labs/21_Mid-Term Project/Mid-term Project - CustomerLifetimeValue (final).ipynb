{
 "cells": [
  {
   "cell_type": "markdown",
   "metadata": {},
   "source": [
    "# Part I - Introduction"
   ]
  },
  {
   "cell_type": "markdown",
   "metadata": {},
   "source": [
    "**Project Goal:** \n",
    "Predicting Customer Lifetime Value (CLV) for an eCommerce company.\n",
    "\n",
    "Background: For any marketing professional it is essential to be able to estimate an expected return from a marketing campaign and a customers' total worth to the business. The CLV is a key metric that helps not only to determine an adequat marketing spend, monitoring acquisition costs for new and identify the high-value customers."
   ]
  },
  {
   "cell_type": "markdown",
   "metadata": {},
   "source": [
    "**Learning Objectives:**\n",
    "1. Prepare transaction data for regression, \n",
    "2. Engineer features for regression analysis, \n",
    "3. Perform and evaluate regression model(s) \n",
    "4. Interpreting results and formulate further recommendations for the marketing department"
   ]
  },
  {
   "cell_type": "markdown",
   "metadata": {},
   "source": [
    "**Predictive Analytics Methods:**\n",
    "- Simple Linear Regression\n",
    "- Multivariate Linear Regression "
   ]
  },
  {
   "cell_type": "markdown",
   "metadata": {},
   "source": [
    "**About the data:**\n",
    "The used Data set features online retail transactions taken between 2010 and 2011 for a UK-based and registered non-store online retailer. It contains all purchases during an eight month period. This Online Retail II data set contains all the transactions occurring for a UK-based and registered, non-store online retail between 01/12/2009 and 09/12/2011. The company mainly sells unique all-occasion gift-ware. Many customers of the company are wholesalers.\n",
    "\n",
    "**Attribute information:**\n",
    "\n",
    "**InvoiceNo:** Invoice number. Nominal, a 6-digit integral number uniquely assigned to each transaction. If this code starts with letter 'c', it indicates a cancellation\n",
    "\n",
    "**StockCode:** Product (item) code. Nominal, a 5-digit integral number uniquely assigned to each distinct product.\n",
    "\n",
    "**Description:** Product (item) name. Nominal\n",
    "\n",
    "**Quantity:** The quantities of each product (item) per transaction. Numeric\n",
    "\n",
    "**InvoiceDate:** Invoice Date and time. Numeric, the day and time when each transaction was generated\n",
    "\n",
    "**UnitPrice:** Unit price. Numeric, Product price per unit in sterling\n",
    "\n",
    "**CustomerID:** Customer number. Nominal, a 5-digit integral number uniquely assigned to each customer\n",
    "\n",
    "**Country:** Country name. Nominal, the name of the country where each customer resides."
   ]
  },
  {
   "cell_type": "markdown",
   "metadata": {},
   "source": [
    "## Import Libraries "
   ]
  },
  {
   "cell_type": "code",
   "execution_count": 5,
   "metadata": {},
   "outputs": [],
   "source": [
    "%matplotlib inline"
   ]
  },
  {
   "cell_type": "code",
   "execution_count": 6,
   "metadata": {},
   "outputs": [],
   "source": [
    "import matplotlib.pyplot as plt\n",
    "import pandas as pd\n",
    "import numpy as np\n",
    "import seaborn as sns"
   ]
  },
  {
   "cell_type": "markdown",
   "metadata": {},
   "source": [
    "## Load Data"
   ]
  },
  {
   "cell_type": "code",
   "execution_count": 40,
   "metadata": {},
   "outputs": [],
   "source": [
    "#df = pd.read_excel('../data/Online Retail.xlsx', sheet_name='Online Retail')\n",
    "df = pd.read_excel('/Users/Annie/Documents/GitHub/IronAnne/Labs/21_Mid-Term Project/online_retail_II_clean_final.xlsx')"
   ]
  },
  {
   "cell_type": "markdown",
   "metadata": {},
   "source": [
    "## EDA"
   ]
  },
  {
   "cell_type": "code",
   "execution_count": 8,
   "metadata": {},
   "outputs": [
    {
     "data": {
      "text/plain": [
       "(785318, 8)"
      ]
     },
     "execution_count": 8,
     "metadata": {},
     "output_type": "execute_result"
    }
   ],
   "source": [
    "df.shape"
   ]
  },
  {
   "cell_type": "code",
   "execution_count": 9,
   "metadata": {
    "scrolled": true
   },
   "outputs": [
    {
     "data": {
      "text/html": [
       "<div>\n",
       "<style scoped>\n",
       "    .dataframe tbody tr th:only-of-type {\n",
       "        vertical-align: middle;\n",
       "    }\n",
       "\n",
       "    .dataframe tbody tr th {\n",
       "        vertical-align: top;\n",
       "    }\n",
       "\n",
       "    .dataframe thead th {\n",
       "        text-align: right;\n",
       "    }\n",
       "</style>\n",
       "<table border=\"1\" class=\"dataframe\">\n",
       "  <thead>\n",
       "    <tr style=\"text-align: right;\">\n",
       "      <th></th>\n",
       "      <th>invoice</th>\n",
       "      <th>stock_code</th>\n",
       "      <th>description</th>\n",
       "      <th>quantity</th>\n",
       "      <th>invoice_date</th>\n",
       "      <th>unit_price</th>\n",
       "      <th>customer_id</th>\n",
       "      <th>country</th>\n",
       "    </tr>\n",
       "  </thead>\n",
       "  <tbody>\n",
       "    <tr>\n",
       "      <th>0</th>\n",
       "      <td>489434</td>\n",
       "      <td>85048</td>\n",
       "      <td>15CM CHRISTMAS GLASS BALL 20 LIGHTS</td>\n",
       "      <td>12</td>\n",
       "      <td>2009-12-01 07:45:00</td>\n",
       "      <td>6.95</td>\n",
       "      <td>13085</td>\n",
       "      <td>United Kingdom</td>\n",
       "    </tr>\n",
       "    <tr>\n",
       "      <th>1</th>\n",
       "      <td>489434</td>\n",
       "      <td>79323P</td>\n",
       "      <td>PINK CHERRY LIGHTS</td>\n",
       "      <td>12</td>\n",
       "      <td>2009-12-01 07:45:00</td>\n",
       "      <td>6.75</td>\n",
       "      <td>13085</td>\n",
       "      <td>United Kingdom</td>\n",
       "    </tr>\n",
       "    <tr>\n",
       "      <th>2</th>\n",
       "      <td>489434</td>\n",
       "      <td>79323W</td>\n",
       "      <td>WHITE CHERRY LIGHTS</td>\n",
       "      <td>12</td>\n",
       "      <td>2009-12-01 07:45:00</td>\n",
       "      <td>6.75</td>\n",
       "      <td>13085</td>\n",
       "      <td>United Kingdom</td>\n",
       "    </tr>\n",
       "    <tr>\n",
       "      <th>3</th>\n",
       "      <td>489434</td>\n",
       "      <td>22041</td>\n",
       "      <td>RECORD FRAME 7\" SINGLE SIZE</td>\n",
       "      <td>48</td>\n",
       "      <td>2009-12-01 07:45:00</td>\n",
       "      <td>2.10</td>\n",
       "      <td>13085</td>\n",
       "      <td>United Kingdom</td>\n",
       "    </tr>\n",
       "    <tr>\n",
       "      <th>4</th>\n",
       "      <td>489434</td>\n",
       "      <td>21232</td>\n",
       "      <td>STRAWBERRY CERAMIC TRINKET BOX</td>\n",
       "      <td>24</td>\n",
       "      <td>2009-12-01 07:45:00</td>\n",
       "      <td>1.25</td>\n",
       "      <td>13085</td>\n",
       "      <td>United Kingdom</td>\n",
       "    </tr>\n",
       "  </tbody>\n",
       "</table>\n",
       "</div>"
      ],
      "text/plain": [
       "   invoice stock_code                          description  quantity  \\\n",
       "0   489434      85048  15CM CHRISTMAS GLASS BALL 20 LIGHTS        12   \n",
       "1   489434     79323P                   PINK CHERRY LIGHTS        12   \n",
       "2   489434     79323W                  WHITE CHERRY LIGHTS        12   \n",
       "3   489434      22041         RECORD FRAME 7\" SINGLE SIZE         48   \n",
       "4   489434      21232       STRAWBERRY CERAMIC TRINKET BOX        24   \n",
       "\n",
       "         invoice_date  unit_price  customer_id         country  \n",
       "0 2009-12-01 07:45:00        6.95        13085  United Kingdom  \n",
       "1 2009-12-01 07:45:00        6.75        13085  United Kingdom  \n",
       "2 2009-12-01 07:45:00        6.75        13085  United Kingdom  \n",
       "3 2009-12-01 07:45:00        2.10        13085  United Kingdom  \n",
       "4 2009-12-01 07:45:00        1.25        13085  United Kingdom  "
      ]
     },
     "execution_count": 9,
     "metadata": {},
     "output_type": "execute_result"
    }
   ],
   "source": [
    "df.head()"
   ]
  },
  {
   "cell_type": "code",
   "execution_count": 10,
   "metadata": {},
   "outputs": [
    {
     "name": "stdout",
     "output_type": "stream",
     "text": [
      "<class 'pandas.core.frame.DataFrame'>\n",
      "RangeIndex: 785318 entries, 0 to 785317\n",
      "Data columns (total 8 columns):\n",
      " #   Column        Non-Null Count   Dtype         \n",
      "---  ------        --------------   -----         \n",
      " 0   invoice       785318 non-null  int64         \n",
      " 1   stock_code    785318 non-null  object        \n",
      " 2   description   785318 non-null  object        \n",
      " 3   quantity      785318 non-null  int64         \n",
      " 4   invoice_date  785318 non-null  datetime64[ns]\n",
      " 5   unit_price    785318 non-null  float64       \n",
      " 6   customer_id   785318 non-null  int64         \n",
      " 7   country       785318 non-null  object        \n",
      "dtypes: datetime64[ns](1), float64(1), int64(3), object(3)\n",
      "memory usage: 47.9+ MB\n"
     ]
    }
   ],
   "source": [
    "df.info()"
   ]
  },
  {
   "cell_type": "code",
   "execution_count": 11,
   "metadata": {},
   "outputs": [
    {
     "data": {
      "text/html": [
       "<div>\n",
       "<style scoped>\n",
       "    .dataframe tbody tr th:only-of-type {\n",
       "        vertical-align: middle;\n",
       "    }\n",
       "\n",
       "    .dataframe tbody tr th {\n",
       "        vertical-align: top;\n",
       "    }\n",
       "\n",
       "    .dataframe thead th {\n",
       "        text-align: right;\n",
       "    }\n",
       "</style>\n",
       "<table border=\"1\" class=\"dataframe\">\n",
       "  <thead>\n",
       "    <tr style=\"text-align: right;\">\n",
       "      <th></th>\n",
       "      <th>invoice</th>\n",
       "      <th>quantity</th>\n",
       "      <th>unit_price</th>\n",
       "      <th>customer_id</th>\n",
       "    </tr>\n",
       "  </thead>\n",
       "  <tbody>\n",
       "    <tr>\n",
       "      <th>count</th>\n",
       "      <td>785318.000000</td>\n",
       "      <td>785318.000000</td>\n",
       "      <td>785318.000000</td>\n",
       "      <td>785318.000000</td>\n",
       "    </tr>\n",
       "    <tr>\n",
       "      <th>mean</th>\n",
       "      <td>536451.265673</td>\n",
       "      <td>13.247991</td>\n",
       "      <td>2.938092</td>\n",
       "      <td>15338.524703</td>\n",
       "    </tr>\n",
       "    <tr>\n",
       "      <th>std</th>\n",
       "      <td>26163.977050</td>\n",
       "      <td>112.997992</td>\n",
       "      <td>4.302194</td>\n",
       "      <td>1693.303093</td>\n",
       "    </tr>\n",
       "    <tr>\n",
       "      <th>min</th>\n",
       "      <td>489434.000000</td>\n",
       "      <td>1.000000</td>\n",
       "      <td>0.030000</td>\n",
       "      <td>12346.000000</td>\n",
       "    </tr>\n",
       "    <tr>\n",
       "      <th>25%</th>\n",
       "      <td>514369.000000</td>\n",
       "      <td>2.000000</td>\n",
       "      <td>1.250000</td>\n",
       "      <td>13988.000000</td>\n",
       "    </tr>\n",
       "    <tr>\n",
       "      <th>50%</th>\n",
       "      <td>536405.000000</td>\n",
       "      <td>5.000000</td>\n",
       "      <td>1.950000</td>\n",
       "      <td>15281.000000</td>\n",
       "    </tr>\n",
       "    <tr>\n",
       "      <th>75%</th>\n",
       "      <td>560018.000000</td>\n",
       "      <td>12.000000</td>\n",
       "      <td>3.750000</td>\n",
       "      <td>16806.000000</td>\n",
       "    </tr>\n",
       "    <tr>\n",
       "      <th>max</th>\n",
       "      <td>579885.000000</td>\n",
       "      <td>74215.000000</td>\n",
       "      <td>649.500000</td>\n",
       "      <td>18287.000000</td>\n",
       "    </tr>\n",
       "  </tbody>\n",
       "</table>\n",
       "</div>"
      ],
      "text/plain": [
       "             invoice       quantity     unit_price    customer_id\n",
       "count  785318.000000  785318.000000  785318.000000  785318.000000\n",
       "mean   536451.265673      13.247991       2.938092   15338.524703\n",
       "std     26163.977050     112.997992       4.302194    1693.303093\n",
       "min    489434.000000       1.000000       0.030000   12346.000000\n",
       "25%    514369.000000       2.000000       1.250000   13988.000000\n",
       "50%    536405.000000       5.000000       1.950000   15281.000000\n",
       "75%    560018.000000      12.000000       3.750000   16806.000000\n",
       "max    579885.000000   74215.000000     649.500000   18287.000000"
      ]
     },
     "execution_count": 11,
     "metadata": {},
     "output_type": "execute_result"
    }
   ],
   "source": [
    "df.describe()"
   ]
  },
  {
   "cell_type": "code",
   "execution_count": 12,
   "metadata": {},
   "outputs": [
    {
     "data": {
      "text/plain": [
       "5824"
      ]
     },
     "execution_count": 12,
     "metadata": {},
     "output_type": "execute_result"
    }
   ],
   "source": [
    "# Check unique customers \n",
    "df[\"customer_id\"].nunique()"
   ]
  },
  {
   "cell_type": "code",
   "execution_count": 13,
   "metadata": {},
   "outputs": [
    {
     "data": {
      "text/plain": [
       "country\n",
       "Australia                 15\n",
       "Austria                   13\n",
       "Bahrain                    2\n",
       "Belgium                   29\n",
       "Brazil                     2\n",
       "Canada                     5\n",
       "Channel Islands           13\n",
       "Cyprus                    11\n",
       "Czech Republic             1\n",
       "Denmark                   11\n",
       "EIRE                       3\n",
       "European Community         1\n",
       "Finland                   12\n",
       "France                    92\n",
       "Germany                  106\n",
       "Greece                     4\n",
       "Iceland                    1\n",
       "Israel                     4\n",
       "Italy                     17\n",
       "Japan                     10\n",
       "Korea                      2\n",
       "Lebanon                    1\n",
       "Lithuania                  1\n",
       "Malta                      2\n",
       "Netherlands               22\n",
       "Nigeria                    1\n",
       "Norway                    12\n",
       "Poland                     6\n",
       "Portugal                  23\n",
       "RSA                        2\n",
       "Saudi Arabia               1\n",
       "Singapore                  1\n",
       "Spain                     37\n",
       "Sweden                    19\n",
       "Switzerland               22\n",
       "Thailand                   1\n",
       "USA                        7\n",
       "United Arab Emirates       4\n",
       "United Kingdom          5313\n",
       "Unspecified                6\n",
       "West Indies                1\n",
       "Name: customer_id, dtype: int64"
      ]
     },
     "execution_count": 13,
     "metadata": {},
     "output_type": "execute_result"
    }
   ],
   "source": [
    "# customers per countries\n",
    "customers_per_country = df.groupby(\"country\").customer_id.nunique()\n",
    "customers_per_country"
   ]
  },
  {
   "cell_type": "code",
   "execution_count": 14,
   "metadata": {},
   "outputs": [
    {
     "data": {
      "text/plain": [
       "41"
      ]
     },
     "execution_count": 14,
     "metadata": {},
     "output_type": "execute_result"
    }
   ],
   "source": [
    "# unique countries \n",
    "df[\"country\"].nunique()"
   ]
  },
  {
   "cell_type": "markdown",
   "metadata": {},
   "source": [
    "### Unit price of selling products "
   ]
  },
  {
   "cell_type": "code",
   "execution_count": 15,
   "metadata": {},
   "outputs": [
    {
     "data": {
      "text/plain": [
       "count    785318.000000\n",
       "mean          2.938092\n",
       "std           4.302194\n",
       "min           0.030000\n",
       "50%           1.950000\n",
       "99%          12.750000\n",
       "max         649.500000\n",
       "Name: unit_price, dtype: float64"
      ]
     },
     "execution_count": 15,
     "metadata": {},
     "output_type": "execute_result"
    }
   ],
   "source": [
    "df[\"unit_price\"].describe(percentiles = [.99])"
   ]
  },
  {
   "cell_type": "code",
   "execution_count": 16,
   "metadata": {},
   "outputs": [
    {
     "data": {
      "image/png": "[encoded data removed]",
      "text/plain": [
       "<Figure size 432x288 with 1 Axes>"
      ]
     },
     "metadata": {
      "needs_background": "light"
     },
     "output_type": "display_data"
    }
   ],
   "source": [
    "# Let's look at the price distribution of the products\n",
    "bins = np.arange(-10, 21, 2)\n",
    "ticks = np.arange(10, 21, 2)\n",
    "\n",
    "plt.hist(data = df, x = \"unit_price\", bins=bins, color = \"cyan\")\n",
    "plt.xticks(ticks, ticks)\n",
    "plt.xlabel(\"unit_price\", fontsize=14)\n",
    "plt.ylabel(\"count\", fontsize=14)\n",
    "plt.title(\"Unit price distribution\", fontsize=16);"
   ]
  },
  {
   "cell_type": "markdown",
   "metadata": {},
   "source": [
    "### Quantity of Products "
   ]
  },
  {
   "cell_type": "code",
   "execution_count": 17,
   "metadata": {},
   "outputs": [
    {
     "data": {
      "text/plain": [
       "count    785318.000000\n",
       "mean         13.247991\n",
       "std         112.997992\n",
       "min           1.000000\n",
       "50%           5.000000\n",
       "99%         128.000000\n",
       "max       74215.000000\n",
       "Name: quantity, dtype: float64"
      ]
     },
     "execution_count": 17,
     "metadata": {},
     "output_type": "execute_result"
    }
   ],
   "source": [
    "df[\"quantity\"].describe(percentiles = [.99])"
   ]
  },
  {
   "cell_type": "code",
   "execution_count": 18,
   "metadata": {},
   "outputs": [
    {
     "data": {
      "text/plain": [
       "Text(0.5, 1.0, 'Distribution of quantity of products')"
      ]
     },
     "execution_count": 18,
     "metadata": {},
     "output_type": "execute_result"
    },
    {
     "data": {
      "image/png": "[encoded data removed]",
      "text/plain": [
       "<Figure size 432x288 with 1 Axes>"
      ]
     },
     "metadata": {
      "needs_background": "light"
     },
     "output_type": "display_data"
    }
   ],
   "source": [
    "bins = np.arange(-20, 110, 10)\n",
    "ticks = np.arange(-20, 110, 10)\n",
    "plt.hist(data = df, x = \"quantity\", bins = bins, color = \"cyan\")\n",
    "plt.xticks(ticks, ticks)\n",
    "plt.xlabel(\"quantity\", fontsize=14)\n",
    "plt.ylabel(\"count\", fontsize=14)\n",
    "plt.title(\"Distribution of quantity of products\", fontsize = 16)"
   ]
  },
  {
   "cell_type": "code",
   "execution_count": 19,
   "metadata": {},
   "outputs": [
    {
     "data": {
      "text/plain": [
       "(785318, 8)"
      ]
     },
     "execution_count": 19,
     "metadata": {},
     "output_type": "execute_result"
    }
   ],
   "source": [
    "df.shape"
   ]
  },
  {
   "cell_type": "code",
   "execution_count": 20,
   "metadata": {},
   "outputs": [],
   "source": [
    "#### Conclusion: negative quantities may lead to distorted results in the model "
   ]
  },
  {
   "cell_type": "markdown",
   "metadata": {},
   "source": [
    "### Number of Purchases"
   ]
  },
  {
   "cell_type": "code",
   "execution_count": 21,
   "metadata": {},
   "outputs": [
    {
     "data": {
      "text/plain": [
       "35815"
      ]
     },
     "execution_count": 21,
     "metadata": {},
     "output_type": "execute_result"
    }
   ],
   "source": [
    "df['invoice'].nunique()"
   ]
  },
  {
   "cell_type": "markdown",
   "metadata": {},
   "source": [
    "## Data Clean-Up"
   ]
  },
  {
   "cell_type": "markdown",
   "metadata": {},
   "source": [
    "### Dealing with Negative Quantity / Price"
   ]
  },
  {
   "cell_type": "code",
   "execution_count": 22,
   "metadata": {},
   "outputs": [
    {
     "data": {
      "text/plain": [
       "(0, 8)"
      ]
     },
     "execution_count": 22,
     "metadata": {},
     "output_type": "execute_result"
    }
   ],
   "source": [
    "df.loc[df['quantity'] <= 0].shape"
   ]
  },
  {
   "cell_type": "code",
   "execution_count": 23,
   "metadata": {},
   "outputs": [
    {
     "data": {
      "text/plain": [
       "(785318, 8)"
      ]
     },
     "execution_count": 23,
     "metadata": {},
     "output_type": "execute_result"
    }
   ],
   "source": [
    "df.shape"
   ]
  },
  {
   "cell_type": "code",
   "execution_count": 24,
   "metadata": {},
   "outputs": [],
   "source": [
    "df = df.loc[df['quantity'] > 0]"
   ]
  },
  {
   "cell_type": "code",
   "execution_count": 25,
   "metadata": {},
   "outputs": [
    {
     "data": {
      "text/plain": [
       "(785318, 8)"
      ]
     },
     "execution_count": 25,
     "metadata": {},
     "output_type": "execute_result"
    }
   ],
   "source": [
    "df.shape"
   ]
  },
  {
   "cell_type": "code",
   "execution_count": 26,
   "metadata": {},
   "outputs": [
    {
     "data": {
      "text/plain": [
       "0         False\n",
       "1         False\n",
       "2         False\n",
       "3         False\n",
       "4         False\n",
       "          ...  \n",
       "785313    False\n",
       "785314    False\n",
       "785315    False\n",
       "785316    False\n",
       "785317    False\n",
       "Name: unit_price, Length: 785318, dtype: bool"
      ]
     },
     "execution_count": 26,
     "metadata": {},
     "output_type": "execute_result"
    }
   ],
   "source": [
    "negative = df[\"unit_price\"] <=0\n",
    "negative\n",
    "\n",
    "#df = df.loc[df[\"unit_price\"] != 0]"
   ]
  },
  {
   "cell_type": "markdown",
   "metadata": {},
   "source": [
    "#### Drop NaN (Missing Customer ID) "
   ]
  },
  {
   "cell_type": "code",
   "execution_count": 27,
   "metadata": {},
   "outputs": [
    {
     "data": {
      "text/plain": [
       "0"
      ]
     },
     "execution_count": 27,
     "metadata": {},
     "output_type": "execute_result"
    }
   ],
   "source": [
    "pd.isnull(df['customer_id']).sum()"
   ]
  },
  {
   "cell_type": "code",
   "execution_count": 28,
   "metadata": {},
   "outputs": [],
   "source": [
    "df = df[pd.notnull(df['customer_id'])]"
   ]
  },
  {
   "cell_type": "code",
   "execution_count": 29,
   "metadata": {},
   "outputs": [],
   "source": [
    "#invoice: the letter \"C\" indicates a cancelation, hence the values which do not contain \"C\" code are selected\n",
    "df = df[df[\"invoice\"].astype(str).str.contains(\"C\", na=False)]"
   ]
  },
  {
   "cell_type": "markdown",
   "metadata": {},
   "source": [
    "#### Excluding Incomplete Month"
   ]
  },
  {
   "cell_type": "code",
   "execution_count": 30,
   "metadata": {},
   "outputs": [
    {
     "name": "stdout",
     "output_type": "stream",
     "text": [
      "Date Range: NaT ~ NaT\n"
     ]
    }
   ],
   "source": [
    "print('Date Range: %s ~ %s' % (df['invoice_date'].min(), df['invoice_date'].max()))"
   ]
  },
  {
   "cell_type": "code",
   "execution_count": 31,
   "metadata": {},
   "outputs": [
    {
     "data": {
      "text/plain": [
       "(0, 8)"
      ]
     },
     "execution_count": 31,
     "metadata": {},
     "output_type": "execute_result"
    }
   ],
   "source": [
    "df.loc[df['invoice_date'] >= '2011-12-01'].shape"
   ]
  },
  {
   "cell_type": "code",
   "execution_count": 32,
   "metadata": {},
   "outputs": [
    {
     "data": {
      "text/plain": [
       "(0, 8)"
      ]
     },
     "execution_count": 32,
     "metadata": {},
     "output_type": "execute_result"
    }
   ],
   "source": [
    "df.shape"
   ]
  },
  {
   "cell_type": "code",
   "execution_count": 33,
   "metadata": {},
   "outputs": [],
   "source": [
    "df = df.loc[df['invoice_date'] < '2011-12-01']"
   ]
  },
  {
   "cell_type": "code",
   "execution_count": 34,
   "metadata": {},
   "outputs": [
    {
     "data": {
      "text/plain": [
       "(0, 8)"
      ]
     },
     "execution_count": 34,
     "metadata": {},
     "output_type": "execute_result"
    }
   ],
   "source": [
    "df.shape"
   ]
  },
  {
   "cell_type": "markdown",
   "metadata": {},
   "source": [
    "#### Adjust Wrong Data Types "
   ]
  },
  {
   "cell_type": "code",
   "execution_count": 35,
   "metadata": {},
   "outputs": [],
   "source": [
    "#convert customer_id\n",
    "df = df.astype({\"customer_id\":\"int\"})"
   ]
  },
  {
   "cell_type": "code",
   "execution_count": 36,
   "metadata": {},
   "outputs": [],
   "source": [
    "#remove time stamp from invoice_date \n",
    "df[\"invoice_date\"] = df[[\"invoice_date\"]].apply(pd.to_datetime)\n",
    "\n",
    "#retail_df[\"invoice_date\"] = pd.to_datetime(df[\"invoice_date\"], infer_datetime_format=True).dt.date"
   ]
  },
  {
   "cell_type": "code",
   "execution_count": 39,
   "metadata": {},
   "outputs": [
    {
     "data": {
      "text/plain": [
       "dtype('<M8[ns]')"
      ]
     },
     "metadata": {},
     "output_type": "display_data"
    }
   ],
   "source": [
    "display(df[\"invoice_date\"].dtypes)"
   ]
  },
  {
   "cell_type": "markdown",
   "metadata": {},
   "source": [
    "## START HERE"
   ]
  },
  {
   "cell_type": "markdown",
   "metadata": {},
   "source": [
    "#### Add new column - Total Sales"
   ]
  },
  {
   "cell_type": "code",
   "execution_count": 21,
   "metadata": {},
   "outputs": [],
   "source": [
    "df['sales'] = df['quantity'] * df['unit_price']"
   ]
  },
  {
   "cell_type": "code",
   "execution_count": 22,
   "metadata": {},
   "outputs": [
    {
     "data": {
      "text/html": [
       "<div>\n",
       "<style scoped>\n",
       "    .dataframe tbody tr th:only-of-type {\n",
       "        vertical-align: middle;\n",
       "    }\n",
       "\n",
       "    .dataframe tbody tr th {\n",
       "        vertical-align: top;\n",
       "    }\n",
       "\n",
       "    .dataframe thead th {\n",
       "        text-align: right;\n",
       "    }\n",
       "</style>\n",
       "<table border=\"1\" class=\"dataframe\">\n",
       "  <thead>\n",
       "    <tr style=\"text-align: right;\">\n",
       "      <th></th>\n",
       "      <th>invoice</th>\n",
       "      <th>stock_code</th>\n",
       "      <th>description</th>\n",
       "      <th>quantity</th>\n",
       "      <th>invoice_date</th>\n",
       "      <th>unit_price</th>\n",
       "      <th>customer_id</th>\n",
       "      <th>country</th>\n",
       "      <th>sales</th>\n",
       "    </tr>\n",
       "  </thead>\n",
       "  <tbody>\n",
       "    <tr>\n",
       "      <th>0</th>\n",
       "      <td>489434</td>\n",
       "      <td>85048</td>\n",
       "      <td>15CM CHRISTMAS GLASS BALL 20 LIGHTS</td>\n",
       "      <td>12</td>\n",
       "      <td>2009-12-01 07:45:00</td>\n",
       "      <td>6.95</td>\n",
       "      <td>13085</td>\n",
       "      <td>United Kingdom</td>\n",
       "      <td>83.4</td>\n",
       "    </tr>\n",
       "    <tr>\n",
       "      <th>1</th>\n",
       "      <td>489434</td>\n",
       "      <td>79323P</td>\n",
       "      <td>PINK CHERRY LIGHTS</td>\n",
       "      <td>12</td>\n",
       "      <td>2009-12-01 07:45:00</td>\n",
       "      <td>6.75</td>\n",
       "      <td>13085</td>\n",
       "      <td>United Kingdom</td>\n",
       "      <td>81.0</td>\n",
       "    </tr>\n",
       "    <tr>\n",
       "      <th>2</th>\n",
       "      <td>489434</td>\n",
       "      <td>79323W</td>\n",
       "      <td>WHITE CHERRY LIGHTS</td>\n",
       "      <td>12</td>\n",
       "      <td>2009-12-01 07:45:00</td>\n",
       "      <td>6.75</td>\n",
       "      <td>13085</td>\n",
       "      <td>United Kingdom</td>\n",
       "      <td>81.0</td>\n",
       "    </tr>\n",
       "    <tr>\n",
       "      <th>3</th>\n",
       "      <td>489434</td>\n",
       "      <td>22041</td>\n",
       "      <td>RECORD FRAME 7\" SINGLE SIZE</td>\n",
       "      <td>48</td>\n",
       "      <td>2009-12-01 07:45:00</td>\n",
       "      <td>2.10</td>\n",
       "      <td>13085</td>\n",
       "      <td>United Kingdom</td>\n",
       "      <td>100.8</td>\n",
       "    </tr>\n",
       "    <tr>\n",
       "      <th>4</th>\n",
       "      <td>489434</td>\n",
       "      <td>21232</td>\n",
       "      <td>STRAWBERRY CERAMIC TRINKET BOX</td>\n",
       "      <td>24</td>\n",
       "      <td>2009-12-01 07:45:00</td>\n",
       "      <td>1.25</td>\n",
       "      <td>13085</td>\n",
       "      <td>United Kingdom</td>\n",
       "      <td>30.0</td>\n",
       "    </tr>\n",
       "  </tbody>\n",
       "</table>\n",
       "</div>"
      ],
      "text/plain": [
       "   invoice stock_code                          description  quantity  \\\n",
       "0   489434      85048  15CM CHRISTMAS GLASS BALL 20 LIGHTS        12   \n",
       "1   489434     79323P                   PINK CHERRY LIGHTS        12   \n",
       "2   489434     79323W                  WHITE CHERRY LIGHTS        12   \n",
       "3   489434      22041         RECORD FRAME 7\" SINGLE SIZE         48   \n",
       "4   489434      21232       STRAWBERRY CERAMIC TRINKET BOX        24   \n",
       "\n",
       "         invoice_date  unit_price  customer_id         country  sales  \n",
       "0 2009-12-01 07:45:00        6.95        13085  United Kingdom   83.4  \n",
       "1 2009-12-01 07:45:00        6.75        13085  United Kingdom   81.0  \n",
       "2 2009-12-01 07:45:00        6.75        13085  United Kingdom   81.0  \n",
       "3 2009-12-01 07:45:00        2.10        13085  United Kingdom  100.8  \n",
       "4 2009-12-01 07:45:00        1.25        13085  United Kingdom   30.0  "
      ]
     },
     "execution_count": 22,
     "metadata": {},
     "output_type": "execute_result"
    }
   ],
   "source": [
    "df.head()"
   ]
  },
  {
   "cell_type": "markdown",
   "metadata": {},
   "source": [
    "#### - Per Order Data"
   ]
  },
  {
   "cell_type": "code",
   "execution_count": 23,
   "metadata": {},
   "outputs": [],
   "source": [
    "orders_df = df.groupby(['customer_id', 'invoice']).agg({\n",
    "    'sales': sum,\n",
    "    'invoice_date': max\n",
    "})"
   ]
  },
  {
   "cell_type": "code",
   "execution_count": 24,
   "metadata": {
    "scrolled": false
   },
   "outputs": [
    {
     "data": {
      "text/html": [
       "<div>\n",
       "<style scoped>\n",
       "    .dataframe tbody tr th:only-of-type {\n",
       "        vertical-align: middle;\n",
       "    }\n",
       "\n",
       "    .dataframe tbody tr th {\n",
       "        vertical-align: top;\n",
       "    }\n",
       "\n",
       "    .dataframe thead th {\n",
       "        text-align: right;\n",
       "    }\n",
       "</style>\n",
       "<table border=\"1\" class=\"dataframe\">\n",
       "  <thead>\n",
       "    <tr style=\"text-align: right;\">\n",
       "      <th></th>\n",
       "      <th></th>\n",
       "      <th>sales</th>\n",
       "      <th>invoice_date</th>\n",
       "    </tr>\n",
       "    <tr>\n",
       "      <th>customer_id</th>\n",
       "      <th>invoice</th>\n",
       "      <th></th>\n",
       "      <th></th>\n",
       "    </tr>\n",
       "  </thead>\n",
       "  <tbody>\n",
       "    <tr>\n",
       "      <th rowspan=\"3\" valign=\"top\">12346</th>\n",
       "      <th>499763</th>\n",
       "      <td>27.05</td>\n",
       "      <td>2010-03-02 13:08:00</td>\n",
       "    </tr>\n",
       "    <tr>\n",
       "      <th>513774</th>\n",
       "      <td>142.31</td>\n",
       "      <td>2010-06-28 13:53:00</td>\n",
       "    </tr>\n",
       "    <tr>\n",
       "      <th>541431</th>\n",
       "      <td>77183.60</td>\n",
       "      <td>2011-01-18 10:01:00</td>\n",
       "    </tr>\n",
       "    <tr>\n",
       "      <th rowspan=\"2\" valign=\"top\">12347</th>\n",
       "      <th>529924</th>\n",
       "      <td>611.53</td>\n",
       "      <td>2010-10-31 14:20:00</td>\n",
       "    </tr>\n",
       "    <tr>\n",
       "      <th>537626</th>\n",
       "      <td>1423.58</td>\n",
       "      <td>2010-12-07 14:57:00</td>\n",
       "    </tr>\n",
       "    <tr>\n",
       "      <th>...</th>\n",
       "      <th>...</th>\n",
       "      <td>...</td>\n",
       "      <td>...</td>\n",
       "    </tr>\n",
       "    <tr>\n",
       "      <th rowspan=\"5\" valign=\"top\">18287</th>\n",
       "      <th>523290</th>\n",
       "      <td>30.60</td>\n",
       "      <td>2010-09-21 12:19:00</td>\n",
       "    </tr>\n",
       "    <tr>\n",
       "      <th>534346</th>\n",
       "      <td>331.50</td>\n",
       "      <td>2010-11-22 11:51:00</td>\n",
       "    </tr>\n",
       "    <tr>\n",
       "      <th>554065</th>\n",
       "      <td>765.28</td>\n",
       "      <td>2011-05-22 10:39:00</td>\n",
       "    </tr>\n",
       "    <tr>\n",
       "      <th>570715</th>\n",
       "      <td>1001.32</td>\n",
       "      <td>2011-10-12 10:23:00</td>\n",
       "    </tr>\n",
       "    <tr>\n",
       "      <th>573167</th>\n",
       "      <td>70.68</td>\n",
       "      <td>2011-10-28 09:29:00</td>\n",
       "    </tr>\n",
       "  </tbody>\n",
       "</table>\n",
       "<p>35815 rows × 2 columns</p>\n",
       "</div>"
      ],
      "text/plain": [
       "                        sales        invoice_date\n",
       "customer_id invoice                              \n",
       "12346       499763      27.05 2010-03-02 13:08:00\n",
       "            513774     142.31 2010-06-28 13:53:00\n",
       "            541431   77183.60 2011-01-18 10:01:00\n",
       "12347       529924     611.53 2010-10-31 14:20:00\n",
       "            537626    1423.58 2010-12-07 14:57:00\n",
       "...                       ...                 ...\n",
       "18287       523290      30.60 2010-09-21 12:19:00\n",
       "            534346     331.50 2010-11-22 11:51:00\n",
       "            554065     765.28 2011-05-22 10:39:00\n",
       "            570715    1001.32 2011-10-12 10:23:00\n",
       "            573167      70.68 2011-10-28 09:29:00\n",
       "\n",
       "[35815 rows x 2 columns]"
      ]
     },
     "execution_count": 24,
     "metadata": {},
     "output_type": "execute_result"
    }
   ],
   "source": [
    "orders_df"
   ]
  },
  {
   "cell_type": "markdown",
   "metadata": {},
   "source": [
    "## Summary \n",
    "\n",
    "1. Small number of clients except UK (e. g. Ireland has 2nd highest revenue, but only 3 customers) --> Decision: Focus on the UK (only) \n",
    "\n",
    "2. Negative quantity of products --> Decision: Delete negative quantities\n",
    "\n",
    "3. Removed rows where price less than or equal 0 \n",
    "\n",
    "4. Dropped Incomplete Data (many blanks in Customer_id)\n",
    "\n",
    "6. Dropped negative quantities\n",
    "\n",
    "7. Added new revenue column for further analysis"
   ]
  },
  {
   "cell_type": "markdown",
   "metadata": {},
   "source": [
    "# 3. Data Analysis"
   ]
  },
  {
   "cell_type": "markdown",
   "metadata": {},
   "source": [
    "#### Time-series Number of Orders"
   ]
  },
  {
   "cell_type": "code",
   "execution_count": null,
   "metadata": {},
   "outputs": [],
   "source": [
    "# function resamples and converts time series data into a certain frequency "
   ]
  },
  {
   "cell_type": "code",
   "execution_count": 227,
   "metadata": {},
   "outputs": [],
   "source": [
    "monthly_orders_df = df.set_index('invoice_date')['invoice'].resample('M').nunique()"
   ]
  },
  {
   "cell_type": "code",
   "execution_count": 228,
   "metadata": {},
   "outputs": [
    {
     "data": {
      "text/plain": [
       "invoice_date\n",
       "2009-12-31    1497\n",
       "2010-01-31     959\n",
       "2010-02-28    1093\n",
       "2010-03-31    1509\n",
       "2010-04-30    1315\n",
       "2010-05-31    1365\n",
       "2010-06-30    1479\n",
       "2010-07-31    1362\n",
       "2010-08-31    1276\n",
       "2010-09-30    1659\n",
       "2010-10-31    2108\n",
       "2010-11-30    2570\n",
       "2010-12-31    1394\n",
       "2011-01-31     983\n",
       "2011-02-28     992\n",
       "2011-03-31    1312\n",
       "2011-04-30    1139\n",
       "2011-05-31    1544\n",
       "2011-06-30    1390\n",
       "2011-07-31    1321\n",
       "2011-08-31    1267\n",
       "2011-09-30    1739\n",
       "2011-10-31    1902\n",
       "2011-11-30    2640\n",
       "Freq: M, Name: invoice, dtype: int64"
      ]
     },
     "execution_count": 228,
     "metadata": {},
     "output_type": "execute_result"
    }
   ],
   "source": [
    "monthly_orders_df"
   ]
  },
  {
   "cell_type": "code",
   "execution_count": 229,
   "metadata": {},
   "outputs": [
    {
     "data": {
      "image/png": "[encoded data removed]",
      "text/plain": [
       "<Figure size 720x504 with 1 Axes>"
      ]
     },
     "metadata": {
      "needs_background": "light"
     },
     "output_type": "display_data"
    }
   ],
   "source": [
    "ax = pd.DataFrame(monthly_orders_df.values).plot(\n",
    "    grid=True,\n",
    "    figsize=(10,7),\n",
    "    legend=False\n",
    ")\n",
    "\n",
    "ax.set_xlabel('date')\n",
    "ax.set_ylabel('number of orders/invoices')\n",
    "ax.set_title('Total Number of Orders Over Time')\n",
    "\n",
    "plt.xticks(\n",
    "    range(len(monthly_orders_df.index)), \n",
    "    [x.strftime('%m.%Y') for x in monthly_orders_df.index], \n",
    "    rotation=45\n",
    ")\n",
    "\n",
    "plt.show()"
   ]
  },
  {
   "cell_type": "markdown",
   "metadata": {},
   "source": [
    "#### Time-series Number of Revenue"
   ]
  },
  {
   "cell_type": "code",
   "execution_count": 230,
   "metadata": {},
   "outputs": [],
   "source": [
    "monthly_revenue_df = df.set_index('invoice_date')['sales'].resample('M').sum()"
   ]
  },
  {
   "cell_type": "code",
   "execution_count": 231,
   "metadata": {},
   "outputs": [
    {
     "data": {
      "text/plain": [
       "invoice_date\n",
       "2009-12-31     681066.22\n",
       "2010-01-31     535229.37\n",
       "2010-02-28     499749.68\n",
       "2010-03-31     668577.19\n",
       "2010-04-30     587753.77\n",
       "2010-05-31     594886.54\n",
       "2010-06-30     631504.85\n",
       "2010-07-31     583388.53\n",
       "2010-08-31     596579.22\n",
       "2010-09-30     808145.06\n",
       "2010-10-31    1015124.74\n",
       "2010-11-30    1161854.41\n",
       "2010-12-31     877014.47\n",
       "2011-01-31     564026.64\n",
       "2011-02-28     443346.02\n",
       "2011-03-31     584562.85\n",
       "2011-04-30     455266.91\n",
       "2011-05-31     660466.90\n",
       "2011-06-30     654282.56\n",
       "2011-07-31     592566.90\n",
       "2011-08-31     636672.24\n",
       "2011-09-30     940810.81\n",
       "2011-10-31    1005519.90\n",
       "2011-11-30    1141746.77\n",
       "Freq: M, Name: sales, dtype: float64"
      ]
     },
     "execution_count": 231,
     "metadata": {},
     "output_type": "execute_result"
    }
   ],
   "source": [
    "monthly_revenue_df"
   ]
  },
  {
   "cell_type": "code",
   "execution_count": 232,
   "metadata": {},
   "outputs": [
    {
     "data": {
      "image/png": "[encoded data removed]",
      "text/plain": [
       "<Figure size 720x504 with 1 Axes>"
      ]
     },
     "metadata": {
      "needs_background": "light"
     },
     "output_type": "display_data"
    }
   ],
   "source": [
    "ax = pd.DataFrame(monthly_revenue_df.values).plot(\n",
    "    grid=True,\n",
    "    figsize=(10,7),\n",
    "    legend=False\n",
    ")\n",
    "\n",
    "ax.set_xlabel('date')\n",
    "ax.set_ylabel('sales')\n",
    "ax.set_title('Total Revenue Over Time')\n",
    "\n",
    "ax.set_ylim([0, max(monthly_revenue_df.values)+100000])\n",
    "\n",
    "plt.xticks(\n",
    "    range(len(monthly_revenue_df.index)), \n",
    "    [x.strftime('%m.%Y') for x in monthly_revenue_df.index], \n",
    "    rotation=45\n",
    ")\n",
    "\n",
    "plt.show()"
   ]
  },
  {
   "cell_type": "markdown",
   "metadata": {},
   "source": [
    "#### Time-series Repeat Customers"
   ]
  },
  {
   "cell_type": "code",
   "execution_count": 233,
   "metadata": {},
   "outputs": [],
   "source": [
    "invoice_customer_df = df.groupby(\n",
    "    by=['invoice', 'invoice_date']\n",
    ").agg({\n",
    "    'sales': sum,\n",
    "    'customer_id': max,\n",
    "    'country': max,\n",
    "}).reset_index()"
   ]
  },
  {
   "cell_type": "code",
   "execution_count": 235,
   "metadata": {},
   "outputs": [],
   "source": [
    "monthly_repeat_customers_df = invoice_customer_df.set_index('invoice_date').groupby([\n",
    "    pd.Grouper(freq='M'), 'customer_id'\n",
    "]).filter(lambda x: len(x) > 1).resample('M').nunique()['customer_id']"
   ]
  },
  {
   "cell_type": "code",
   "execution_count": 237,
   "metadata": {},
   "outputs": [],
   "source": [
    "monthly_unique_customers_df = df.set_index('invoice_date')['customer_id'].resample('M').nunique()"
   ]
  },
  {
   "cell_type": "code",
   "execution_count": 238,
   "metadata": {},
   "outputs": [
    {
     "data": {
      "text/plain": [
       "invoice_date\n",
       "2009-12-31     951\n",
       "2010-01-31     701\n",
       "2010-02-28     771\n",
       "2010-03-31    1051\n",
       "2010-04-30     939\n",
       "2010-05-31     965\n",
       "2010-06-30    1034\n",
       "2010-07-31     924\n",
       "2010-08-31     910\n",
       "2010-09-30    1136\n",
       "2010-10-31    1492\n",
       "2010-11-30    1606\n",
       "2010-12-31     884\n",
       "2011-01-31     739\n",
       "2011-02-28     757\n",
       "2011-03-31     973\n",
       "2011-04-30     853\n",
       "2011-05-31    1054\n",
       "2011-06-30     990\n",
       "2011-07-31     946\n",
       "2011-08-31     933\n",
       "2011-09-30    1259\n",
       "2011-10-31    1361\n",
       "2011-11-30    1660\n",
       "Freq: M, Name: customer_id, dtype: int64"
      ]
     },
     "execution_count": 238,
     "metadata": {},
     "output_type": "execute_result"
    }
   ],
   "source": [
    "monthly_unique_customers_df"
   ]
  },
  {
   "cell_type": "code",
   "execution_count": 239,
   "metadata": {},
   "outputs": [
    {
     "data": {
      "text/plain": [
       "invoice_date\n",
       "2009-12-31    29.547844\n",
       "2010-01-31    19.828816\n",
       "2010-02-28    21.919585\n",
       "2010-03-31    22.454805\n",
       "2010-04-30    21.192758\n",
       "2010-05-31    23.108808\n",
       "2010-06-30    24.468085\n",
       "2010-07-31    26.948052\n",
       "2010-08-31    24.065934\n",
       "2010-09-30    23.767606\n",
       "2010-10-31    23.525469\n",
       "2010-11-30    32.503113\n",
       "2010-12-31    29.638009\n",
       "2011-01-31    20.433018\n",
       "2011-02-28    19.815059\n",
       "2011-03-31    20.554985\n",
       "2011-04-30    19.460727\n",
       "2011-05-31    26.280835\n",
       "2011-06-30    22.121212\n",
       "2011-07-31    23.678647\n",
       "2011-08-31    20.578778\n",
       "2011-09-30    21.286736\n",
       "2011-10-31    22.850845\n",
       "2011-11-30    32.168675\n",
       "Freq: M, Name: customer_id, dtype: float64"
      ]
     },
     "execution_count": 239,
     "metadata": {},
     "output_type": "execute_result"
    }
   ],
   "source": [
    "monthly_repeat_percentage = monthly_repeat_customers_df/monthly_unique_customers_df*100.0\n",
    "monthly_repeat_percentage"
   ]
  },
  {
   "cell_type": "code",
   "execution_count": 240,
   "metadata": {},
   "outputs": [
    {
     "data": {
      "image/png": "[encoded data removed]",
      "text/plain": [
       "<Figure size 720x504 with 2 Axes>"
      ]
     },
     "metadata": {
      "needs_background": "light"
     },
     "output_type": "display_data"
    }
   ],
   "source": [
    "ax = pd.DataFrame(monthly_repeat_customers_df.values).plot(\n",
    "    figsize=(10,7)\n",
    ")\n",
    "\n",
    "pd.DataFrame(monthly_unique_customers_df.values).plot(\n",
    "    ax=ax,\n",
    "    grid=True\n",
    ")\n",
    "\n",
    "\n",
    "ax2 = pd.DataFrame(monthly_repeat_percentage.values).plot.bar(\n",
    "    ax=ax,\n",
    "    grid=True,\n",
    "    secondary_y=True,\n",
    "    color='green',\n",
    "    alpha=0.2\n",
    ")\n",
    "\n",
    "ax.set_xlabel('date')\n",
    "ax.set_ylabel('number of customers')\n",
    "ax.set_title('Number of All vs. Repeat Customers Over Time')\n",
    "\n",
    "ax2.set_ylabel('percentage (%)')\n",
    "\n",
    "ax.legend(['Repeat Customers', 'All Customers'])\n",
    "ax2.legend(['Percentage of Repeat'], loc='upper right')\n",
    "\n",
    "ax.set_ylim([0, monthly_unique_customers_df.values.max()+100])\n",
    "ax2.set_ylim([0, 100])\n",
    "\n",
    "plt.xticks(\n",
    "    range(len(monthly_repeat_customers_df.index)), \n",
    "    [x.strftime('%m.%Y') for x in monthly_repeat_customers_df.index], \n",
    "    rotation=45\n",
    ")\n",
    "\n",
    "plt.show()"
   ]
  },
  {
   "cell_type": "code",
   "execution_count": 25,
   "metadata": {},
   "outputs": [],
   "source": [
    "def groupby_mean(x):\n",
    "    return x.mean()\n",
    "\n",
    "def groupby_count(x):\n",
    "    return x.count()\n",
    "\n",
    "def purchase_duration(x):\n",
    "    return (x.max() - x.min()).days\n",
    "\n",
    "def avg_frequency(x):\n",
    "    return (x.max() - x.min()).days/x.count()\n",
    "\n",
    "groupby_mean.__name__ = 'avg'\n",
    "groupby_count.__name__ = 'count'\n",
    "purchase_duration.__name__ = 'purchase_duration'\n",
    "avg_frequency.__name__ = 'purchase_frequency'"
   ]
  },
  {
   "cell_type": "code",
   "execution_count": 26,
   "metadata": {
    "scrolled": true
   },
   "outputs": [],
   "source": [
    "summary_df = orders_df.reset_index().groupby('customer_id').agg({\n",
    "    'sales': [min, max, sum, groupby_mean, groupby_count],\n",
    "    'invoice_date': [min, max, purchase_duration, avg_frequency]\n",
    "})"
   ]
  },
  {
   "cell_type": "code",
   "execution_count": 27,
   "metadata": {
    "scrolled": true
   },
   "outputs": [
    {
     "data": {
      "text/html": [
       "<div>\n",
       "<style scoped>\n",
       "    .dataframe tbody tr th:only-of-type {\n",
       "        vertical-align: middle;\n",
       "    }\n",
       "\n",
       "    .dataframe tbody tr th {\n",
       "        vertical-align: top;\n",
       "    }\n",
       "\n",
       "    .dataframe thead tr th {\n",
       "        text-align: left;\n",
       "    }\n",
       "\n",
       "    .dataframe thead tr:last-of-type th {\n",
       "        text-align: right;\n",
       "    }\n",
       "</style>\n",
       "<table border=\"1\" class=\"dataframe\">\n",
       "  <thead>\n",
       "    <tr>\n",
       "      <th></th>\n",
       "      <th colspan=\"5\" halign=\"left\">sales</th>\n",
       "      <th colspan=\"4\" halign=\"left\">invoice_date</th>\n",
       "    </tr>\n",
       "    <tr>\n",
       "      <th></th>\n",
       "      <th>min</th>\n",
       "      <th>max</th>\n",
       "      <th>sum</th>\n",
       "      <th>avg</th>\n",
       "      <th>count</th>\n",
       "      <th>min</th>\n",
       "      <th>max</th>\n",
       "      <th>purchase_duration</th>\n",
       "      <th>purchase_frequency</th>\n",
       "    </tr>\n",
       "    <tr>\n",
       "      <th>customer_id</th>\n",
       "      <th></th>\n",
       "      <th></th>\n",
       "      <th></th>\n",
       "      <th></th>\n",
       "      <th></th>\n",
       "      <th></th>\n",
       "      <th></th>\n",
       "      <th></th>\n",
       "      <th></th>\n",
       "    </tr>\n",
       "  </thead>\n",
       "  <tbody>\n",
       "    <tr>\n",
       "      <th>12346</th>\n",
       "      <td>27.05</td>\n",
       "      <td>77183.60</td>\n",
       "      <td>77352.96</td>\n",
       "      <td>25784.320000</td>\n",
       "      <td>3.0</td>\n",
       "      <td>2010-03-02 13:08:00</td>\n",
       "      <td>2011-01-18 10:01:00</td>\n",
       "      <td>321</td>\n",
       "      <td>107.000000</td>\n",
       "    </tr>\n",
       "    <tr>\n",
       "      <th>12347</th>\n",
       "      <td>382.52</td>\n",
       "      <td>1423.58</td>\n",
       "      <td>5408.50</td>\n",
       "      <td>772.642857</td>\n",
       "      <td>7.0</td>\n",
       "      <td>2010-10-31 14:20:00</td>\n",
       "      <td>2011-10-31 12:25:00</td>\n",
       "      <td>364</td>\n",
       "      <td>52.000000</td>\n",
       "    </tr>\n",
       "    <tr>\n",
       "      <th>12348</th>\n",
       "      <td>187.44</td>\n",
       "      <td>652.80</td>\n",
       "      <td>1658.40</td>\n",
       "      <td>331.680000</td>\n",
       "      <td>5.0</td>\n",
       "      <td>2010-09-27 14:59:00</td>\n",
       "      <td>2011-09-25 13:13:00</td>\n",
       "      <td>362</td>\n",
       "      <td>72.400000</td>\n",
       "    </tr>\n",
       "    <tr>\n",
       "      <th>12349</th>\n",
       "      <td>1068.52</td>\n",
       "      <td>1457.55</td>\n",
       "      <td>3678.69</td>\n",
       "      <td>1226.230000</td>\n",
       "      <td>3.0</td>\n",
       "      <td>2010-04-29 13:20:00</td>\n",
       "      <td>2011-11-21 09:51:00</td>\n",
       "      <td>570</td>\n",
       "      <td>190.000000</td>\n",
       "    </tr>\n",
       "    <tr>\n",
       "      <th>12350</th>\n",
       "      <td>294.40</td>\n",
       "      <td>294.40</td>\n",
       "      <td>294.40</td>\n",
       "      <td>294.400000</td>\n",
       "      <td>1.0</td>\n",
       "      <td>2011-02-02 16:01:00</td>\n",
       "      <td>2011-02-02 16:01:00</td>\n",
       "      <td>0</td>\n",
       "      <td>0.000000</td>\n",
       "    </tr>\n",
       "    <tr>\n",
       "      <th>...</th>\n",
       "      <td>...</td>\n",
       "      <td>...</td>\n",
       "      <td>...</td>\n",
       "      <td>...</td>\n",
       "      <td>...</td>\n",
       "      <td>...</td>\n",
       "      <td>...</td>\n",
       "      <td>...</td>\n",
       "      <td>...</td>\n",
       "    </tr>\n",
       "    <tr>\n",
       "      <th>18283</th>\n",
       "      <td>1.95</td>\n",
       "      <td>313.65</td>\n",
       "      <td>2522.70</td>\n",
       "      <td>120.128571</td>\n",
       "      <td>21.0</td>\n",
       "      <td>2010-02-19 17:16:00</td>\n",
       "      <td>2011-11-30 12:59:00</td>\n",
       "      <td>648</td>\n",
       "      <td>30.857143</td>\n",
       "    </tr>\n",
       "    <tr>\n",
       "      <th>18284</th>\n",
       "      <td>411.68</td>\n",
       "      <td>411.68</td>\n",
       "      <td>411.68</td>\n",
       "      <td>411.680000</td>\n",
       "      <td>1.0</td>\n",
       "      <td>2010-10-04 11:33:00</td>\n",
       "      <td>2010-10-04 11:33:00</td>\n",
       "      <td>0</td>\n",
       "      <td>0.000000</td>\n",
       "    </tr>\n",
       "    <tr>\n",
       "      <th>18285</th>\n",
       "      <td>377.00</td>\n",
       "      <td>377.00</td>\n",
       "      <td>377.00</td>\n",
       "      <td>377.000000</td>\n",
       "      <td>1.0</td>\n",
       "      <td>2010-02-17 10:24:00</td>\n",
       "      <td>2010-02-17 10:24:00</td>\n",
       "      <td>0</td>\n",
       "      <td>0.000000</td>\n",
       "    </tr>\n",
       "    <tr>\n",
       "      <th>18286</th>\n",
       "      <td>412.95</td>\n",
       "      <td>833.48</td>\n",
       "      <td>1246.43</td>\n",
       "      <td>623.215000</td>\n",
       "      <td>2.0</td>\n",
       "      <td>2009-12-16 10:45:00</td>\n",
       "      <td>2010-08-20 11:57:00</td>\n",
       "      <td>247</td>\n",
       "      <td>123.500000</td>\n",
       "    </tr>\n",
       "    <tr>\n",
       "      <th>18287</th>\n",
       "      <td>30.60</td>\n",
       "      <td>1071.61</td>\n",
       "      <td>4132.99</td>\n",
       "      <td>590.427143</td>\n",
       "      <td>7.0</td>\n",
       "      <td>2010-05-17 11:55:00</td>\n",
       "      <td>2011-10-28 09:29:00</td>\n",
       "      <td>528</td>\n",
       "      <td>75.428571</td>\n",
       "    </tr>\n",
       "  </tbody>\n",
       "</table>\n",
       "<p>5824 rows × 9 columns</p>\n",
       "</div>"
      ],
      "text/plain": [
       "               sales                                          \\\n",
       "                 min       max       sum           avg count   \n",
       "customer_id                                                    \n",
       "12346          27.05  77183.60  77352.96  25784.320000   3.0   \n",
       "12347         382.52   1423.58   5408.50    772.642857   7.0   \n",
       "12348         187.44    652.80   1658.40    331.680000   5.0   \n",
       "12349        1068.52   1457.55   3678.69   1226.230000   3.0   \n",
       "12350         294.40    294.40    294.40    294.400000   1.0   \n",
       "...              ...       ...       ...           ...   ...   \n",
       "18283           1.95    313.65   2522.70    120.128571  21.0   \n",
       "18284         411.68    411.68    411.68    411.680000   1.0   \n",
       "18285         377.00    377.00    377.00    377.000000   1.0   \n",
       "18286         412.95    833.48   1246.43    623.215000   2.0   \n",
       "18287          30.60   1071.61   4132.99    590.427143   7.0   \n",
       "\n",
       "                   invoice_date                                        \\\n",
       "                            min                 max purchase_duration   \n",
       "customer_id                                                             \n",
       "12346       2010-03-02 13:08:00 2011-01-18 10:01:00               321   \n",
       "12347       2010-10-31 14:20:00 2011-10-31 12:25:00               364   \n",
       "12348       2010-09-27 14:59:00 2011-09-25 13:13:00               362   \n",
       "12349       2010-04-29 13:20:00 2011-11-21 09:51:00               570   \n",
       "12350       2011-02-02 16:01:00 2011-02-02 16:01:00                 0   \n",
       "...                         ...                 ...               ...   \n",
       "18283       2010-02-19 17:16:00 2011-11-30 12:59:00               648   \n",
       "18284       2010-10-04 11:33:00 2010-10-04 11:33:00                 0   \n",
       "18285       2010-02-17 10:24:00 2010-02-17 10:24:00                 0   \n",
       "18286       2009-12-16 10:45:00 2010-08-20 11:57:00               247   \n",
       "18287       2010-05-17 11:55:00 2011-10-28 09:29:00               528   \n",
       "\n",
       "                                \n",
       "            purchase_frequency  \n",
       "customer_id                     \n",
       "12346               107.000000  \n",
       "12347                52.000000  \n",
       "12348                72.400000  \n",
       "12349               190.000000  \n",
       "12350                 0.000000  \n",
       "...                        ...  \n",
       "18283                30.857143  \n",
       "18284                 0.000000  \n",
       "18285                 0.000000  \n",
       "18286               123.500000  \n",
       "18287                75.428571  \n",
       "\n",
       "[5824 rows x 9 columns]"
      ]
     },
     "execution_count": 27,
     "metadata": {},
     "output_type": "execute_result"
    }
   ],
   "source": [
    "summary_df"
   ]
  },
  {
   "cell_type": "code",
   "execution_count": 28,
   "metadata": {},
   "outputs": [],
   "source": [
    "summary_df.columns = ['_'.join(col).lower() for col in summary_df.columns]"
   ]
  },
  {
   "cell_type": "code",
   "execution_count": 29,
   "metadata": {},
   "outputs": [
    {
     "data": {
      "text/html": [
       "<div>\n",
       "<style scoped>\n",
       "    .dataframe tbody tr th:only-of-type {\n",
       "        vertical-align: middle;\n",
       "    }\n",
       "\n",
       "    .dataframe tbody tr th {\n",
       "        vertical-align: top;\n",
       "    }\n",
       "\n",
       "    .dataframe thead th {\n",
       "        text-align: right;\n",
       "    }\n",
       "</style>\n",
       "<table border=\"1\" class=\"dataframe\">\n",
       "  <thead>\n",
       "    <tr style=\"text-align: right;\">\n",
       "      <th></th>\n",
       "      <th>sales_min</th>\n",
       "      <th>sales_max</th>\n",
       "      <th>sales_sum</th>\n",
       "      <th>sales_avg</th>\n",
       "      <th>sales_count</th>\n",
       "      <th>invoice_date_min</th>\n",
       "      <th>invoice_date_max</th>\n",
       "      <th>invoice_date_purchase_duration</th>\n",
       "      <th>invoice_date_purchase_frequency</th>\n",
       "    </tr>\n",
       "    <tr>\n",
       "      <th>customer_id</th>\n",
       "      <th></th>\n",
       "      <th></th>\n",
       "      <th></th>\n",
       "      <th></th>\n",
       "      <th></th>\n",
       "      <th></th>\n",
       "      <th></th>\n",
       "      <th></th>\n",
       "      <th></th>\n",
       "    </tr>\n",
       "  </thead>\n",
       "  <tbody>\n",
       "    <tr>\n",
       "      <th>12346</th>\n",
       "      <td>27.05</td>\n",
       "      <td>77183.60</td>\n",
       "      <td>77352.96</td>\n",
       "      <td>25784.320000</td>\n",
       "      <td>3.0</td>\n",
       "      <td>2010-03-02 13:08:00</td>\n",
       "      <td>2011-01-18 10:01:00</td>\n",
       "      <td>321</td>\n",
       "      <td>107.000000</td>\n",
       "    </tr>\n",
       "    <tr>\n",
       "      <th>12347</th>\n",
       "      <td>382.52</td>\n",
       "      <td>1423.58</td>\n",
       "      <td>5408.50</td>\n",
       "      <td>772.642857</td>\n",
       "      <td>7.0</td>\n",
       "      <td>2010-10-31 14:20:00</td>\n",
       "      <td>2011-10-31 12:25:00</td>\n",
       "      <td>364</td>\n",
       "      <td>52.000000</td>\n",
       "    </tr>\n",
       "    <tr>\n",
       "      <th>12348</th>\n",
       "      <td>187.44</td>\n",
       "      <td>652.80</td>\n",
       "      <td>1658.40</td>\n",
       "      <td>331.680000</td>\n",
       "      <td>5.0</td>\n",
       "      <td>2010-09-27 14:59:00</td>\n",
       "      <td>2011-09-25 13:13:00</td>\n",
       "      <td>362</td>\n",
       "      <td>72.400000</td>\n",
       "    </tr>\n",
       "    <tr>\n",
       "      <th>12349</th>\n",
       "      <td>1068.52</td>\n",
       "      <td>1457.55</td>\n",
       "      <td>3678.69</td>\n",
       "      <td>1226.230000</td>\n",
       "      <td>3.0</td>\n",
       "      <td>2010-04-29 13:20:00</td>\n",
       "      <td>2011-11-21 09:51:00</td>\n",
       "      <td>570</td>\n",
       "      <td>190.000000</td>\n",
       "    </tr>\n",
       "    <tr>\n",
       "      <th>12350</th>\n",
       "      <td>294.40</td>\n",
       "      <td>294.40</td>\n",
       "      <td>294.40</td>\n",
       "      <td>294.400000</td>\n",
       "      <td>1.0</td>\n",
       "      <td>2011-02-02 16:01:00</td>\n",
       "      <td>2011-02-02 16:01:00</td>\n",
       "      <td>0</td>\n",
       "      <td>0.000000</td>\n",
       "    </tr>\n",
       "    <tr>\n",
       "      <th>...</th>\n",
       "      <td>...</td>\n",
       "      <td>...</td>\n",
       "      <td>...</td>\n",
       "      <td>...</td>\n",
       "      <td>...</td>\n",
       "      <td>...</td>\n",
       "      <td>...</td>\n",
       "      <td>...</td>\n",
       "      <td>...</td>\n",
       "    </tr>\n",
       "    <tr>\n",
       "      <th>18283</th>\n",
       "      <td>1.95</td>\n",
       "      <td>313.65</td>\n",
       "      <td>2522.70</td>\n",
       "      <td>120.128571</td>\n",
       "      <td>21.0</td>\n",
       "      <td>2010-02-19 17:16:00</td>\n",
       "      <td>2011-11-30 12:59:00</td>\n",
       "      <td>648</td>\n",
       "      <td>30.857143</td>\n",
       "    </tr>\n",
       "    <tr>\n",
       "      <th>18284</th>\n",
       "      <td>411.68</td>\n",
       "      <td>411.68</td>\n",
       "      <td>411.68</td>\n",
       "      <td>411.680000</td>\n",
       "      <td>1.0</td>\n",
       "      <td>2010-10-04 11:33:00</td>\n",
       "      <td>2010-10-04 11:33:00</td>\n",
       "      <td>0</td>\n",
       "      <td>0.000000</td>\n",
       "    </tr>\n",
       "    <tr>\n",
       "      <th>18285</th>\n",
       "      <td>377.00</td>\n",
       "      <td>377.00</td>\n",
       "      <td>377.00</td>\n",
       "      <td>377.000000</td>\n",
       "      <td>1.0</td>\n",
       "      <td>2010-02-17 10:24:00</td>\n",
       "      <td>2010-02-17 10:24:00</td>\n",
       "      <td>0</td>\n",
       "      <td>0.000000</td>\n",
       "    </tr>\n",
       "    <tr>\n",
       "      <th>18286</th>\n",
       "      <td>412.95</td>\n",
       "      <td>833.48</td>\n",
       "      <td>1246.43</td>\n",
       "      <td>623.215000</td>\n",
       "      <td>2.0</td>\n",
       "      <td>2009-12-16 10:45:00</td>\n",
       "      <td>2010-08-20 11:57:00</td>\n",
       "      <td>247</td>\n",
       "      <td>123.500000</td>\n",
       "    </tr>\n",
       "    <tr>\n",
       "      <th>18287</th>\n",
       "      <td>30.60</td>\n",
       "      <td>1071.61</td>\n",
       "      <td>4132.99</td>\n",
       "      <td>590.427143</td>\n",
       "      <td>7.0</td>\n",
       "      <td>2010-05-17 11:55:00</td>\n",
       "      <td>2011-10-28 09:29:00</td>\n",
       "      <td>528</td>\n",
       "      <td>75.428571</td>\n",
       "    </tr>\n",
       "  </tbody>\n",
       "</table>\n",
       "<p>5824 rows × 9 columns</p>\n",
       "</div>"
      ],
      "text/plain": [
       "             sales_min  sales_max  sales_sum     sales_avg  sales_count  \\\n",
       "customer_id                                                               \n",
       "12346            27.05   77183.60   77352.96  25784.320000          3.0   \n",
       "12347           382.52    1423.58    5408.50    772.642857          7.0   \n",
       "12348           187.44     652.80    1658.40    331.680000          5.0   \n",
       "12349          1068.52    1457.55    3678.69   1226.230000          3.0   \n",
       "12350           294.40     294.40     294.40    294.400000          1.0   \n",
       "...                ...        ...        ...           ...          ...   \n",
       "18283             1.95     313.65    2522.70    120.128571         21.0   \n",
       "18284           411.68     411.68     411.68    411.680000          1.0   \n",
       "18285           377.00     377.00     377.00    377.000000          1.0   \n",
       "18286           412.95     833.48    1246.43    623.215000          2.0   \n",
       "18287            30.60    1071.61    4132.99    590.427143          7.0   \n",
       "\n",
       "               invoice_date_min    invoice_date_max  \\\n",
       "customer_id                                           \n",
       "12346       2010-03-02 13:08:00 2011-01-18 10:01:00   \n",
       "12347       2010-10-31 14:20:00 2011-10-31 12:25:00   \n",
       "12348       2010-09-27 14:59:00 2011-09-25 13:13:00   \n",
       "12349       2010-04-29 13:20:00 2011-11-21 09:51:00   \n",
       "12350       2011-02-02 16:01:00 2011-02-02 16:01:00   \n",
       "...                         ...                 ...   \n",
       "18283       2010-02-19 17:16:00 2011-11-30 12:59:00   \n",
       "18284       2010-10-04 11:33:00 2010-10-04 11:33:00   \n",
       "18285       2010-02-17 10:24:00 2010-02-17 10:24:00   \n",
       "18286       2009-12-16 10:45:00 2010-08-20 11:57:00   \n",
       "18287       2010-05-17 11:55:00 2011-10-28 09:29:00   \n",
       "\n",
       "             invoice_date_purchase_duration  invoice_date_purchase_frequency  \n",
       "customer_id                                                                   \n",
       "12346                                   321                       107.000000  \n",
       "12347                                   364                        52.000000  \n",
       "12348                                   362                        72.400000  \n",
       "12349                                   570                       190.000000  \n",
       "12350                                     0                         0.000000  \n",
       "...                                     ...                              ...  \n",
       "18283                                   648                        30.857143  \n",
       "18284                                     0                         0.000000  \n",
       "18285                                     0                         0.000000  \n",
       "18286                                   247                       123.500000  \n",
       "18287                                   528                        75.428571  \n",
       "\n",
       "[5824 rows x 9 columns]"
      ]
     },
     "execution_count": 29,
     "metadata": {},
     "output_type": "execute_result"
    }
   ],
   "source": [
    "summary_df"
   ]
  },
  {
   "cell_type": "code",
   "execution_count": 30,
   "metadata": {},
   "outputs": [
    {
     "data": {
      "text/plain": [
       "(5824, 9)"
      ]
     },
     "execution_count": 30,
     "metadata": {},
     "output_type": "execute_result"
    }
   ],
   "source": [
    "summary_df.shape"
   ]
  },
  {
   "cell_type": "code",
   "execution_count": 219,
   "metadata": {},
   "outputs": [],
   "source": [
    "summary_df = summary_df.loc[summary_df['invoice_date_purchase_duration'] > 0]"
   ]
  },
  {
   "cell_type": "code",
   "execution_count": 220,
   "metadata": {},
   "outputs": [
    {
     "data": {
      "text/plain": [
       "(4112, 9)"
      ]
     },
     "execution_count": 220,
     "metadata": {},
     "output_type": "execute_result"
    }
   ],
   "source": [
    "summary_df.shape"
   ]
  },
  {
   "cell_type": "code",
   "execution_count": null,
   "metadata": {},
   "outputs": [],
   "source": [
    "#percentage repeat customer vs non-repeat customer"
   ]
  },
  {
   "cell_type": "code",
   "execution_count": 256,
   "metadata": {},
   "outputs": [
    {
     "data": {
      "text/plain": [
       "0.7060439560439561"
      ]
     },
     "execution_count": 256,
     "metadata": {},
     "output_type": "execute_result"
    }
   ],
   "source": [
    "percent = 4112/5824\n",
    "percent"
   ]
  },
  {
   "cell_type": "code",
   "execution_count": 259,
   "metadata": {},
   "outputs": [
    {
     "data": {
      "image/png": "[encoded data removed]",
      "text/plain": [
       "<Figure size 864x504 with 1 Axes>"
      ]
     },
     "metadata": {
      "needs_background": "light"
     },
     "output_type": "display_data"
    }
   ],
   "source": [
    "ax = summary_df.groupby('sales_count').count()['sales_avg'][:20].plot(\n",
    "    kind='bar', \n",
    "    color='skyblue',\n",
    "    figsize=(12,7), \n",
    "    grid=True\n",
    ")\n",
    "\n",
    "ax.set_ylabel('Average Sales')\n",
    "ax.set_xlabel('Number of Orders')\n",
    "\n",
    "plt.show()"
   ]
  },
  {
   "cell_type": "code",
   "execution_count": 258,
   "metadata": {
    "scrolled": true
   },
   "outputs": [
    {
     "data": {
      "text/plain": [
       "count    4112.000000\n",
       "mean        8.274805\n",
       "std        14.374102\n",
       "min         2.000000\n",
       "25%         3.000000\n",
       "50%         5.000000\n",
       "75%         9.000000\n",
       "max       364.000000\n",
       "Name: sales_count, dtype: float64"
      ]
     },
     "execution_count": 258,
     "metadata": {},
     "output_type": "execute_result"
    }
   ],
   "source": [
    "summary_df['sales_count'].describe()"
   ]
  },
  {
   "cell_type": "markdown",
   "metadata": {},
   "source": [
    "- Majority (75%) < 9 purchases"
   ]
  },
  {
   "cell_type": "code",
   "execution_count": 42,
   "metadata": {},
   "outputs": [
    {
     "data": {
      "text/plain": [
       "count     4112.000000\n",
       "mean       385.949691\n",
       "std        589.382473\n",
       "min          3.725000\n",
       "25%        200.427500\n",
       "50%        301.471667\n",
       "75%        434.868750\n",
       "max      25784.320000\n",
       "Name: sales_avg, dtype: float64"
      ]
     },
     "execution_count": 42,
     "metadata": {},
     "output_type": "execute_result"
    }
   ],
   "source": [
    "summary_df['sales_avg'].describe()"
   ]
  },
  {
   "cell_type": "code",
   "execution_count": 260,
   "metadata": {},
   "outputs": [
    {
     "data": {
      "image/png": "[encoded data removed]",
      "text/plain": [
       "<Figure size 864x504 with 1 Axes>"
      ]
     },
     "metadata": {
      "needs_background": "light"
     },
     "output_type": "display_data"
    }
   ],
   "source": [
    "ax = summary_df['invoice_date_purchase_frequency'].hist(\n",
    "    bins=20,\n",
    "    color='skyblue',\n",
    "    rwidth=0.7,\n",
    "    figsize=(12,7)\n",
    ")\n",
    "\n",
    "ax.set_xlabel('Avg. Number Of Days Between Purchases')\n",
    "ax.set_ylabel('Count')\n",
    "\n",
    "plt.show()"
   ]
  },
  {
   "cell_type": "code",
   "execution_count": 45,
   "metadata": {
    "scrolled": true
   },
   "outputs": [
    {
     "data": {
      "text/plain": [
       "count    4112.000000\n",
       "mean       70.927758\n",
       "std        53.058490\n",
       "min         0.250000\n",
       "25%        32.571429\n",
       "50%        58.050000\n",
       "75%        95.208333\n",
       "max       357.000000\n",
       "Name: invoice_date_purchase_frequency, dtype: float64"
      ]
     },
     "execution_count": 45,
     "metadata": {},
     "output_type": "execute_result"
    }
   ],
   "source": [
    "summary_df['invoice_date_purchase_frequency'].describe()"
   ]
  },
  {
   "cell_type": "code",
   "execution_count": 46,
   "metadata": {},
   "outputs": [
    {
     "data": {
      "text/plain": [
       "count    4112.000000\n",
       "mean      380.839737\n",
       "std       223.244850\n",
       "min         1.000000\n",
       "25%       181.000000\n",
       "50%       385.000000\n",
       "75%       585.000000\n",
       "max       729.000000\n",
       "Name: invoice_date_purchase_duration, dtype: float64"
      ]
     },
     "execution_count": 46,
     "metadata": {},
     "output_type": "execute_result"
    }
   ],
   "source": [
    "summary_df['invoice_date_purchase_duration'].describe()"
   ]
  },
  {
   "cell_type": "markdown",
   "metadata": {},
   "source": [
    "#### Normality check "
   ]
  },
  {
   "cell_type": "code",
   "execution_count": null,
   "metadata": {},
   "outputs": [],
   "source": [
    "#sns.pairplot(summary_df)\n",
    "#plt.show()"
   ]
  },
  {
   "cell_type": "code",
   "execution_count": 211,
   "metadata": {
    "scrolled": true
   },
   "outputs": [
    {
     "name": "stderr",
     "output_type": "stream",
     "text": [
      "/Users/testaccount/opt/anaconda3/lib/python3.8/site-packages/seaborn/distributions.py:2557: FutureWarning: `distplot` is a deprecated function and will be removed in a future version. Please adapt your code to use either `displot` (a figure-level function with similar flexibility) or `histplot` (an axes-level function for histograms).\n",
      "  warnings.warn(msg, FutureWarning)\n"
     ]
    },
    {
     "data": {
      "text/plain": [
       "<AxesSubplot:xlabel='sales_avg', ylabel='Density'>"
      ]
     },
     "execution_count": 211,
     "metadata": {},
     "output_type": "execute_result"
    },
    {
     "data": {
      "image/png": "[encoded data removed]",
      "text/plain": [
       "<Figure size 432x288 with 1 Axes>"
      ]
     },
     "metadata": {
      "needs_background": "light"
     },
     "output_type": "display_data"
    }
   ],
   "source": [
    "sns.distplot((summary_df['sales_avg']), bins=30)"
   ]
  },
  {
   "cell_type": "code",
   "execution_count": 214,
   "metadata": {
    "scrolled": true
   },
   "outputs": [
    {
     "name": "stderr",
     "output_type": "stream",
     "text": [
      "/Users/testaccount/opt/anaconda3/lib/python3.8/site-packages/seaborn/distributions.py:2557: FutureWarning: `distplot` is a deprecated function and will be removed in a future version. Please adapt your code to use either `displot` (a figure-level function with similar flexibility) or `histplot` (an axes-level function for histograms).\n",
      "  warnings.warn(msg, FutureWarning)\n"
     ]
    },
    {
     "data": {
      "text/plain": [
       "<AxesSubplot:xlabel='invoice_date_purchase_frequency', ylabel='Density'>"
      ]
     },
     "execution_count": 214,
     "metadata": {},
     "output_type": "execute_result"
    },
    {
     "data": {
      "image/png": "[encoded data removed]",
      "text/plain": [
       "<Figure size 432x288 with 1 Axes>"
      ]
     },
     "metadata": {
      "needs_background": "light"
     },
     "output_type": "display_data"
    }
   ],
   "source": [
    "sns.distplot((summary_df['invoice_date_purchase_frequency']), bins=30)"
   ]
  },
  {
   "cell_type": "code",
   "execution_count": 215,
   "metadata": {
    "scrolled": true
   },
   "outputs": [
    {
     "name": "stderr",
     "output_type": "stream",
     "text": [
      "/Users/testaccount/opt/anaconda3/lib/python3.8/site-packages/seaborn/distributions.py:2557: FutureWarning: `distplot` is a deprecated function and will be removed in a future version. Please adapt your code to use either `displot` (a figure-level function with similar flexibility) or `histplot` (an axes-level function for histograms).\n",
      "  warnings.warn(msg, FutureWarning)\n"
     ]
    },
    {
     "data": {
      "text/plain": [
       "<AxesSubplot:xlabel='invoice_date_purchase_duration', ylabel='Density'>"
      ]
     },
     "execution_count": 215,
     "metadata": {},
     "output_type": "execute_result"
    },
    {
     "data": {
      "image/png": "[encoded data removed]",
      "text/plain": [
       "<Figure size 432x288 with 1 Axes>"
      ]
     },
     "metadata": {
      "needs_background": "light"
     },
     "output_type": "display_data"
    }
   ],
   "source": [
    "sns.distplot((summary_df['invoice_date_purchase_duration']), bins=30)"
   ]
  },
  {
   "cell_type": "markdown",
   "metadata": {},
   "source": [
    "#### Time-series Revenue from Repeat vs. Non-repeat Customers "
   ]
  },
  {
   "cell_type": "code",
   "execution_count": 244,
   "metadata": {},
   "outputs": [],
   "source": [
    "monthly_rev_repeat_customers_df = invoice_customer_df.set_index('invoice_date').groupby([\n",
    "    pd.Grouper(freq='M'), 'customer_id'\n",
    "]).filter(lambda x: len(x) > 1).resample('M').sum()['sales']"
   ]
  },
  {
   "cell_type": "code",
   "execution_count": 245,
   "metadata": {},
   "outputs": [],
   "source": [
    "monthly_rev_perc_repeat_customers_df = monthly_rev_repeat_customers_df/monthly_revenue_df * 100.0"
   ]
  },
  {
   "cell_type": "code",
   "execution_count": 246,
   "metadata": {},
   "outputs": [
    {
     "data": {
      "text/plain": [
       "invoice_date\n",
       "2009-12-31    427135.98\n",
       "2010-01-31    294491.11\n",
       "2010-02-28    259800.41\n",
       "2010-03-31    349930.99\n",
       "2010-04-30    268604.96\n",
       "2010-05-31    288950.68\n",
       "2010-06-30    336419.73\n",
       "2010-07-31    325896.47\n",
       "2010-08-31    309468.72\n",
       "2010-09-30    420836.54\n",
       "2010-10-31    521652.02\n",
       "2010-11-30    697310.45\n",
       "2010-12-31    554946.08\n",
       "2011-01-31    220178.94\n",
       "2011-02-28    187552.99\n",
       "2011-03-31    258802.60\n",
       "2011-04-30    182967.87\n",
       "2011-05-31    352365.70\n",
       "2011-06-30    374029.34\n",
       "2011-07-31    312725.59\n",
       "2011-08-31    308304.78\n",
       "2011-09-30    494096.87\n",
       "2011-10-31    529859.56\n",
       "2011-11-30    697432.74\n",
       "Freq: M, Name: sales, dtype: float64"
      ]
     },
     "execution_count": 246,
     "metadata": {},
     "output_type": "execute_result"
    }
   ],
   "source": [
    "monthly_rev_repeat_customers_df"
   ]
  },
  {
   "cell_type": "code",
   "execution_count": 253,
   "metadata": {},
   "outputs": [
    {
     "data": {
      "image/png": "[encoded data removed]",
      "text/plain": [
       "<Figure size 1440x648 with 2 Axes>"
      ]
     },
     "metadata": {
      "needs_background": "light"
     },
     "output_type": "display_data"
    }
   ],
   "source": [
    "ax = pd.DataFrame(monthly_revenue_df.values).plot(figsize=(20,9))\n",
    "\n",
    "pd.DataFrame(monthly_rev_repeat_customers_df.values).plot(\n",
    "    ax=ax,\n",
    "    grid=True,\n",
    ")\n",
    "\n",
    "ax.set_xlabel('date')\n",
    "ax.set_ylabel('sales')\n",
    "ax.set_title('Total Revenue vs. Revenue from Repeat Customers')\n",
    "\n",
    "ax.legend(['Total Revenue', 'Repeat Customer Revenue'])\n",
    "\n",
    "ax.set_ylim([0, max(monthly_revenue_df.values)+100000])\n",
    "\n",
    "ax2 = ax.twinx()\n",
    "\n",
    "pd.DataFrame(monthly_rev_perc_repeat_customers_df.values).plot(\n",
    "    ax=ax2,\n",
    "    kind='bar',\n",
    "    color='g',\n",
    "    alpha=0.2\n",
    ")\n",
    "\n",
    "ax2.set_ylim([0, max(monthly_rev_perc_repeat_customers_df.values)+30])\n",
    "ax2.set_ylabel('percentage (%)')\n",
    "ax2.legend(['Repeat Revenue Percentage'])\n",
    "\n",
    "ax2.set_xticklabels([\n",
    "    x.strftime('%m.%Y') for x in monthly_rev_perc_repeat_customers_df.index\n",
    "])\n",
    "\n",
    "plt.show()"
   ]
  },
  {
   "cell_type": "markdown",
   "metadata": {},
   "source": [
    "### Total Revenue"
   ]
  },
  {
   "cell_type": "code",
   "execution_count": null,
   "metadata": {},
   "outputs": [],
   "source": [
    "# Calculate total sales\n",
    "total_revenue = round(df[\"total_sales_value\"].sum(),2)\n",
    "print(\"The total revenue of the business is GBP\",total_revenue)"
   ]
  },
  {
   "cell_type": "markdown",
   "metadata": {},
   "source": [
    "### Most profitable countries"
   ]
  },
  {
   "cell_type": "code",
   "execution_count": null,
   "metadata": {},
   "outputs": [],
   "source": [
    "df[\"country\"].value_counts()"
   ]
  },
  {
   "cell_type": "code",
   "execution_count": null,
   "metadata": {},
   "outputs": [],
   "source": [
    "#revenue per country\n",
    "revenue_per_country = df.groupby([\"country\"])[\"total_sales_value\"].sum().sort_values(ascending=False)\n",
    "revenue_per_country = revenue_per_country.to_frame()\n",
    "revenue_per_country.head(10)"
   ]
  },
  {
   "cell_type": "code",
   "execution_count": null,
   "metadata": {},
   "outputs": [],
   "source": [
    "#Excluding the UK from the dataset\n",
    "country = revenue_per_country[revenue_per_country.index != 'United Kingdom']\n",
    "\n",
    "#Plotting \n",
    "g = sns.barplot(x = \"total_sales_value\", y = country.index , data = country, color = 'cyan')\n",
    "g.figure.set_size_inches(12, 10)\n",
    "g.set_xlabel(\"Revenue in GBP\", size = 12)\n",
    "g.set_ylabel(\"country\", size = 12)\n",
    "g.set_title(\"Revenue in Countries outside the UK\", size = 14, y = 1.05)\n",
    "\n",
    "plt.show()"
   ]
  },
  {
   "cell_type": "markdown",
   "metadata": {},
   "source": [
    "### Checking Multicorrelinilaty"
   ]
  },
  {
   "cell_type": "code",
   "execution_count": null,
   "metadata": {},
   "outputs": [],
   "source": [
    "##def normalize(X):\n",
    "##    X_mean=X.mean(axis=0)\n",
    "##    X_std=X.std(axis=0)\n",
    "##    X_std[X_std==0]=1.0\n",
    "##    X = (X-X_mean)/X_std\n",
    "##    return X\n",
    "\n",
    "#X_num = normalize(X_num)"
   ]
  },
  {
   "cell_type": "code",
   "execution_count": null,
   "metadata": {},
   "outputs": [],
   "source": [
    "#X_scaled=StandardScaler().fit_transform(numericals_features)\n",
    "#X_scaled.shape"
   ]
  },
  {
   "cell_type": "markdown",
   "metadata": {},
   "source": [
    "### Checking Multicorrelinilaty"
   ]
  },
  {
   "cell_type": "code",
   "execution_count": null,
   "metadata": {},
   "outputs": [],
   "source": [
    "correlations = numericals_features.corr()\n",
    "print(correlations)\n",
    "cmap = sns.cm.rocket_r  ## for reversing the colors\n",
    "mask=np.zeros_like(numericals_features.corr())\n",
    "mask[np.triu_indices_from(mask)]=True\n",
    "fig, ax=plt.subplots(figsize=(10, 8))\n",
    "ax=sns.heatmap(numericals_features.corr(), mask=mask, annot=True,cmap=cmap)\n",
    "plt.show()"
   ]
  },
  {
   "cell_type": "markdown",
   "metadata": {},
   "source": [
    "### Export"
   ]
  },
  {
   "cell_type": "code",
   "execution_count": null,
   "metadata": {},
   "outputs": [],
   "source": [
    "#orders_df.to_excel(\"clv_clean.xlsx\") "
   ]
  },
  {
   "cell_type": "markdown",
   "metadata": {},
   "source": [
    "## Part III: Predicting 3-Month CLV"
   ]
  },
  {
   "cell_type": "markdown",
   "metadata": {},
   "source": [
    "## 4.1. Data Preparation"
   ]
  },
  {
   "cell_type": "code",
   "execution_count": 107,
   "metadata": {},
   "outputs": [],
   "source": [
    "clv_freq = '3M'"
   ]
  },
  {
   "cell_type": "code",
   "execution_count": 108,
   "metadata": {},
   "outputs": [],
   "source": [
    "data_df = orders_df.reset_index().groupby([\n",
    "    'customer_id',\n",
    "    pd.Grouper(key='invoice_date', freq=clv_freq)\n",
    "]).agg({\n",
    "    'sales': [sum, groupby_mean, groupby_count],\n",
    "})"
   ]
  },
  {
   "cell_type": "code",
   "execution_count": 109,
   "metadata": {},
   "outputs": [],
   "source": [
    "data_df.columns = ['_'.join(col).lower() for col in data_df.columns]"
   ]
  },
  {
   "cell_type": "code",
   "execution_count": 110,
   "metadata": {
    "scrolled": true
   },
   "outputs": [],
   "source": [
    "data_df = data_df.reset_index()"
   ]
  },
  {
   "cell_type": "code",
   "execution_count": 111,
   "metadata": {},
   "outputs": [
    {
     "data": {
      "text/html": [
       "<div>\n",
       "<style scoped>\n",
       "    .dataframe tbody tr th:only-of-type {\n",
       "        vertical-align: middle;\n",
       "    }\n",
       "\n",
       "    .dataframe tbody tr th {\n",
       "        vertical-align: top;\n",
       "    }\n",
       "\n",
       "    .dataframe thead th {\n",
       "        text-align: right;\n",
       "    }\n",
       "</style>\n",
       "<table border=\"1\" class=\"dataframe\">\n",
       "  <thead>\n",
       "    <tr style=\"text-align: right;\">\n",
       "      <th></th>\n",
       "      <th>customer_id</th>\n",
       "      <th>invoice_date</th>\n",
       "      <th>sales_sum</th>\n",
       "      <th>sales_avg</th>\n",
       "      <th>sales_count</th>\n",
       "    </tr>\n",
       "  </thead>\n",
       "  <tbody>\n",
       "    <tr>\n",
       "      <th>0</th>\n",
       "      <td>12346</td>\n",
       "      <td>2010-03-31</td>\n",
       "      <td>27.05</td>\n",
       "      <td>27.050</td>\n",
       "      <td>1.0</td>\n",
       "    </tr>\n",
       "    <tr>\n",
       "      <th>1</th>\n",
       "      <td>12346</td>\n",
       "      <td>2010-06-30</td>\n",
       "      <td>142.31</td>\n",
       "      <td>142.310</td>\n",
       "      <td>1.0</td>\n",
       "    </tr>\n",
       "    <tr>\n",
       "      <th>2</th>\n",
       "      <td>12346</td>\n",
       "      <td>2011-03-31</td>\n",
       "      <td>77183.60</td>\n",
       "      <td>77183.600</td>\n",
       "      <td>1.0</td>\n",
       "    </tr>\n",
       "    <tr>\n",
       "      <th>3</th>\n",
       "      <td>12347</td>\n",
       "      <td>2010-12-31</td>\n",
       "      <td>2035.11</td>\n",
       "      <td>1017.555</td>\n",
       "      <td>2.0</td>\n",
       "    </tr>\n",
       "    <tr>\n",
       "      <th>4</th>\n",
       "      <td>12347</td>\n",
       "      <td>2011-03-31</td>\n",
       "      <td>475.39</td>\n",
       "      <td>475.390</td>\n",
       "      <td>1.0</td>\n",
       "    </tr>\n",
       "    <tr>\n",
       "      <th>5</th>\n",
       "      <td>12347</td>\n",
       "      <td>2011-06-30</td>\n",
       "      <td>1018.77</td>\n",
       "      <td>509.385</td>\n",
       "      <td>2.0</td>\n",
       "    </tr>\n",
       "    <tr>\n",
       "      <th>6</th>\n",
       "      <td>12347</td>\n",
       "      <td>2011-09-30</td>\n",
       "      <td>584.91</td>\n",
       "      <td>584.910</td>\n",
       "      <td>1.0</td>\n",
       "    </tr>\n",
       "    <tr>\n",
       "      <th>7</th>\n",
       "      <td>12347</td>\n",
       "      <td>2011-12-31</td>\n",
       "      <td>1294.32</td>\n",
       "      <td>1294.320</td>\n",
       "      <td>1.0</td>\n",
       "    </tr>\n",
       "    <tr>\n",
       "      <th>8</th>\n",
       "      <td>12348</td>\n",
       "      <td>2010-09-30</td>\n",
       "      <td>221.16</td>\n",
       "      <td>221.160</td>\n",
       "      <td>1.0</td>\n",
       "    </tr>\n",
       "    <tr>\n",
       "      <th>9</th>\n",
       "      <td>12348</td>\n",
       "      <td>2010-12-31</td>\n",
       "      <td>652.80</td>\n",
       "      <td>652.800</td>\n",
       "      <td>1.0</td>\n",
       "    </tr>\n",
       "  </tbody>\n",
       "</table>\n",
       "</div>"
      ],
      "text/plain": [
       "   customer_id invoice_date  sales_sum  sales_avg  sales_count\n",
       "0        12346   2010-03-31      27.05     27.050          1.0\n",
       "1        12346   2010-06-30     142.31    142.310          1.0\n",
       "2        12346   2011-03-31   77183.60  77183.600          1.0\n",
       "3        12347   2010-12-31    2035.11   1017.555          2.0\n",
       "4        12347   2011-03-31     475.39    475.390          1.0\n",
       "5        12347   2011-06-30    1018.77    509.385          2.0\n",
       "6        12347   2011-09-30     584.91    584.910          1.0\n",
       "7        12347   2011-12-31    1294.32   1294.320          1.0\n",
       "8        12348   2010-09-30     221.16    221.160          1.0\n",
       "9        12348   2010-12-31     652.80    652.800          1.0"
      ]
     },
     "execution_count": 111,
     "metadata": {},
     "output_type": "execute_result"
    }
   ],
   "source": [
    "data_df.head(10)"
   ]
  },
  {
   "cell_type": "code",
   "execution_count": 112,
   "metadata": {},
   "outputs": [],
   "source": [
    "date_month_map = {\n",
    "    str(x)[:10]: 'M_%s' % (i+1) for i, x in enumerate(\n",
    "        sorted(data_df.reset_index()['invoice_date'].unique(), reverse=True)\n",
    "    )\n",
    "}"
   ]
  },
  {
   "cell_type": "code",
   "execution_count": 113,
   "metadata": {},
   "outputs": [],
   "source": [
    "data_df['M'] = data_df['invoice_date'].apply(lambda x: date_month_map[str(x)[:10]])"
   ]
  },
  {
   "cell_type": "code",
   "execution_count": 114,
   "metadata": {},
   "outputs": [
    {
     "data": {
      "text/plain": [
       "{'2011-12-31': 'M_1',\n",
       " '2011-09-30': 'M_2',\n",
       " '2011-06-30': 'M_3',\n",
       " '2011-03-31': 'M_4',\n",
       " '2010-12-31': 'M_5',\n",
       " '2010-09-30': 'M_6',\n",
       " '2010-06-30': 'M_7',\n",
       " '2010-03-31': 'M_8',\n",
       " '2009-12-31': 'M_9'}"
      ]
     },
     "execution_count": 114,
     "metadata": {},
     "output_type": "execute_result"
    }
   ],
   "source": [
    "date_month_map"
   ]
  },
  {
   "cell_type": "code",
   "execution_count": 115,
   "metadata": {},
   "outputs": [
    {
     "data": {
      "text/html": [
       "<div>\n",
       "<style scoped>\n",
       "    .dataframe tbody tr th:only-of-type {\n",
       "        vertical-align: middle;\n",
       "    }\n",
       "\n",
       "    .dataframe tbody tr th {\n",
       "        vertical-align: top;\n",
       "    }\n",
       "\n",
       "    .dataframe thead th {\n",
       "        text-align: right;\n",
       "    }\n",
       "</style>\n",
       "<table border=\"1\" class=\"dataframe\">\n",
       "  <thead>\n",
       "    <tr style=\"text-align: right;\">\n",
       "      <th></th>\n",
       "      <th>customer_id</th>\n",
       "      <th>invoice_date</th>\n",
       "      <th>sales_sum</th>\n",
       "      <th>sales_avg</th>\n",
       "      <th>sales_count</th>\n",
       "      <th>M</th>\n",
       "    </tr>\n",
       "  </thead>\n",
       "  <tbody>\n",
       "    <tr>\n",
       "      <th>0</th>\n",
       "      <td>12346</td>\n",
       "      <td>2010-03-31</td>\n",
       "      <td>27.05</td>\n",
       "      <td>27.050</td>\n",
       "      <td>1.0</td>\n",
       "      <td>M_8</td>\n",
       "    </tr>\n",
       "    <tr>\n",
       "      <th>1</th>\n",
       "      <td>12346</td>\n",
       "      <td>2010-06-30</td>\n",
       "      <td>142.31</td>\n",
       "      <td>142.310</td>\n",
       "      <td>1.0</td>\n",
       "      <td>M_7</td>\n",
       "    </tr>\n",
       "    <tr>\n",
       "      <th>2</th>\n",
       "      <td>12346</td>\n",
       "      <td>2011-03-31</td>\n",
       "      <td>77183.60</td>\n",
       "      <td>77183.600</td>\n",
       "      <td>1.0</td>\n",
       "      <td>M_4</td>\n",
       "    </tr>\n",
       "    <tr>\n",
       "      <th>3</th>\n",
       "      <td>12347</td>\n",
       "      <td>2010-12-31</td>\n",
       "      <td>2035.11</td>\n",
       "      <td>1017.555</td>\n",
       "      <td>2.0</td>\n",
       "      <td>M_5</td>\n",
       "    </tr>\n",
       "    <tr>\n",
       "      <th>4</th>\n",
       "      <td>12347</td>\n",
       "      <td>2011-03-31</td>\n",
       "      <td>475.39</td>\n",
       "      <td>475.390</td>\n",
       "      <td>1.0</td>\n",
       "      <td>M_4</td>\n",
       "    </tr>\n",
       "    <tr>\n",
       "      <th>5</th>\n",
       "      <td>12347</td>\n",
       "      <td>2011-06-30</td>\n",
       "      <td>1018.77</td>\n",
       "      <td>509.385</td>\n",
       "      <td>2.0</td>\n",
       "      <td>M_3</td>\n",
       "    </tr>\n",
       "    <tr>\n",
       "      <th>6</th>\n",
       "      <td>12347</td>\n",
       "      <td>2011-09-30</td>\n",
       "      <td>584.91</td>\n",
       "      <td>584.910</td>\n",
       "      <td>1.0</td>\n",
       "      <td>M_2</td>\n",
       "    </tr>\n",
       "    <tr>\n",
       "      <th>7</th>\n",
       "      <td>12347</td>\n",
       "      <td>2011-12-31</td>\n",
       "      <td>1294.32</td>\n",
       "      <td>1294.320</td>\n",
       "      <td>1.0</td>\n",
       "      <td>M_1</td>\n",
       "    </tr>\n",
       "    <tr>\n",
       "      <th>8</th>\n",
       "      <td>12348</td>\n",
       "      <td>2010-09-30</td>\n",
       "      <td>221.16</td>\n",
       "      <td>221.160</td>\n",
       "      <td>1.0</td>\n",
       "      <td>M_6</td>\n",
       "    </tr>\n",
       "    <tr>\n",
       "      <th>9</th>\n",
       "      <td>12348</td>\n",
       "      <td>2010-12-31</td>\n",
       "      <td>652.80</td>\n",
       "      <td>652.800</td>\n",
       "      <td>1.0</td>\n",
       "      <td>M_5</td>\n",
       "    </tr>\n",
       "  </tbody>\n",
       "</table>\n",
       "</div>"
      ],
      "text/plain": [
       "   customer_id invoice_date  sales_sum  sales_avg  sales_count    M\n",
       "0        12346   2010-03-31      27.05     27.050          1.0  M_8\n",
       "1        12346   2010-06-30     142.31    142.310          1.0  M_7\n",
       "2        12346   2011-03-31   77183.60  77183.600          1.0  M_4\n",
       "3        12347   2010-12-31    2035.11   1017.555          2.0  M_5\n",
       "4        12347   2011-03-31     475.39    475.390          1.0  M_4\n",
       "5        12347   2011-06-30    1018.77    509.385          2.0  M_3\n",
       "6        12347   2011-09-30     584.91    584.910          1.0  M_2\n",
       "7        12347   2011-12-31    1294.32   1294.320          1.0  M_1\n",
       "8        12348   2010-09-30     221.16    221.160          1.0  M_6\n",
       "9        12348   2010-12-31     652.80    652.800          1.0  M_5"
      ]
     },
     "execution_count": 115,
     "metadata": {},
     "output_type": "execute_result"
    }
   ],
   "source": [
    "data_df.head(10)"
   ]
  },
  {
   "cell_type": "markdown",
   "metadata": {},
   "source": [
    "#### - Building Sample Set"
   ]
  },
  {
   "cell_type": "code",
   "execution_count": 116,
   "metadata": {},
   "outputs": [],
   "source": [
    "features_df = pd.pivot_table(\n",
    "    data_df.loc[data_df['M'] != 'M_1'], \n",
    "    values=['sales_sum', 'sales_avg', 'sales_count'], \n",
    "    columns='M', \n",
    "    index='customer_id'\n",
    ")"
   ]
  },
  {
   "cell_type": "code",
   "execution_count": 117,
   "metadata": {},
   "outputs": [],
   "source": [
    "features_df.columns = ['_'.join(col) for col in features_df.columns]"
   ]
  },
  {
   "cell_type": "code",
   "execution_count": 118,
   "metadata": {},
   "outputs": [
    {
     "data": {
      "text/plain": [
       "(5412, 24)"
      ]
     },
     "execution_count": 118,
     "metadata": {},
     "output_type": "execute_result"
    }
   ],
   "source": [
    "features_df.shape"
   ]
  },
  {
   "cell_type": "code",
   "execution_count": 156,
   "metadata": {},
   "outputs": [],
   "source": [
    "#POTENTIAL TEST & INTERVENTION\n",
    "features_df_test = features_df.drop(columns=['sales_avg_M_9', 'sales_count_M_9', 'sales_sum_M_9'])"
   ]
  },
  {
   "cell_type": "code",
   "execution_count": 157,
   "metadata": {},
   "outputs": [
    {
     "data": {
      "text/html": [
       "<div>\n",
       "<style scoped>\n",
       "    .dataframe tbody tr th:only-of-type {\n",
       "        vertical-align: middle;\n",
       "    }\n",
       "\n",
       "    .dataframe tbody tr th {\n",
       "        vertical-align: top;\n",
       "    }\n",
       "\n",
       "    .dataframe thead th {\n",
       "        text-align: right;\n",
       "    }\n",
       "</style>\n",
       "<table border=\"1\" class=\"dataframe\">\n",
       "  <thead>\n",
       "    <tr style=\"text-align: right;\">\n",
       "      <th></th>\n",
       "      <th>sales_avg_M_2</th>\n",
       "      <th>sales_avg_M_3</th>\n",
       "      <th>sales_avg_M_4</th>\n",
       "      <th>sales_avg_M_5</th>\n",
       "      <th>sales_avg_M_6</th>\n",
       "      <th>sales_avg_M_7</th>\n",
       "      <th>sales_avg_M_8</th>\n",
       "      <th>sales_count_M_2</th>\n",
       "      <th>sales_count_M_3</th>\n",
       "      <th>sales_count_M_4</th>\n",
       "      <th>...</th>\n",
       "      <th>sales_count_M_6</th>\n",
       "      <th>sales_count_M_7</th>\n",
       "      <th>sales_count_M_8</th>\n",
       "      <th>sales_sum_M_2</th>\n",
       "      <th>sales_sum_M_3</th>\n",
       "      <th>sales_sum_M_4</th>\n",
       "      <th>sales_sum_M_5</th>\n",
       "      <th>sales_sum_M_6</th>\n",
       "      <th>sales_sum_M_7</th>\n",
       "      <th>sales_sum_M_8</th>\n",
       "    </tr>\n",
       "    <tr>\n",
       "      <th>customer_id</th>\n",
       "      <th></th>\n",
       "      <th></th>\n",
       "      <th></th>\n",
       "      <th></th>\n",
       "      <th></th>\n",
       "      <th></th>\n",
       "      <th></th>\n",
       "      <th></th>\n",
       "      <th></th>\n",
       "      <th></th>\n",
       "      <th></th>\n",
       "      <th></th>\n",
       "      <th></th>\n",
       "      <th></th>\n",
       "      <th></th>\n",
       "      <th></th>\n",
       "      <th></th>\n",
       "      <th></th>\n",
       "      <th></th>\n",
       "      <th></th>\n",
       "      <th></th>\n",
       "    </tr>\n",
       "  </thead>\n",
       "  <tbody>\n",
       "    <tr>\n",
       "      <th>12346</th>\n",
       "      <td>NaN</td>\n",
       "      <td>NaN</td>\n",
       "      <td>77183.600000</td>\n",
       "      <td>NaN</td>\n",
       "      <td>NaN</td>\n",
       "      <td>142.31</td>\n",
       "      <td>27.05</td>\n",
       "      <td>NaN</td>\n",
       "      <td>NaN</td>\n",
       "      <td>1.0</td>\n",
       "      <td>...</td>\n",
       "      <td>NaN</td>\n",
       "      <td>1.0</td>\n",
       "      <td>1.0</td>\n",
       "      <td>NaN</td>\n",
       "      <td>NaN</td>\n",
       "      <td>77183.60</td>\n",
       "      <td>NaN</td>\n",
       "      <td>NaN</td>\n",
       "      <td>142.31</td>\n",
       "      <td>27.05</td>\n",
       "    </tr>\n",
       "    <tr>\n",
       "      <th>12347</th>\n",
       "      <td>584.910000</td>\n",
       "      <td>509.3850</td>\n",
       "      <td>475.390000</td>\n",
       "      <td>1017.555</td>\n",
       "      <td>NaN</td>\n",
       "      <td>NaN</td>\n",
       "      <td>NaN</td>\n",
       "      <td>1.0</td>\n",
       "      <td>2.0</td>\n",
       "      <td>1.0</td>\n",
       "      <td>...</td>\n",
       "      <td>NaN</td>\n",
       "      <td>NaN</td>\n",
       "      <td>NaN</td>\n",
       "      <td>584.91</td>\n",
       "      <td>1018.77</td>\n",
       "      <td>475.39</td>\n",
       "      <td>2035.11</td>\n",
       "      <td>NaN</td>\n",
       "      <td>NaN</td>\n",
       "      <td>NaN</td>\n",
       "    </tr>\n",
       "    <tr>\n",
       "      <th>12348</th>\n",
       "      <td>270.000000</td>\n",
       "      <td>327.0000</td>\n",
       "      <td>187.440000</td>\n",
       "      <td>652.800</td>\n",
       "      <td>221.16</td>\n",
       "      <td>NaN</td>\n",
       "      <td>NaN</td>\n",
       "      <td>1.0</td>\n",
       "      <td>1.0</td>\n",
       "      <td>1.0</td>\n",
       "      <td>...</td>\n",
       "      <td>1.0</td>\n",
       "      <td>NaN</td>\n",
       "      <td>NaN</td>\n",
       "      <td>270.00</td>\n",
       "      <td>327.00</td>\n",
       "      <td>187.44</td>\n",
       "      <td>652.80</td>\n",
       "      <td>221.16</td>\n",
       "      <td>NaN</td>\n",
       "      <td>NaN</td>\n",
       "    </tr>\n",
       "    <tr>\n",
       "      <th>12349</th>\n",
       "      <td>NaN</td>\n",
       "      <td>NaN</td>\n",
       "      <td>NaN</td>\n",
       "      <td>1152.620</td>\n",
       "      <td>NaN</td>\n",
       "      <td>1068.52</td>\n",
       "      <td>NaN</td>\n",
       "      <td>NaN</td>\n",
       "      <td>NaN</td>\n",
       "      <td>NaN</td>\n",
       "      <td>...</td>\n",
       "      <td>NaN</td>\n",
       "      <td>1.0</td>\n",
       "      <td>NaN</td>\n",
       "      <td>NaN</td>\n",
       "      <td>NaN</td>\n",
       "      <td>NaN</td>\n",
       "      <td>1152.62</td>\n",
       "      <td>NaN</td>\n",
       "      <td>1068.52</td>\n",
       "      <td>NaN</td>\n",
       "    </tr>\n",
       "    <tr>\n",
       "      <th>12350</th>\n",
       "      <td>NaN</td>\n",
       "      <td>NaN</td>\n",
       "      <td>294.400000</td>\n",
       "      <td>NaN</td>\n",
       "      <td>NaN</td>\n",
       "      <td>NaN</td>\n",
       "      <td>NaN</td>\n",
       "      <td>NaN</td>\n",
       "      <td>NaN</td>\n",
       "      <td>1.0</td>\n",
       "      <td>...</td>\n",
       "      <td>NaN</td>\n",
       "      <td>NaN</td>\n",
       "      <td>NaN</td>\n",
       "      <td>NaN</td>\n",
       "      <td>NaN</td>\n",
       "      <td>294.40</td>\n",
       "      <td>NaN</td>\n",
       "      <td>NaN</td>\n",
       "      <td>NaN</td>\n",
       "      <td>NaN</td>\n",
       "    </tr>\n",
       "    <tr>\n",
       "      <th>...</th>\n",
       "      <td>...</td>\n",
       "      <td>...</td>\n",
       "      <td>...</td>\n",
       "      <td>...</td>\n",
       "      <td>...</td>\n",
       "      <td>...</td>\n",
       "      <td>...</td>\n",
       "      <td>...</td>\n",
       "      <td>...</td>\n",
       "      <td>...</td>\n",
       "      <td>...</td>\n",
       "      <td>...</td>\n",
       "      <td>...</td>\n",
       "      <td>...</td>\n",
       "      <td>...</td>\n",
       "      <td>...</td>\n",
       "      <td>...</td>\n",
       "      <td>...</td>\n",
       "      <td>...</td>\n",
       "      <td>...</td>\n",
       "      <td>...</td>\n",
       "    </tr>\n",
       "    <tr>\n",
       "      <th>18283</th>\n",
       "      <td>91.363333</td>\n",
       "      <td>130.6825</td>\n",
       "      <td>105.966667</td>\n",
       "      <td>97.675</td>\n",
       "      <td>92.00</td>\n",
       "      <td>NaN</td>\n",
       "      <td>118.14</td>\n",
       "      <td>3.0</td>\n",
       "      <td>4.0</td>\n",
       "      <td>3.0</td>\n",
       "      <td>...</td>\n",
       "      <td>1.0</td>\n",
       "      <td>NaN</td>\n",
       "      <td>3.0</td>\n",
       "      <td>274.09</td>\n",
       "      <td>522.73</td>\n",
       "      <td>317.90</td>\n",
       "      <td>195.35</td>\n",
       "      <td>92.00</td>\n",
       "      <td>NaN</td>\n",
       "      <td>354.42</td>\n",
       "    </tr>\n",
       "    <tr>\n",
       "      <th>18284</th>\n",
       "      <td>NaN</td>\n",
       "      <td>NaN</td>\n",
       "      <td>NaN</td>\n",
       "      <td>411.680</td>\n",
       "      <td>NaN</td>\n",
       "      <td>NaN</td>\n",
       "      <td>NaN</td>\n",
       "      <td>NaN</td>\n",
       "      <td>NaN</td>\n",
       "      <td>NaN</td>\n",
       "      <td>...</td>\n",
       "      <td>NaN</td>\n",
       "      <td>NaN</td>\n",
       "      <td>NaN</td>\n",
       "      <td>NaN</td>\n",
       "      <td>NaN</td>\n",
       "      <td>NaN</td>\n",
       "      <td>411.68</td>\n",
       "      <td>NaN</td>\n",
       "      <td>NaN</td>\n",
       "      <td>NaN</td>\n",
       "    </tr>\n",
       "    <tr>\n",
       "      <th>18285</th>\n",
       "      <td>NaN</td>\n",
       "      <td>NaN</td>\n",
       "      <td>NaN</td>\n",
       "      <td>NaN</td>\n",
       "      <td>NaN</td>\n",
       "      <td>NaN</td>\n",
       "      <td>377.00</td>\n",
       "      <td>NaN</td>\n",
       "      <td>NaN</td>\n",
       "      <td>NaN</td>\n",
       "      <td>...</td>\n",
       "      <td>NaN</td>\n",
       "      <td>NaN</td>\n",
       "      <td>1.0</td>\n",
       "      <td>NaN</td>\n",
       "      <td>NaN</td>\n",
       "      <td>NaN</td>\n",
       "      <td>NaN</td>\n",
       "      <td>NaN</td>\n",
       "      <td>NaN</td>\n",
       "      <td>377.00</td>\n",
       "    </tr>\n",
       "    <tr>\n",
       "      <th>18286</th>\n",
       "      <td>NaN</td>\n",
       "      <td>NaN</td>\n",
       "      <td>NaN</td>\n",
       "      <td>NaN</td>\n",
       "      <td>833.48</td>\n",
       "      <td>NaN</td>\n",
       "      <td>NaN</td>\n",
       "      <td>NaN</td>\n",
       "      <td>NaN</td>\n",
       "      <td>NaN</td>\n",
       "      <td>...</td>\n",
       "      <td>1.0</td>\n",
       "      <td>NaN</td>\n",
       "      <td>NaN</td>\n",
       "      <td>NaN</td>\n",
       "      <td>NaN</td>\n",
       "      <td>NaN</td>\n",
       "      <td>NaN</td>\n",
       "      <td>833.48</td>\n",
       "      <td>NaN</td>\n",
       "      <td>NaN</td>\n",
       "    </tr>\n",
       "    <tr>\n",
       "      <th>18287</th>\n",
       "      <td>NaN</td>\n",
       "      <td>765.2800</td>\n",
       "      <td>NaN</td>\n",
       "      <td>331.500</td>\n",
       "      <td>446.30</td>\n",
       "      <td>1071.61</td>\n",
       "      <td>NaN</td>\n",
       "      <td>NaN</td>\n",
       "      <td>1.0</td>\n",
       "      <td>NaN</td>\n",
       "      <td>...</td>\n",
       "      <td>2.0</td>\n",
       "      <td>1.0</td>\n",
       "      <td>NaN</td>\n",
       "      <td>NaN</td>\n",
       "      <td>765.28</td>\n",
       "      <td>NaN</td>\n",
       "      <td>331.50</td>\n",
       "      <td>892.60</td>\n",
       "      <td>1071.61</td>\n",
       "      <td>NaN</td>\n",
       "    </tr>\n",
       "  </tbody>\n",
       "</table>\n",
       "<p>5412 rows × 21 columns</p>\n",
       "</div>"
      ],
      "text/plain": [
       "             sales_avg_M_2  sales_avg_M_3  sales_avg_M_4  sales_avg_M_5  \\\n",
       "customer_id                                                               \n",
       "12346                  NaN            NaN   77183.600000            NaN   \n",
       "12347           584.910000       509.3850     475.390000       1017.555   \n",
       "12348           270.000000       327.0000     187.440000        652.800   \n",
       "12349                  NaN            NaN            NaN       1152.620   \n",
       "12350                  NaN            NaN     294.400000            NaN   \n",
       "...                    ...            ...            ...            ...   \n",
       "18283            91.363333       130.6825     105.966667         97.675   \n",
       "18284                  NaN            NaN            NaN        411.680   \n",
       "18285                  NaN            NaN            NaN            NaN   \n",
       "18286                  NaN            NaN            NaN            NaN   \n",
       "18287                  NaN       765.2800            NaN        331.500   \n",
       "\n",
       "             sales_avg_M_6  sales_avg_M_7  sales_avg_M_8  sales_count_M_2  \\\n",
       "customer_id                                                                 \n",
       "12346                  NaN         142.31          27.05              NaN   \n",
       "12347                  NaN            NaN            NaN              1.0   \n",
       "12348               221.16            NaN            NaN              1.0   \n",
       "12349                  NaN        1068.52            NaN              NaN   \n",
       "12350                  NaN            NaN            NaN              NaN   \n",
       "...                    ...            ...            ...              ...   \n",
       "18283                92.00            NaN         118.14              3.0   \n",
       "18284                  NaN            NaN            NaN              NaN   \n",
       "18285                  NaN            NaN         377.00              NaN   \n",
       "18286               833.48            NaN            NaN              NaN   \n",
       "18287               446.30        1071.61            NaN              NaN   \n",
       "\n",
       "             sales_count_M_3  sales_count_M_4  ...  sales_count_M_6  \\\n",
       "customer_id                                    ...                    \n",
       "12346                    NaN              1.0  ...              NaN   \n",
       "12347                    2.0              1.0  ...              NaN   \n",
       "12348                    1.0              1.0  ...              1.0   \n",
       "12349                    NaN              NaN  ...              NaN   \n",
       "12350                    NaN              1.0  ...              NaN   \n",
       "...                      ...              ...  ...              ...   \n",
       "18283                    4.0              3.0  ...              1.0   \n",
       "18284                    NaN              NaN  ...              NaN   \n",
       "18285                    NaN              NaN  ...              NaN   \n",
       "18286                    NaN              NaN  ...              1.0   \n",
       "18287                    1.0              NaN  ...              2.0   \n",
       "\n",
       "             sales_count_M_7  sales_count_M_8  sales_sum_M_2  sales_sum_M_3  \\\n",
       "customer_id                                                                   \n",
       "12346                    1.0              1.0            NaN            NaN   \n",
       "12347                    NaN              NaN         584.91        1018.77   \n",
       "12348                    NaN              NaN         270.00         327.00   \n",
       "12349                    1.0              NaN            NaN            NaN   \n",
       "12350                    NaN              NaN            NaN            NaN   \n",
       "...                      ...              ...            ...            ...   \n",
       "18283                    NaN              3.0         274.09         522.73   \n",
       "18284                    NaN              NaN            NaN            NaN   \n",
       "18285                    NaN              1.0            NaN            NaN   \n",
       "18286                    NaN              NaN            NaN            NaN   \n",
       "18287                    1.0              NaN            NaN         765.28   \n",
       "\n",
       "             sales_sum_M_4  sales_sum_M_5  sales_sum_M_6  sales_sum_M_7  \\\n",
       "customer_id                                                               \n",
       "12346             77183.60            NaN            NaN         142.31   \n",
       "12347               475.39        2035.11            NaN            NaN   \n",
       "12348               187.44         652.80         221.16            NaN   \n",
       "12349                  NaN        1152.62            NaN        1068.52   \n",
       "12350               294.40            NaN            NaN            NaN   \n",
       "...                    ...            ...            ...            ...   \n",
       "18283               317.90         195.35          92.00            NaN   \n",
       "18284                  NaN         411.68            NaN            NaN   \n",
       "18285                  NaN            NaN            NaN            NaN   \n",
       "18286                  NaN            NaN         833.48            NaN   \n",
       "18287                  NaN         331.50         892.60        1071.61   \n",
       "\n",
       "             sales_sum_M_8  \n",
       "customer_id                 \n",
       "12346                27.05  \n",
       "12347                  NaN  \n",
       "12348                  NaN  \n",
       "12349                  NaN  \n",
       "12350                  NaN  \n",
       "...                    ...  \n",
       "18283               354.42  \n",
       "18284                  NaN  \n",
       "18285               377.00  \n",
       "18286                  NaN  \n",
       "18287                  NaN  \n",
       "\n",
       "[5412 rows x 21 columns]"
      ]
     },
     "execution_count": 157,
     "metadata": {},
     "output_type": "execute_result"
    }
   ],
   "source": [
    "#features_df.head(10)\n",
    "features_df_test"
   ]
  },
  {
   "cell_type": "code",
   "execution_count": 158,
   "metadata": {},
   "outputs": [],
   "source": [
    "#features_df = features_df.fillna(0)\n",
    "features_df_test = features_df.fillna(0)"
   ]
  },
  {
   "cell_type": "code",
   "execution_count": 159,
   "metadata": {},
   "outputs": [
    {
     "data": {
      "text/html": [
       "<div>\n",
       "<style scoped>\n",
       "    .dataframe tbody tr th:only-of-type {\n",
       "        vertical-align: middle;\n",
       "    }\n",
       "\n",
       "    .dataframe tbody tr th {\n",
       "        vertical-align: top;\n",
       "    }\n",
       "\n",
       "    .dataframe thead th {\n",
       "        text-align: right;\n",
       "    }\n",
       "</style>\n",
       "<table border=\"1\" class=\"dataframe\">\n",
       "  <thead>\n",
       "    <tr style=\"text-align: right;\">\n",
       "      <th></th>\n",
       "      <th>sales_avg_M_2</th>\n",
       "      <th>sales_avg_M_3</th>\n",
       "      <th>sales_avg_M_4</th>\n",
       "      <th>sales_avg_M_5</th>\n",
       "      <th>sales_avg_M_6</th>\n",
       "      <th>sales_avg_M_7</th>\n",
       "      <th>sales_avg_M_8</th>\n",
       "      <th>sales_avg_M_9</th>\n",
       "      <th>sales_count_M_2</th>\n",
       "      <th>sales_count_M_3</th>\n",
       "      <th>...</th>\n",
       "      <th>sales_count_M_8</th>\n",
       "      <th>sales_count_M_9</th>\n",
       "      <th>sales_sum_M_2</th>\n",
       "      <th>sales_sum_M_3</th>\n",
       "      <th>sales_sum_M_4</th>\n",
       "      <th>sales_sum_M_5</th>\n",
       "      <th>sales_sum_M_6</th>\n",
       "      <th>sales_sum_M_7</th>\n",
       "      <th>sales_sum_M_8</th>\n",
       "      <th>sales_sum_M_9</th>\n",
       "    </tr>\n",
       "    <tr>\n",
       "      <th>customer_id</th>\n",
       "      <th></th>\n",
       "      <th></th>\n",
       "      <th></th>\n",
       "      <th></th>\n",
       "      <th></th>\n",
       "      <th></th>\n",
       "      <th></th>\n",
       "      <th></th>\n",
       "      <th></th>\n",
       "      <th></th>\n",
       "      <th></th>\n",
       "      <th></th>\n",
       "      <th></th>\n",
       "      <th></th>\n",
       "      <th></th>\n",
       "      <th></th>\n",
       "      <th></th>\n",
       "      <th></th>\n",
       "      <th></th>\n",
       "      <th></th>\n",
       "      <th></th>\n",
       "    </tr>\n",
       "  </thead>\n",
       "  <tbody>\n",
       "    <tr>\n",
       "      <th>12346</th>\n",
       "      <td>0.00</td>\n",
       "      <td>0.000</td>\n",
       "      <td>77183.60</td>\n",
       "      <td>0.000</td>\n",
       "      <td>0.00</td>\n",
       "      <td>142.31</td>\n",
       "      <td>27.05</td>\n",
       "      <td>0.0</td>\n",
       "      <td>0.0</td>\n",
       "      <td>0.0</td>\n",
       "      <td>...</td>\n",
       "      <td>1.0</td>\n",
       "      <td>0.0</td>\n",
       "      <td>0.00</td>\n",
       "      <td>0.00</td>\n",
       "      <td>77183.60</td>\n",
       "      <td>0.00</td>\n",
       "      <td>0.00</td>\n",
       "      <td>142.31</td>\n",
       "      <td>27.05</td>\n",
       "      <td>0.0</td>\n",
       "    </tr>\n",
       "    <tr>\n",
       "      <th>12347</th>\n",
       "      <td>584.91</td>\n",
       "      <td>509.385</td>\n",
       "      <td>475.39</td>\n",
       "      <td>1017.555</td>\n",
       "      <td>0.00</td>\n",
       "      <td>0.00</td>\n",
       "      <td>0.00</td>\n",
       "      <td>0.0</td>\n",
       "      <td>1.0</td>\n",
       "      <td>2.0</td>\n",
       "      <td>...</td>\n",
       "      <td>0.0</td>\n",
       "      <td>0.0</td>\n",
       "      <td>584.91</td>\n",
       "      <td>1018.77</td>\n",
       "      <td>475.39</td>\n",
       "      <td>2035.11</td>\n",
       "      <td>0.00</td>\n",
       "      <td>0.00</td>\n",
       "      <td>0.00</td>\n",
       "      <td>0.0</td>\n",
       "    </tr>\n",
       "    <tr>\n",
       "      <th>12348</th>\n",
       "      <td>270.00</td>\n",
       "      <td>327.000</td>\n",
       "      <td>187.44</td>\n",
       "      <td>652.800</td>\n",
       "      <td>221.16</td>\n",
       "      <td>0.00</td>\n",
       "      <td>0.00</td>\n",
       "      <td>0.0</td>\n",
       "      <td>1.0</td>\n",
       "      <td>1.0</td>\n",
       "      <td>...</td>\n",
       "      <td>0.0</td>\n",
       "      <td>0.0</td>\n",
       "      <td>270.00</td>\n",
       "      <td>327.00</td>\n",
       "      <td>187.44</td>\n",
       "      <td>652.80</td>\n",
       "      <td>221.16</td>\n",
       "      <td>0.00</td>\n",
       "      <td>0.00</td>\n",
       "      <td>0.0</td>\n",
       "    </tr>\n",
       "    <tr>\n",
       "      <th>12349</th>\n",
       "      <td>0.00</td>\n",
       "      <td>0.000</td>\n",
       "      <td>0.00</td>\n",
       "      <td>1152.620</td>\n",
       "      <td>0.00</td>\n",
       "      <td>1068.52</td>\n",
       "      <td>0.00</td>\n",
       "      <td>0.0</td>\n",
       "      <td>0.0</td>\n",
       "      <td>0.0</td>\n",
       "      <td>...</td>\n",
       "      <td>0.0</td>\n",
       "      <td>0.0</td>\n",
       "      <td>0.00</td>\n",
       "      <td>0.00</td>\n",
       "      <td>0.00</td>\n",
       "      <td>1152.62</td>\n",
       "      <td>0.00</td>\n",
       "      <td>1068.52</td>\n",
       "      <td>0.00</td>\n",
       "      <td>0.0</td>\n",
       "    </tr>\n",
       "    <tr>\n",
       "      <th>12350</th>\n",
       "      <td>0.00</td>\n",
       "      <td>0.000</td>\n",
       "      <td>294.40</td>\n",
       "      <td>0.000</td>\n",
       "      <td>0.00</td>\n",
       "      <td>0.00</td>\n",
       "      <td>0.00</td>\n",
       "      <td>0.0</td>\n",
       "      <td>0.0</td>\n",
       "      <td>0.0</td>\n",
       "      <td>...</td>\n",
       "      <td>0.0</td>\n",
       "      <td>0.0</td>\n",
       "      <td>0.00</td>\n",
       "      <td>0.00</td>\n",
       "      <td>294.40</td>\n",
       "      <td>0.00</td>\n",
       "      <td>0.00</td>\n",
       "      <td>0.00</td>\n",
       "      <td>0.00</td>\n",
       "      <td>0.0</td>\n",
       "    </tr>\n",
       "  </tbody>\n",
       "</table>\n",
       "<p>5 rows × 24 columns</p>\n",
       "</div>"
      ],
      "text/plain": [
       "             sales_avg_M_2  sales_avg_M_3  sales_avg_M_4  sales_avg_M_5  \\\n",
       "customer_id                                                               \n",
       "12346                 0.00          0.000       77183.60          0.000   \n",
       "12347               584.91        509.385         475.39       1017.555   \n",
       "12348               270.00        327.000         187.44        652.800   \n",
       "12349                 0.00          0.000           0.00       1152.620   \n",
       "12350                 0.00          0.000         294.40          0.000   \n",
       "\n",
       "             sales_avg_M_6  sales_avg_M_7  sales_avg_M_8  sales_avg_M_9  \\\n",
       "customer_id                                                               \n",
       "12346                 0.00         142.31          27.05            0.0   \n",
       "12347                 0.00           0.00           0.00            0.0   \n",
       "12348               221.16           0.00           0.00            0.0   \n",
       "12349                 0.00        1068.52           0.00            0.0   \n",
       "12350                 0.00           0.00           0.00            0.0   \n",
       "\n",
       "             sales_count_M_2  sales_count_M_3  ...  sales_count_M_8  \\\n",
       "customer_id                                    ...                    \n",
       "12346                    0.0              0.0  ...              1.0   \n",
       "12347                    1.0              2.0  ...              0.0   \n",
       "12348                    1.0              1.0  ...              0.0   \n",
       "12349                    0.0              0.0  ...              0.0   \n",
       "12350                    0.0              0.0  ...              0.0   \n",
       "\n",
       "             sales_count_M_9  sales_sum_M_2  sales_sum_M_3  sales_sum_M_4  \\\n",
       "customer_id                                                                 \n",
       "12346                    0.0           0.00           0.00       77183.60   \n",
       "12347                    0.0         584.91        1018.77         475.39   \n",
       "12348                    0.0         270.00         327.00         187.44   \n",
       "12349                    0.0           0.00           0.00           0.00   \n",
       "12350                    0.0           0.00           0.00         294.40   \n",
       "\n",
       "             sales_sum_M_5  sales_sum_M_6  sales_sum_M_7  sales_sum_M_8  \\\n",
       "customer_id                                                               \n",
       "12346                 0.00           0.00         142.31          27.05   \n",
       "12347              2035.11           0.00           0.00           0.00   \n",
       "12348               652.80         221.16           0.00           0.00   \n",
       "12349              1152.62           0.00        1068.52           0.00   \n",
       "12350                 0.00           0.00           0.00           0.00   \n",
       "\n",
       "             sales_sum_M_9  \n",
       "customer_id                 \n",
       "12346                  0.0  \n",
       "12347                  0.0  \n",
       "12348                  0.0  \n",
       "12349                  0.0  \n",
       "12350                  0.0  \n",
       "\n",
       "[5 rows x 24 columns]"
      ]
     },
     "execution_count": 159,
     "metadata": {},
     "output_type": "execute_result"
    }
   ],
   "source": [
    "#features_df.head()\n",
    "features_df_test.head()"
   ]
  },
  {
   "cell_type": "code",
   "execution_count": 160,
   "metadata": {},
   "outputs": [],
   "source": [
    "response_df = data_df.loc[\n",
    "    data_df['M'] == 'M_1',\n",
    "    ['customer_id', 'sales_sum']\n",
    "]"
   ]
  },
  {
   "cell_type": "code",
   "execution_count": 161,
   "metadata": {},
   "outputs": [],
   "source": [
    "response_df.columns = ['customer_id', 'CLV_'+clv_freq]"
   ]
  },
  {
   "cell_type": "code",
   "execution_count": 162,
   "metadata": {},
   "outputs": [
    {
     "data": {
      "text/plain": [
       "(2405, 2)"
      ]
     },
     "execution_count": 162,
     "metadata": {},
     "output_type": "execute_result"
    }
   ],
   "source": [
    "response_df.shape"
   ]
  },
  {
   "cell_type": "code",
   "execution_count": 163,
   "metadata": {
    "scrolled": true
   },
   "outputs": [
    {
     "data": {
      "text/html": [
       "<div>\n",
       "<style scoped>\n",
       "    .dataframe tbody tr th:only-of-type {\n",
       "        vertical-align: middle;\n",
       "    }\n",
       "\n",
       "    .dataframe tbody tr th {\n",
       "        vertical-align: top;\n",
       "    }\n",
       "\n",
       "    .dataframe thead th {\n",
       "        text-align: right;\n",
       "    }\n",
       "</style>\n",
       "<table border=\"1\" class=\"dataframe\">\n",
       "  <thead>\n",
       "    <tr style=\"text-align: right;\">\n",
       "      <th></th>\n",
       "      <th>customer_id</th>\n",
       "      <th>CLV_3M</th>\n",
       "    </tr>\n",
       "  </thead>\n",
       "  <tbody>\n",
       "    <tr>\n",
       "      <th>7</th>\n",
       "      <td>12347</td>\n",
       "      <td>1294.32</td>\n",
       "    </tr>\n",
       "    <tr>\n",
       "      <th>15</th>\n",
       "      <td>12349</td>\n",
       "      <td>1457.55</td>\n",
       "    </tr>\n",
       "    <tr>\n",
       "      <th>21</th>\n",
       "      <td>12352</td>\n",
       "      <td>231.73</td>\n",
       "    </tr>\n",
       "    <tr>\n",
       "      <th>30</th>\n",
       "      <td>12356</td>\n",
       "      <td>58.35</td>\n",
       "    </tr>\n",
       "    <tr>\n",
       "      <th>32</th>\n",
       "      <td>12357</td>\n",
       "      <td>6207.67</td>\n",
       "    </tr>\n",
       "    <tr>\n",
       "      <th>43</th>\n",
       "      <td>12359</td>\n",
       "      <td>2876.85</td>\n",
       "    </tr>\n",
       "    <tr>\n",
       "      <th>49</th>\n",
       "      <td>12360</td>\n",
       "      <td>923.78</td>\n",
       "    </tr>\n",
       "    <tr>\n",
       "      <th>57</th>\n",
       "      <td>12362</td>\n",
       "      <td>1909.85</td>\n",
       "    </tr>\n",
       "    <tr>\n",
       "      <th>61</th>\n",
       "      <td>12364</td>\n",
       "      <td>269.06</td>\n",
       "    </tr>\n",
       "    <tr>\n",
       "      <th>71</th>\n",
       "      <td>12370</td>\n",
       "      <td>739.28</td>\n",
       "    </tr>\n",
       "  </tbody>\n",
       "</table>\n",
       "</div>"
      ],
      "text/plain": [
       "    customer_id   CLV_3M\n",
       "7         12347  1294.32\n",
       "15        12349  1457.55\n",
       "21        12352   231.73\n",
       "30        12356    58.35\n",
       "32        12357  6207.67\n",
       "43        12359  2876.85\n",
       "49        12360   923.78\n",
       "57        12362  1909.85\n",
       "61        12364   269.06\n",
       "71        12370   739.28"
      ]
     },
     "execution_count": 163,
     "metadata": {},
     "output_type": "execute_result"
    }
   ],
   "source": [
    "response_df.head(10)"
   ]
  },
  {
   "cell_type": "code",
   "execution_count": 164,
   "metadata": {},
   "outputs": [],
   "source": [
    "#sample_set_df = features_df.merge(\n",
    " #   response_df, \n",
    "  #  left_index=True, \n",
    "   # right_on='customer_id',\n",
    "    #how='left'\n",
    "#)\n",
    "\n",
    "sample_set_df = features_df_test.merge(\n",
    "    response_df, \n",
    "    left_index=True, \n",
    "    right_on='customer_id',\n",
    "    how='left'\n",
    ")"
   ]
  },
  {
   "cell_type": "code",
   "execution_count": 165,
   "metadata": {},
   "outputs": [
    {
     "data": {
      "text/plain": [
       "(5412, 26)"
      ]
     },
     "execution_count": 165,
     "metadata": {},
     "output_type": "execute_result"
    }
   ],
   "source": [
    "sample_set_df.shape"
   ]
  },
  {
   "cell_type": "code",
   "execution_count": 166,
   "metadata": {},
   "outputs": [
    {
     "data": {
      "text/html": [
       "<div>\n",
       "<style scoped>\n",
       "    .dataframe tbody tr th:only-of-type {\n",
       "        vertical-align: middle;\n",
       "    }\n",
       "\n",
       "    .dataframe tbody tr th {\n",
       "        vertical-align: top;\n",
       "    }\n",
       "\n",
       "    .dataframe thead th {\n",
       "        text-align: right;\n",
       "    }\n",
       "</style>\n",
       "<table border=\"1\" class=\"dataframe\">\n",
       "  <thead>\n",
       "    <tr style=\"text-align: right;\">\n",
       "      <th></th>\n",
       "      <th>sales_avg_M_2</th>\n",
       "      <th>sales_avg_M_3</th>\n",
       "      <th>sales_avg_M_4</th>\n",
       "      <th>sales_avg_M_5</th>\n",
       "      <th>sales_avg_M_6</th>\n",
       "      <th>sales_avg_M_7</th>\n",
       "      <th>sales_avg_M_8</th>\n",
       "      <th>sales_avg_M_9</th>\n",
       "      <th>sales_count_M_2</th>\n",
       "      <th>sales_count_M_3</th>\n",
       "      <th>...</th>\n",
       "      <th>sales_sum_M_2</th>\n",
       "      <th>sales_sum_M_3</th>\n",
       "      <th>sales_sum_M_4</th>\n",
       "      <th>sales_sum_M_5</th>\n",
       "      <th>sales_sum_M_6</th>\n",
       "      <th>sales_sum_M_7</th>\n",
       "      <th>sales_sum_M_8</th>\n",
       "      <th>sales_sum_M_9</th>\n",
       "      <th>customer_id</th>\n",
       "      <th>CLV_3M</th>\n",
       "    </tr>\n",
       "  </thead>\n",
       "  <tbody>\n",
       "    <tr>\n",
       "      <th>NaN</th>\n",
       "      <td>0.00</td>\n",
       "      <td>0.000</td>\n",
       "      <td>77183.6000</td>\n",
       "      <td>0.000</td>\n",
       "      <td>0.00</td>\n",
       "      <td>142.31</td>\n",
       "      <td>27.05</td>\n",
       "      <td>0.0</td>\n",
       "      <td>0.0</td>\n",
       "      <td>0.0</td>\n",
       "      <td>...</td>\n",
       "      <td>0.00</td>\n",
       "      <td>0.00</td>\n",
       "      <td>77183.60</td>\n",
       "      <td>0.00</td>\n",
       "      <td>0.00</td>\n",
       "      <td>142.31</td>\n",
       "      <td>27.05</td>\n",
       "      <td>0.0</td>\n",
       "      <td>12346</td>\n",
       "      <td>NaN</td>\n",
       "    </tr>\n",
       "    <tr>\n",
       "      <th>7.0</th>\n",
       "      <td>584.91</td>\n",
       "      <td>509.385</td>\n",
       "      <td>475.3900</td>\n",
       "      <td>1017.555</td>\n",
       "      <td>0.00</td>\n",
       "      <td>0.00</td>\n",
       "      <td>0.00</td>\n",
       "      <td>0.0</td>\n",
       "      <td>1.0</td>\n",
       "      <td>2.0</td>\n",
       "      <td>...</td>\n",
       "      <td>584.91</td>\n",
       "      <td>1018.77</td>\n",
       "      <td>475.39</td>\n",
       "      <td>2035.11</td>\n",
       "      <td>0.00</td>\n",
       "      <td>0.00</td>\n",
       "      <td>0.00</td>\n",
       "      <td>0.0</td>\n",
       "      <td>12347</td>\n",
       "      <td>1294.32</td>\n",
       "    </tr>\n",
       "    <tr>\n",
       "      <th>NaN</th>\n",
       "      <td>270.00</td>\n",
       "      <td>327.000</td>\n",
       "      <td>187.4400</td>\n",
       "      <td>652.800</td>\n",
       "      <td>221.16</td>\n",
       "      <td>0.00</td>\n",
       "      <td>0.00</td>\n",
       "      <td>0.0</td>\n",
       "      <td>1.0</td>\n",
       "      <td>1.0</td>\n",
       "      <td>...</td>\n",
       "      <td>270.00</td>\n",
       "      <td>327.00</td>\n",
       "      <td>187.44</td>\n",
       "      <td>652.80</td>\n",
       "      <td>221.16</td>\n",
       "      <td>0.00</td>\n",
       "      <td>0.00</td>\n",
       "      <td>0.0</td>\n",
       "      <td>12348</td>\n",
       "      <td>NaN</td>\n",
       "    </tr>\n",
       "    <tr>\n",
       "      <th>15.0</th>\n",
       "      <td>0.00</td>\n",
       "      <td>0.000</td>\n",
       "      <td>0.0000</td>\n",
       "      <td>1152.620</td>\n",
       "      <td>0.00</td>\n",
       "      <td>1068.52</td>\n",
       "      <td>0.00</td>\n",
       "      <td>0.0</td>\n",
       "      <td>0.0</td>\n",
       "      <td>0.0</td>\n",
       "      <td>...</td>\n",
       "      <td>0.00</td>\n",
       "      <td>0.00</td>\n",
       "      <td>0.00</td>\n",
       "      <td>1152.62</td>\n",
       "      <td>0.00</td>\n",
       "      <td>1068.52</td>\n",
       "      <td>0.00</td>\n",
       "      <td>0.0</td>\n",
       "      <td>12349</td>\n",
       "      <td>1457.55</td>\n",
       "    </tr>\n",
       "    <tr>\n",
       "      <th>NaN</th>\n",
       "      <td>0.00</td>\n",
       "      <td>0.000</td>\n",
       "      <td>294.4000</td>\n",
       "      <td>0.000</td>\n",
       "      <td>0.00</td>\n",
       "      <td>0.00</td>\n",
       "      <td>0.00</td>\n",
       "      <td>0.0</td>\n",
       "      <td>0.0</td>\n",
       "      <td>0.0</td>\n",
       "      <td>...</td>\n",
       "      <td>0.00</td>\n",
       "      <td>0.00</td>\n",
       "      <td>294.40</td>\n",
       "      <td>0.00</td>\n",
       "      <td>0.00</td>\n",
       "      <td>0.00</td>\n",
       "      <td>0.00</td>\n",
       "      <td>0.0</td>\n",
       "      <td>12350</td>\n",
       "      <td>NaN</td>\n",
       "    </tr>\n",
       "    <tr>\n",
       "      <th>NaN</th>\n",
       "      <td>0.00</td>\n",
       "      <td>0.000</td>\n",
       "      <td>0.0000</td>\n",
       "      <td>300.930</td>\n",
       "      <td>0.00</td>\n",
       "      <td>0.00</td>\n",
       "      <td>0.00</td>\n",
       "      <td>0.0</td>\n",
       "      <td>0.0</td>\n",
       "      <td>0.0</td>\n",
       "      <td>...</td>\n",
       "      <td>0.00</td>\n",
       "      <td>0.00</td>\n",
       "      <td>0.00</td>\n",
       "      <td>300.93</td>\n",
       "      <td>0.00</td>\n",
       "      <td>0.00</td>\n",
       "      <td>0.00</td>\n",
       "      <td>0.0</td>\n",
       "      <td>12351</td>\n",
       "      <td>NaN</td>\n",
       "    </tr>\n",
       "    <tr>\n",
       "      <th>21.0</th>\n",
       "      <td>256.25</td>\n",
       "      <td>0.000</td>\n",
       "      <td>160.3775</td>\n",
       "      <td>171.900</td>\n",
       "      <td>0.00</td>\n",
       "      <td>0.00</td>\n",
       "      <td>0.00</td>\n",
       "      <td>0.0</td>\n",
       "      <td>2.0</td>\n",
       "      <td>0.0</td>\n",
       "      <td>...</td>\n",
       "      <td>512.50</td>\n",
       "      <td>0.00</td>\n",
       "      <td>641.51</td>\n",
       "      <td>343.80</td>\n",
       "      <td>0.00</td>\n",
       "      <td>0.00</td>\n",
       "      <td>0.00</td>\n",
       "      <td>0.0</td>\n",
       "      <td>12352</td>\n",
       "      <td>231.73</td>\n",
       "    </tr>\n",
       "    <tr>\n",
       "      <th>NaN</th>\n",
       "      <td>0.00</td>\n",
       "      <td>89.000</td>\n",
       "      <td>0.0000</td>\n",
       "      <td>317.760</td>\n",
       "      <td>0.00</td>\n",
       "      <td>0.00</td>\n",
       "      <td>0.00</td>\n",
       "      <td>0.0</td>\n",
       "      <td>0.0</td>\n",
       "      <td>1.0</td>\n",
       "      <td>...</td>\n",
       "      <td>0.00</td>\n",
       "      <td>89.00</td>\n",
       "      <td>0.00</td>\n",
       "      <td>317.76</td>\n",
       "      <td>0.00</td>\n",
       "      <td>0.00</td>\n",
       "      <td>0.00</td>\n",
       "      <td>0.0</td>\n",
       "      <td>12353</td>\n",
       "      <td>NaN</td>\n",
       "    </tr>\n",
       "    <tr>\n",
       "      <th>NaN</th>\n",
       "      <td>0.00</td>\n",
       "      <td>1079.400</td>\n",
       "      <td>0.0000</td>\n",
       "      <td>0.000</td>\n",
       "      <td>0.00</td>\n",
       "      <td>0.00</td>\n",
       "      <td>0.00</td>\n",
       "      <td>0.0</td>\n",
       "      <td>0.0</td>\n",
       "      <td>1.0</td>\n",
       "      <td>...</td>\n",
       "      <td>0.00</td>\n",
       "      <td>1079.40</td>\n",
       "      <td>0.00</td>\n",
       "      <td>0.00</td>\n",
       "      <td>0.00</td>\n",
       "      <td>0.00</td>\n",
       "      <td>0.00</td>\n",
       "      <td>0.0</td>\n",
       "      <td>12354</td>\n",
       "      <td>NaN</td>\n",
       "    </tr>\n",
       "    <tr>\n",
       "      <th>NaN</th>\n",
       "      <td>0.00</td>\n",
       "      <td>459.400</td>\n",
       "      <td>0.0000</td>\n",
       "      <td>0.000</td>\n",
       "      <td>0.00</td>\n",
       "      <td>488.21</td>\n",
       "      <td>0.00</td>\n",
       "      <td>0.0</td>\n",
       "      <td>0.0</td>\n",
       "      <td>1.0</td>\n",
       "      <td>...</td>\n",
       "      <td>0.00</td>\n",
       "      <td>459.40</td>\n",
       "      <td>0.00</td>\n",
       "      <td>0.00</td>\n",
       "      <td>0.00</td>\n",
       "      <td>488.21</td>\n",
       "      <td>0.00</td>\n",
       "      <td>0.0</td>\n",
       "      <td>12355</td>\n",
       "      <td>NaN</td>\n",
       "    </tr>\n",
       "  </tbody>\n",
       "</table>\n",
       "<p>10 rows × 26 columns</p>\n",
       "</div>"
      ],
      "text/plain": [
       "      sales_avg_M_2  sales_avg_M_3  sales_avg_M_4  sales_avg_M_5  \\\n",
       "NaN            0.00          0.000     77183.6000          0.000   \n",
       "7.0          584.91        509.385       475.3900       1017.555   \n",
       "NaN          270.00        327.000       187.4400        652.800   \n",
       "15.0           0.00          0.000         0.0000       1152.620   \n",
       "NaN            0.00          0.000       294.4000          0.000   \n",
       "NaN            0.00          0.000         0.0000        300.930   \n",
       "21.0         256.25          0.000       160.3775        171.900   \n",
       "NaN            0.00         89.000         0.0000        317.760   \n",
       "NaN            0.00       1079.400         0.0000          0.000   \n",
       "NaN            0.00        459.400         0.0000          0.000   \n",
       "\n",
       "      sales_avg_M_6  sales_avg_M_7  sales_avg_M_8  sales_avg_M_9  \\\n",
       "NaN            0.00         142.31          27.05            0.0   \n",
       "7.0            0.00           0.00           0.00            0.0   \n",
       "NaN          221.16           0.00           0.00            0.0   \n",
       "15.0           0.00        1068.52           0.00            0.0   \n",
       "NaN            0.00           0.00           0.00            0.0   \n",
       "NaN            0.00           0.00           0.00            0.0   \n",
       "21.0           0.00           0.00           0.00            0.0   \n",
       "NaN            0.00           0.00           0.00            0.0   \n",
       "NaN            0.00           0.00           0.00            0.0   \n",
       "NaN            0.00         488.21           0.00            0.0   \n",
       "\n",
       "      sales_count_M_2  sales_count_M_3  ...  sales_sum_M_2  sales_sum_M_3  \\\n",
       "NaN               0.0              0.0  ...           0.00           0.00   \n",
       "7.0               1.0              2.0  ...         584.91        1018.77   \n",
       "NaN               1.0              1.0  ...         270.00         327.00   \n",
       "15.0              0.0              0.0  ...           0.00           0.00   \n",
       "NaN               0.0              0.0  ...           0.00           0.00   \n",
       "NaN               0.0              0.0  ...           0.00           0.00   \n",
       "21.0              2.0              0.0  ...         512.50           0.00   \n",
       "NaN               0.0              1.0  ...           0.00          89.00   \n",
       "NaN               0.0              1.0  ...           0.00        1079.40   \n",
       "NaN               0.0              1.0  ...           0.00         459.40   \n",
       "\n",
       "      sales_sum_M_4  sales_sum_M_5  sales_sum_M_6  sales_sum_M_7  \\\n",
       "NaN        77183.60           0.00           0.00         142.31   \n",
       "7.0          475.39        2035.11           0.00           0.00   \n",
       "NaN          187.44         652.80         221.16           0.00   \n",
       "15.0           0.00        1152.62           0.00        1068.52   \n",
       "NaN          294.40           0.00           0.00           0.00   \n",
       "NaN            0.00         300.93           0.00           0.00   \n",
       "21.0         641.51         343.80           0.00           0.00   \n",
       "NaN            0.00         317.76           0.00           0.00   \n",
       "NaN            0.00           0.00           0.00           0.00   \n",
       "NaN            0.00           0.00           0.00         488.21   \n",
       "\n",
       "      sales_sum_M_8  sales_sum_M_9  customer_id   CLV_3M  \n",
       "NaN           27.05            0.0        12346      NaN  \n",
       "7.0            0.00            0.0        12347  1294.32  \n",
       "NaN            0.00            0.0        12348      NaN  \n",
       "15.0           0.00            0.0        12349  1457.55  \n",
       "NaN            0.00            0.0        12350      NaN  \n",
       "NaN            0.00            0.0        12351      NaN  \n",
       "21.0           0.00            0.0        12352   231.73  \n",
       "NaN            0.00            0.0        12353      NaN  \n",
       "NaN            0.00            0.0        12354      NaN  \n",
       "NaN            0.00            0.0        12355      NaN  \n",
       "\n",
       "[10 rows x 26 columns]"
      ]
     },
     "execution_count": 166,
     "metadata": {},
     "output_type": "execute_result"
    }
   ],
   "source": [
    "sample_set_df.head(10)"
   ]
  },
  {
   "cell_type": "code",
   "execution_count": 167,
   "metadata": {},
   "outputs": [],
   "source": [
    "sample_set_df = sample_set_df.fillna(0)"
   ]
  },
  {
   "cell_type": "code",
   "execution_count": 168,
   "metadata": {},
   "outputs": [
    {
     "data": {
      "text/html": [
       "<div>\n",
       "<style scoped>\n",
       "    .dataframe tbody tr th:only-of-type {\n",
       "        vertical-align: middle;\n",
       "    }\n",
       "\n",
       "    .dataframe tbody tr th {\n",
       "        vertical-align: top;\n",
       "    }\n",
       "\n",
       "    .dataframe thead th {\n",
       "        text-align: right;\n",
       "    }\n",
       "</style>\n",
       "<table border=\"1\" class=\"dataframe\">\n",
       "  <thead>\n",
       "    <tr style=\"text-align: right;\">\n",
       "      <th></th>\n",
       "      <th>sales_avg_M_2</th>\n",
       "      <th>sales_avg_M_3</th>\n",
       "      <th>sales_avg_M_4</th>\n",
       "      <th>sales_avg_M_5</th>\n",
       "      <th>sales_avg_M_6</th>\n",
       "      <th>sales_avg_M_7</th>\n",
       "      <th>sales_avg_M_8</th>\n",
       "      <th>sales_avg_M_9</th>\n",
       "      <th>sales_count_M_2</th>\n",
       "      <th>sales_count_M_3</th>\n",
       "      <th>...</th>\n",
       "      <th>sales_sum_M_2</th>\n",
       "      <th>sales_sum_M_3</th>\n",
       "      <th>sales_sum_M_4</th>\n",
       "      <th>sales_sum_M_5</th>\n",
       "      <th>sales_sum_M_6</th>\n",
       "      <th>sales_sum_M_7</th>\n",
       "      <th>sales_sum_M_8</th>\n",
       "      <th>sales_sum_M_9</th>\n",
       "      <th>customer_id</th>\n",
       "      <th>CLV_3M</th>\n",
       "    </tr>\n",
       "  </thead>\n",
       "  <tbody>\n",
       "    <tr>\n",
       "      <th>NaN</th>\n",
       "      <td>0.00</td>\n",
       "      <td>0.000</td>\n",
       "      <td>77183.60</td>\n",
       "      <td>0.000</td>\n",
       "      <td>0.00</td>\n",
       "      <td>142.31</td>\n",
       "      <td>27.05</td>\n",
       "      <td>0.0</td>\n",
       "      <td>0.0</td>\n",
       "      <td>0.0</td>\n",
       "      <td>...</td>\n",
       "      <td>0.00</td>\n",
       "      <td>0.00</td>\n",
       "      <td>77183.60</td>\n",
       "      <td>0.00</td>\n",
       "      <td>0.00</td>\n",
       "      <td>142.31</td>\n",
       "      <td>27.05</td>\n",
       "      <td>0.0</td>\n",
       "      <td>12346</td>\n",
       "      <td>0.00</td>\n",
       "    </tr>\n",
       "    <tr>\n",
       "      <th>7.0</th>\n",
       "      <td>584.91</td>\n",
       "      <td>509.385</td>\n",
       "      <td>475.39</td>\n",
       "      <td>1017.555</td>\n",
       "      <td>0.00</td>\n",
       "      <td>0.00</td>\n",
       "      <td>0.00</td>\n",
       "      <td>0.0</td>\n",
       "      <td>1.0</td>\n",
       "      <td>2.0</td>\n",
       "      <td>...</td>\n",
       "      <td>584.91</td>\n",
       "      <td>1018.77</td>\n",
       "      <td>475.39</td>\n",
       "      <td>2035.11</td>\n",
       "      <td>0.00</td>\n",
       "      <td>0.00</td>\n",
       "      <td>0.00</td>\n",
       "      <td>0.0</td>\n",
       "      <td>12347</td>\n",
       "      <td>1294.32</td>\n",
       "    </tr>\n",
       "    <tr>\n",
       "      <th>NaN</th>\n",
       "      <td>270.00</td>\n",
       "      <td>327.000</td>\n",
       "      <td>187.44</td>\n",
       "      <td>652.800</td>\n",
       "      <td>221.16</td>\n",
       "      <td>0.00</td>\n",
       "      <td>0.00</td>\n",
       "      <td>0.0</td>\n",
       "      <td>1.0</td>\n",
       "      <td>1.0</td>\n",
       "      <td>...</td>\n",
       "      <td>270.00</td>\n",
       "      <td>327.00</td>\n",
       "      <td>187.44</td>\n",
       "      <td>652.80</td>\n",
       "      <td>221.16</td>\n",
       "      <td>0.00</td>\n",
       "      <td>0.00</td>\n",
       "      <td>0.0</td>\n",
       "      <td>12348</td>\n",
       "      <td>0.00</td>\n",
       "    </tr>\n",
       "    <tr>\n",
       "      <th>15.0</th>\n",
       "      <td>0.00</td>\n",
       "      <td>0.000</td>\n",
       "      <td>0.00</td>\n",
       "      <td>1152.620</td>\n",
       "      <td>0.00</td>\n",
       "      <td>1068.52</td>\n",
       "      <td>0.00</td>\n",
       "      <td>0.0</td>\n",
       "      <td>0.0</td>\n",
       "      <td>0.0</td>\n",
       "      <td>...</td>\n",
       "      <td>0.00</td>\n",
       "      <td>0.00</td>\n",
       "      <td>0.00</td>\n",
       "      <td>1152.62</td>\n",
       "      <td>0.00</td>\n",
       "      <td>1068.52</td>\n",
       "      <td>0.00</td>\n",
       "      <td>0.0</td>\n",
       "      <td>12349</td>\n",
       "      <td>1457.55</td>\n",
       "    </tr>\n",
       "    <tr>\n",
       "      <th>NaN</th>\n",
       "      <td>0.00</td>\n",
       "      <td>0.000</td>\n",
       "      <td>294.40</td>\n",
       "      <td>0.000</td>\n",
       "      <td>0.00</td>\n",
       "      <td>0.00</td>\n",
       "      <td>0.00</td>\n",
       "      <td>0.0</td>\n",
       "      <td>0.0</td>\n",
       "      <td>0.0</td>\n",
       "      <td>...</td>\n",
       "      <td>0.00</td>\n",
       "      <td>0.00</td>\n",
       "      <td>294.40</td>\n",
       "      <td>0.00</td>\n",
       "      <td>0.00</td>\n",
       "      <td>0.00</td>\n",
       "      <td>0.00</td>\n",
       "      <td>0.0</td>\n",
       "      <td>12350</td>\n",
       "      <td>0.00</td>\n",
       "    </tr>\n",
       "  </tbody>\n",
       "</table>\n",
       "<p>5 rows × 26 columns</p>\n",
       "</div>"
      ],
      "text/plain": [
       "      sales_avg_M_2  sales_avg_M_3  sales_avg_M_4  sales_avg_M_5  \\\n",
       "NaN            0.00          0.000       77183.60          0.000   \n",
       "7.0          584.91        509.385         475.39       1017.555   \n",
       "NaN          270.00        327.000         187.44        652.800   \n",
       "15.0           0.00          0.000           0.00       1152.620   \n",
       "NaN            0.00          0.000         294.40          0.000   \n",
       "\n",
       "      sales_avg_M_6  sales_avg_M_7  sales_avg_M_8  sales_avg_M_9  \\\n",
       "NaN            0.00         142.31          27.05            0.0   \n",
       "7.0            0.00           0.00           0.00            0.0   \n",
       "NaN          221.16           0.00           0.00            0.0   \n",
       "15.0           0.00        1068.52           0.00            0.0   \n",
       "NaN            0.00           0.00           0.00            0.0   \n",
       "\n",
       "      sales_count_M_2  sales_count_M_3  ...  sales_sum_M_2  sales_sum_M_3  \\\n",
       "NaN               0.0              0.0  ...           0.00           0.00   \n",
       "7.0               1.0              2.0  ...         584.91        1018.77   \n",
       "NaN               1.0              1.0  ...         270.00         327.00   \n",
       "15.0              0.0              0.0  ...           0.00           0.00   \n",
       "NaN               0.0              0.0  ...           0.00           0.00   \n",
       "\n",
       "      sales_sum_M_4  sales_sum_M_5  sales_sum_M_6  sales_sum_M_7  \\\n",
       "NaN        77183.60           0.00           0.00         142.31   \n",
       "7.0          475.39        2035.11           0.00           0.00   \n",
       "NaN          187.44         652.80         221.16           0.00   \n",
       "15.0           0.00        1152.62           0.00        1068.52   \n",
       "NaN          294.40           0.00           0.00           0.00   \n",
       "\n",
       "      sales_sum_M_8  sales_sum_M_9  customer_id   CLV_3M  \n",
       "NaN           27.05            0.0        12346     0.00  \n",
       "7.0            0.00            0.0        12347  1294.32  \n",
       "NaN            0.00            0.0        12348     0.00  \n",
       "15.0           0.00            0.0        12349  1457.55  \n",
       "NaN            0.00            0.0        12350     0.00  \n",
       "\n",
       "[5 rows x 26 columns]"
      ]
     },
     "execution_count": 168,
     "metadata": {},
     "output_type": "execute_result"
    }
   ],
   "source": [
    "sample_set_df.head()"
   ]
  },
  {
   "cell_type": "code",
   "execution_count": 169,
   "metadata": {},
   "outputs": [
    {
     "data": {
      "text/plain": [
       "count     5412.000000\n",
       "mean       357.494632\n",
       "std       1905.160645\n",
       "min          0.000000\n",
       "25%          0.000000\n",
       "50%          0.000000\n",
       "75%        306.887500\n",
       "max      68012.350000\n",
       "Name: CLV_3M, dtype: float64"
      ]
     },
     "execution_count": 169,
     "metadata": {},
     "output_type": "execute_result"
    }
   ],
   "source": [
    "sample_set_df['CLV_'+clv_freq].describe()"
   ]
  },
  {
   "cell_type": "markdown",
   "metadata": {},
   "source": [
    "## 4.2. Regression Models"
   ]
  },
  {
   "cell_type": "code",
   "execution_count": 170,
   "metadata": {},
   "outputs": [],
   "source": [
    "from sklearn.model_selection import train_test_split"
   ]
  },
  {
   "cell_type": "code",
   "execution_count": 171,
   "metadata": {},
   "outputs": [],
   "source": [
    "target_var = 'CLV_'+clv_freq\n",
    "all_features = [x for x in sample_set_df.columns if x not in ['customer_id', target_var]]"
   ]
  },
  {
   "cell_type": "code",
   "execution_count": 191,
   "metadata": {},
   "outputs": [],
   "source": [
    "x_train, x_test, y_train, y_test = train_test_split(\n",
    "    sample_set_df[all_features], \n",
    "    sample_set_df[target_var], \n",
    "    test_size=0.32\n",
    ")"
   ]
  },
  {
   "cell_type": "markdown",
   "metadata": {},
   "source": [
    "#### - Linear Regression Model"
   ]
  },
  {
   "cell_type": "code",
   "execution_count": 192,
   "metadata": {},
   "outputs": [],
   "source": [
    "from sklearn.linear_model import LinearRegression\n",
    "\n",
    "# Try these models as well\n",
    "from sklearn.svm import SVR\n",
    "from sklearn.ensemble import RandomForestRegressor"
   ]
  },
  {
   "cell_type": "code",
   "execution_count": 193,
   "metadata": {},
   "outputs": [],
   "source": [
    "reg_fit = LinearRegression()"
   ]
  },
  {
   "cell_type": "code",
   "execution_count": 194,
   "metadata": {},
   "outputs": [
    {
     "data": {
      "text/plain": [
       "LinearRegression()"
      ]
     },
     "execution_count": 194,
     "metadata": {},
     "output_type": "execute_result"
    }
   ],
   "source": [
    "reg_fit.fit(x_train, y_train)"
   ]
  },
  {
   "cell_type": "code",
   "execution_count": 195,
   "metadata": {},
   "outputs": [
    {
     "data": {
      "text/plain": [
       "14.517173138802605"
      ]
     },
     "execution_count": 195,
     "metadata": {},
     "output_type": "execute_result"
    }
   ],
   "source": [
    "reg_fit.intercept_"
   ]
  },
  {
   "cell_type": "code",
   "execution_count": 196,
   "metadata": {},
   "outputs": [
    {
     "data": {
      "text/html": [
       "<div>\n",
       "<style scoped>\n",
       "    .dataframe tbody tr th:only-of-type {\n",
       "        vertical-align: middle;\n",
       "    }\n",
       "\n",
       "    .dataframe tbody tr th {\n",
       "        vertical-align: top;\n",
       "    }\n",
       "\n",
       "    .dataframe thead th {\n",
       "        text-align: right;\n",
       "    }\n",
       "</style>\n",
       "<table border=\"1\" class=\"dataframe\">\n",
       "  <thead>\n",
       "    <tr style=\"text-align: right;\">\n",
       "      <th></th>\n",
       "      <th>feature</th>\n",
       "      <th>coef</th>\n",
       "    </tr>\n",
       "  </thead>\n",
       "  <tbody>\n",
       "    <tr>\n",
       "      <th>0</th>\n",
       "      <td>sales_avg_M_2</td>\n",
       "      <td>-0.189867</td>\n",
       "    </tr>\n",
       "    <tr>\n",
       "      <th>1</th>\n",
       "      <td>sales_avg_M_3</td>\n",
       "      <td>0.133486</td>\n",
       "    </tr>\n",
       "    <tr>\n",
       "      <th>2</th>\n",
       "      <td>sales_avg_M_4</td>\n",
       "      <td>0.092011</td>\n",
       "    </tr>\n",
       "    <tr>\n",
       "      <th>3</th>\n",
       "      <td>sales_avg_M_5</td>\n",
       "      <td>-0.099980</td>\n",
       "    </tr>\n",
       "    <tr>\n",
       "      <th>4</th>\n",
       "      <td>sales_avg_M_6</td>\n",
       "      <td>0.118559</td>\n",
       "    </tr>\n",
       "    <tr>\n",
       "      <th>5</th>\n",
       "      <td>sales_avg_M_7</td>\n",
       "      <td>0.097295</td>\n",
       "    </tr>\n",
       "    <tr>\n",
       "      <th>6</th>\n",
       "      <td>sales_avg_M_8</td>\n",
       "      <td>-0.119598</td>\n",
       "    </tr>\n",
       "    <tr>\n",
       "      <th>7</th>\n",
       "      <td>sales_avg_M_9</td>\n",
       "      <td>0.541831</td>\n",
       "    </tr>\n",
       "    <tr>\n",
       "      <th>8</th>\n",
       "      <td>sales_count_M_2</td>\n",
       "      <td>134.531989</td>\n",
       "    </tr>\n",
       "    <tr>\n",
       "      <th>9</th>\n",
       "      <td>sales_count_M_3</td>\n",
       "      <td>8.326217</td>\n",
       "    </tr>\n",
       "    <tr>\n",
       "      <th>10</th>\n",
       "      <td>sales_count_M_4</td>\n",
       "      <td>-5.861294</td>\n",
       "    </tr>\n",
       "    <tr>\n",
       "      <th>11</th>\n",
       "      <td>sales_count_M_5</td>\n",
       "      <td>-79.771911</td>\n",
       "    </tr>\n",
       "    <tr>\n",
       "      <th>12</th>\n",
       "      <td>sales_count_M_6</td>\n",
       "      <td>11.597958</td>\n",
       "    </tr>\n",
       "    <tr>\n",
       "      <th>13</th>\n",
       "      <td>sales_count_M_7</td>\n",
       "      <td>-13.007307</td>\n",
       "    </tr>\n",
       "    <tr>\n",
       "      <th>14</th>\n",
       "      <td>sales_count_M_8</td>\n",
       "      <td>-3.041749</td>\n",
       "    </tr>\n",
       "    <tr>\n",
       "      <th>15</th>\n",
       "      <td>sales_count_M_9</td>\n",
       "      <td>-104.240871</td>\n",
       "    </tr>\n",
       "    <tr>\n",
       "      <th>16</th>\n",
       "      <td>sales_sum_M_2</td>\n",
       "      <td>0.313675</td>\n",
       "    </tr>\n",
       "    <tr>\n",
       "      <th>17</th>\n",
       "      <td>sales_sum_M_3</td>\n",
       "      <td>0.049814</td>\n",
       "    </tr>\n",
       "    <tr>\n",
       "      <th>18</th>\n",
       "      <td>sales_sum_M_4</td>\n",
       "      <td>-0.069253</td>\n",
       "    </tr>\n",
       "    <tr>\n",
       "      <th>19</th>\n",
       "      <td>sales_sum_M_5</td>\n",
       "      <td>0.548417</td>\n",
       "    </tr>\n",
       "    <tr>\n",
       "      <th>20</th>\n",
       "      <td>sales_sum_M_6</td>\n",
       "      <td>-0.168412</td>\n",
       "    </tr>\n",
       "    <tr>\n",
       "      <th>21</th>\n",
       "      <td>sales_sum_M_7</td>\n",
       "      <td>-0.226240</td>\n",
       "    </tr>\n",
       "    <tr>\n",
       "      <th>22</th>\n",
       "      <td>sales_sum_M_8</td>\n",
       "      <td>0.098337</td>\n",
       "    </tr>\n",
       "    <tr>\n",
       "      <th>23</th>\n",
       "      <td>sales_sum_M_9</td>\n",
       "      <td>-0.086159</td>\n",
       "    </tr>\n",
       "  </tbody>\n",
       "</table>\n",
       "</div>"
      ],
      "text/plain": [
       "            feature        coef\n",
       "0     sales_avg_M_2   -0.189867\n",
       "1     sales_avg_M_3    0.133486\n",
       "2     sales_avg_M_4    0.092011\n",
       "3     sales_avg_M_5   -0.099980\n",
       "4     sales_avg_M_6    0.118559\n",
       "5     sales_avg_M_7    0.097295\n",
       "6     sales_avg_M_8   -0.119598\n",
       "7     sales_avg_M_9    0.541831\n",
       "8   sales_count_M_2  134.531989\n",
       "9   sales_count_M_3    8.326217\n",
       "10  sales_count_M_4   -5.861294\n",
       "11  sales_count_M_5  -79.771911\n",
       "12  sales_count_M_6   11.597958\n",
       "13  sales_count_M_7  -13.007307\n",
       "14  sales_count_M_8   -3.041749\n",
       "15  sales_count_M_9 -104.240871\n",
       "16    sales_sum_M_2    0.313675\n",
       "17    sales_sum_M_3    0.049814\n",
       "18    sales_sum_M_4   -0.069253\n",
       "19    sales_sum_M_5    0.548417\n",
       "20    sales_sum_M_6   -0.168412\n",
       "21    sales_sum_M_7   -0.226240\n",
       "22    sales_sum_M_8    0.098337\n",
       "23    sales_sum_M_9   -0.086159"
      ]
     },
     "execution_count": 196,
     "metadata": {},
     "output_type": "execute_result"
    }
   ],
   "source": [
    "coef = pd.DataFrame(list(zip(all_features, reg_fit.coef_)))\n",
    "coef.columns = ['feature', 'coef']\n",
    "\n",
    "coef"
   ]
  },
  {
   "cell_type": "markdown",
   "metadata": {},
   "source": [
    "## 4.3. Evaluation"
   ]
  },
  {
   "cell_type": "code",
   "execution_count": 197,
   "metadata": {},
   "outputs": [],
   "source": [
    "from sklearn.metrics import r2_score, median_absolute_error"
   ]
  },
  {
   "cell_type": "code",
   "execution_count": 198,
   "metadata": {},
   "outputs": [],
   "source": [
    "train_preds =  reg_fit.predict(x_train)\n",
    "test_preds = reg_fit.predict(x_test)"
   ]
  },
  {
   "cell_type": "markdown",
   "metadata": {},
   "source": [
    "#### - R-Squared"
   ]
  },
  {
   "cell_type": "code",
   "execution_count": 199,
   "metadata": {},
   "outputs": [
    {
     "name": "stdout",
     "output_type": "stream",
     "text": [
      "In-Sample R-Squared: 0.7685\n",
      "Out-of-Sample R-Squared: 0.7305\n"
     ]
    }
   ],
   "source": [
    "print('In-Sample R-Squared: %0.4f' % r2_score(y_true=y_train, y_pred=train_preds))\n",
    "print('Out-of-Sample R-Squared: %0.4f' % r2_score(y_true=y_test, y_pred=test_preds))"
   ]
  },
  {
   "cell_type": "markdown",
   "metadata": {},
   "source": [
    "#### - Adjusted R squared"
   ]
  },
  {
   "cell_type": "code",
   "execution_count": null,
   "metadata": {},
   "outputs": [],
   "source": [
    "adjusted_r = 1 - (1 - reg_fit.score(x_train, y_train))*(len(y_train) - 1)/(len(y_train) - x_train.shape[1]-1)\n",
    "adjusted_r"
   ]
  },
  {
   "cell_type": "markdown",
   "metadata": {},
   "source": [
    "#### - Median Absolute Error"
   ]
  },
  {
   "cell_type": "code",
   "execution_count": 200,
   "metadata": {
    "scrolled": true
   },
   "outputs": [
    {
     "name": "stdout",
     "output_type": "stream",
     "text": [
      "In-Sample MSE: 130.3715\n",
      "Out-of-Sample MSE: 141.9824\n"
     ]
    }
   ],
   "source": [
    "print('In-Sample MSE: %0.4f' % median_absolute_error(y_true=y_train, y_pred=train_preds))\n",
    "print('Out-of-Sample MSE: %0.4f' % median_absolute_error(y_true=y_test, y_pred=test_preds))"
   ]
  },
  {
   "cell_type": "markdown",
   "metadata": {},
   "source": [
    "**- MSE - **"
   ]
  },
  {
   "cell_type": "code",
   "execution_count": null,
   "metadata": {},
   "outputs": [],
   "source": [
    "from sklearn.metrics import mean_squared_error as mse\n",
    "train_mse=mse(model.predict(X_train.to_numpy()), y_train)\n",
    "test_mse=mse(model.predict(X_test.to_numpy()), y_test)\n",
    "\n",
    "print ('train MSE: {} -- test MSE: {}'.format(train_mse, test_mse))"
   ]
  },
  {
   "cell_type": "markdown",
   "metadata": {},
   "source": [
    "**- RMSE - **"
   ]
  },
  {
   "cell_type": "code",
   "execution_count": null,
   "metadata": {},
   "outputs": [],
   "source": [
    "print ('train RMSE: {} -- test RMSE: {}'.format(train_mse**.5, test_mse**.5))"
   ]
  },
  {
   "cell_type": "markdown",
   "metadata": {},
   "source": [
    "#### - Scatter Plot"
   ]
  },
  {
   "cell_type": "code",
   "execution_count": 1,
   "metadata": {
    "scrolled": true
   },
   "outputs": [
    {
     "ename": "NameError",
     "evalue": "name 'plt' is not defined",
     "output_type": "error",
     "traceback": [
      "\u001b[0;31m---------------------------------------------------------------------------\u001b[0m",
      "\u001b[0;31mNameError\u001b[0m                                 Traceback (most recent call last)",
      "\u001b[0;32m<ipython-input-1-e4f272ed307f>\u001b[0m in \u001b[0;36m<module>\u001b[0;34m\u001b[0m\n\u001b[0;32m----> 1\u001b[0;31m \u001b[0mplt\u001b[0m\u001b[0;34m.\u001b[0m\u001b[0mfigure\u001b[0m\u001b[0;34m(\u001b[0m\u001b[0mfigsize\u001b[0m\u001b[0;34m=\u001b[0m\u001b[0;34m(\u001b[0m\u001b[0;36m8\u001b[0m\u001b[0;34m,\u001b[0m \u001b[0;36m6\u001b[0m\u001b[0;34m)\u001b[0m\u001b[0;34m,\u001b[0m \u001b[0mdpi\u001b[0m\u001b[0;34m=\u001b[0m\u001b[0;36m80\u001b[0m\u001b[0;34m)\u001b[0m\u001b[0;34m\u001b[0m\u001b[0;34m\u001b[0m\u001b[0m\n\u001b[0m\u001b[1;32m      2\u001b[0m \u001b[0mplt\u001b[0m\u001b[0;34m.\u001b[0m\u001b[0mscatter\u001b[0m\u001b[0;34m(\u001b[0m\u001b[0my_train\u001b[0m\u001b[0;34m,\u001b[0m \u001b[0mtrain_preds\u001b[0m\u001b[0;34m,\u001b[0m \u001b[0mcolor\u001b[0m\u001b[0;34m=\u001b[0m\u001b[0;34m'cyan'\u001b[0m\u001b[0;34m)\u001b[0m\u001b[0;34m\u001b[0m\u001b[0;34m\u001b[0m\u001b[0m\n\u001b[1;32m      3\u001b[0m \u001b[0mplt\u001b[0m\u001b[0;34m.\u001b[0m\u001b[0mplot\u001b[0m\u001b[0;34m(\u001b[0m\u001b[0;34m[\u001b[0m\u001b[0;36m0\u001b[0m\u001b[0;34m,\u001b[0m \u001b[0mmax\u001b[0m\u001b[0;34m(\u001b[0m\u001b[0my_train\u001b[0m\u001b[0;34m)\u001b[0m\u001b[0;34m]\u001b[0m\u001b[0;34m,\u001b[0m \u001b[0;34m[\u001b[0m\u001b[0;36m0\u001b[0m\u001b[0;34m,\u001b[0m \u001b[0mmax\u001b[0m\u001b[0;34m(\u001b[0m\u001b[0mtrain_preds\u001b[0m\u001b[0;34m)\u001b[0m\u001b[0;34m]\u001b[0m\u001b[0;34m,\u001b[0m \u001b[0mcolor\u001b[0m\u001b[0;34m=\u001b[0m\u001b[0;34m'gray'\u001b[0m\u001b[0;34m,\u001b[0m \u001b[0mlw\u001b[0m\u001b[0;34m=\u001b[0m\u001b[0;36m1\u001b[0m\u001b[0;34m,\u001b[0m \u001b[0mlinestyle\u001b[0m\u001b[0;34m=\u001b[0m\u001b[0;34m'--'\u001b[0m\u001b[0;34m)\u001b[0m\u001b[0;34m\u001b[0m\u001b[0;34m\u001b[0m\u001b[0m\n\u001b[1;32m      4\u001b[0m \u001b[0;34m\u001b[0m\u001b[0m\n\u001b[1;32m      5\u001b[0m \u001b[0mplt\u001b[0m\u001b[0;34m.\u001b[0m\u001b[0mxlabel\u001b[0m\u001b[0;34m(\u001b[0m\u001b[0;34m'actual'\u001b[0m\u001b[0;34m)\u001b[0m\u001b[0;34m\u001b[0m\u001b[0;34m\u001b[0m\u001b[0m\n",
      "\u001b[0;31mNameError\u001b[0m: name 'plt' is not defined"
     ]
    }
   ],
   "source": [
    "plt.figure(figsize=(8, 6), dpi=80)\n",
    "plt.scatter(y_train, train_preds, color='cyan')\n",
    "plt.plot([0, max(y_train)], [0, max(train_preds)], color='gray', lw=1, linestyle='--')\n",
    "\n",
    "plt.xlabel('actual')\n",
    "plt.ylabel('predicted')\n",
    "plt.title('Train Set - Actual vs. Predicted')\n",
    "plt.grid()\n",
    "\n",
    "plt.show()"
   ]
  },
  {
   "cell_type": "code",
   "execution_count": 204,
   "metadata": {},
   "outputs": [
    {
     "data": {
      "image/png": "[encoded data removed]",
      "text/plain": [
       "<Figure size 432x288 with 1 Axes>"
      ]
     },
     "metadata": {
      "needs_background": "light"
     },
     "output_type": "display_data"
    }
   ],
   "source": [
    "plt.figure(figsize=(8, 6), dpi=80)\n",
    "plt.scatter(y_test, test_preds, color='cyan')\n",
    "plt.plot([0, max(y_test)], [0, max(test_preds)], color='gray', lw=1, linestyle='--')\n",
    "\n",
    "plt.xlabel('actual')\n",
    "plt.ylabel('predicted')\n",
    "plt.title('Test Set - Actual vs. Predicted')\n",
    "plt.grid()\n",
    "\n",
    "plt.show()"
   ]
  },
  {
   "cell_type": "markdown",
   "metadata": {},
   "source": [
    "### Homoscdasticity"
   ]
  },
  {
   "cell_type": "code",
   "execution_count": null,
   "metadata": {},
   "outputs": [],
   "source": [
    "# Get a histogram of the residuals ie: y - y_pred.  Homoscdasticity\n",
    "# It resembles a normal distribution?\n",
    "ax[0,1].hist(y_test - y_pred)\n",
    "ax[0,1].set_xlabel(\"Test y-y_pred\")\n",
    "ax[0,1].set_title(\"Test Set Residual histogram\")\n",
    "\n",
    "\n",
    "# Get a histogram of the residuals ie: y - y_pred.  Homoscdasticity\n",
    "# It resembles a normal distribution?\n",
    "ax[1,1].hist(y_train - y_pred_train)\n",
    "ax[1,1].set_xlabel(\"Train y-y_pred\")\n",
    "ax[1,1].set_title(\"Train Residual histogram\")"
   ]
  },
  {
   "cell_type": "code",
   "execution_count": null,
   "metadata": {},
   "outputs": [],
   "source": [
    "# Coefficient and Intercept\n",
    "\n",
    "print(lin_reg.coef_)\n",
    "print(lin_reg.intercept_)"
   ]
  },
  {
   "cell_type": "code",
   "execution_count": null,
   "metadata": {},
   "outputs": [],
   "source": [
    "y_pred = lin_reg.predict(x_train)\n",
    "x_train[\"CLV_3M\"] = y_pred\n",
    "x_train"
   ]
  },
  {
   "cell_type": "code",
   "execution_count": null,
   "metadata": {},
   "outputs": [],
   "source": [
    "x_train[\"CLV_3M\"].describe()"
   ]
  },
  {
   "cell_type": "code",
   "execution_count": null,
   "metadata": {},
   "outputs": [],
   "source": [
    "x_train.to_excel(\"result_train.xlsx\") "
   ]
  },
  {
   "cell_type": "code",
   "execution_count": null,
   "metadata": {},
   "outputs": [],
   "source": [
    "y_pred2 = lin_reg.predict(X_test)\n",
    "x_test[\"CLV_3M\"] = y_pred2\n",
    "x_test"
   ]
  },
  {
   "cell_type": "code",
   "execution_count": null,
   "metadata": {},
   "outputs": [],
   "source": [
    "x_test[\"CLV_3M\"].describe()"
   ]
  },
  {
   "cell_type": "code",
   "execution_count": null,
   "metadata": {},
   "outputs": [],
   "source": [
    "x_test.to_excel(\"result_test.xlsx\") "
   ]
  }
 ],
 "metadata": {
  "kernelspec": {
   "display_name": "Python 3",
   "language": "python",
   "name": "python3"
  },
  "language_info": {
   "codemirror_mode": {
    "name": "ipython",
    "version": 3
   },
   "file_extension": ".py",
   "mimetype": "text/x-python",
   "name": "python",
   "nbconvert_exporter": "python",
   "pygments_lexer": "ipython3",
   "version": "3.8.8"
  }
 },
 "nbformat": 4,
 "nbformat_minor": 2
}

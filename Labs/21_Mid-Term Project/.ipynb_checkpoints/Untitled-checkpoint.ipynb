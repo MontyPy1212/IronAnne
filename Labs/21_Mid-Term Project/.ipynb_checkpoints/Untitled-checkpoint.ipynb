{
 "cells": [
  {
   "cell_type": "code",
   "execution_count": 1,
   "id": "3f5f28a7",
   "metadata": {},
   "outputs": [],
   "source": [
    "import pandas as pd\n",
    "import numpy as np\n",
    "import matplotlib.pyplot as plt\n",
    "import seaborn as sns\n",
    "%matplotlib inline"
   ]
  },
  {
   "cell_type": "code",
   "execution_count": 2,
   "id": "ad89acb8",
   "metadata": {},
   "outputs": [],
   "source": [
    "df = pd.read_excel('/Users/Annie/Documents/GitHub/IronAnne/Labs/21_Mid-Term Project/online_retail_II_clean_final.xlsx')"
   ]
  },
  {
   "cell_type": "code",
   "execution_count": null,
   "id": "476d20ac",
   "metadata": {},
   "outputs": [],
   "source": [
    "df.shape"
   ]
  },
  {
   "cell_type": "code",
   "execution_count": null,
   "id": "557a8ab0",
   "metadata": {},
   "outputs": [],
   "source": [
    "#calc total sales"
   ]
  },
  {
   "cell_type": "code",
   "execution_count": null,
   "id": "d40dcce7",
   "metadata": {},
   "outputs": [],
   "source": [
    "df['sales'] = df['quantity'] * df['unit_price']"
   ]
  },
  {
   "cell_type": "code",
   "execution_count": null,
   "id": "c1e9bcaa",
   "metadata": {},
   "outputs": [],
   "source": [
    "df_orders = df.groupby(['customer_id', 'invoice']).agg({'sales': sum, 'invoice_date': max})"
   ]
  },
  {
   "cell_type": "code",
   "execution_count": null,
   "id": "dd180aa5",
   "metadata": {},
   "outputs": [],
   "source": [
    "df_orders.head(8)"
   ]
  },
  {
   "cell_type": "code",
   "execution_count": null,
   "id": "b213241c",
   "metadata": {},
   "outputs": [],
   "source": [
    "df_orders['invoice_date'].max(), df_orders['invoice_date'].min()"
   ]
  },
  {
   "cell_type": "code",
   "execution_count": null,
   "id": "840f8167",
   "metadata": {},
   "outputs": [],
   "source": [
    "#Data Analysis"
   ]
  },
  {
   "cell_type": "code",
   "execution_count": null,
   "id": "ac0d801c",
   "metadata": {},
   "outputs": [],
   "source": [
    "def groupby_mean(x):\n",
    "    return x.mean()\n",
    "\n",
    "def groupby_count(x):\n",
    "    return x.count()\n",
    "\n",
    "def purchase_duration(x):\n",
    "    return (x.max() - x.min()).days\n",
    "\n",
    "def avg_frequency(x):\n",
    "    return (x.max() - x.min()).days / x.count()\n",
    "\n",
    "groupby_mean.__name__ = 'avg'\n",
    "groupby_count.__name__ = 'count'\n",
    "purchase_duration.__name__ = 'purchase_duration'\n",
    "avg_frequency.__name__ = 'purchase_frequency'"
   ]
  },
  {
   "cell_type": "code",
   "execution_count": null,
   "id": "74236fb4",
   "metadata": {},
   "outputs": [],
   "source": [
    "df_summary = df_orders.reset_index().groupby('customer_id').agg({\n",
    "            'sales': [min, max, sum, groupby_mean, groupby_count],\n",
    "            'invoice_date': [min, max, purchase_duration, avg_frequency]\n",
    "             })"
   ]
  },
  {
   "cell_type": "code",
   "execution_count": null,
   "id": "6660232e",
   "metadata": {},
   "outputs": [],
   "source": [
    "df_summary.head()"
   ]
  },
  {
   "cell_type": "code",
   "execution_count": null,
   "id": "41ae9b3a",
   "metadata": {},
   "outputs": [],
   "source": [
    "#Prep Data"
   ]
  },
  {
   "cell_type": "code",
   "execution_count": null,
   "id": "1a244d0f",
   "metadata": {},
   "outputs": [],
   "source": [
    "clv_freq = '3M'"
   ]
  },
  {
   "cell_type": "code",
   "execution_count": null,
   "id": "d2331a9d",
   "metadata": {},
   "outputs": [],
   "source": [
    "df_data = df_orders.reset_index().groupby([\n",
    "            'customer_id',\n",
    "            pd.Grouper(key='invoice_date', freq=clv_freq)\n",
    "            ]).agg({'sales': [sum, groupby_mean, groupby_count],})"
   ]
  },
  {
   "cell_type": "code",
   "execution_count": null,
   "id": "0687e594",
   "metadata": {},
   "outputs": [],
   "source": [
    "df_data.columns = ['_'.join(col).lower() for col in df_data.columns]"
   ]
  },
  {
   "cell_type": "code",
   "execution_count": null,
   "id": "1c91a7e0",
   "metadata": {},
   "outputs": [],
   "source": [
    "df_data = df_data.reset_index()"
   ]
  },
  {
   "cell_type": "code",
   "execution_count": null,
   "id": "6ad847f2",
   "metadata": {},
   "outputs": [],
   "source": [
    "df_data.head()"
   ]
  },
  {
   "cell_type": "code",
   "execution_count": null,
   "id": "ee1835e7",
   "metadata": {},
   "outputs": [],
   "source": [
    "df_data[\"invoice_date\"].min"
   ]
  },
  {
   "cell_type": "code",
   "execution_count": null,
   "id": "27c1031e",
   "metadata": {},
   "outputs": [],
   "source": [
    "df_data.info()"
   ]
  },
  {
   "cell_type": "code",
   "execution_count": null,
   "id": "0365bfa5",
   "metadata": {},
   "outputs": [],
   "source": [
    "map_date_month = {str(x)[:10]: 'M_%s' % (i+1) for i, x in enumerate(\n",
    "                    sorted(df_data.reset_index()['invoice_date'].unique(), reverse=True))}"
   ]
  },
  {
   "cell_type": "code",
   "execution_count": null,
   "id": "bfd290d6",
   "metadata": {},
   "outputs": [],
   "source": [
    "map_date_month"
   ]
  },
  {
   "cell_type": "code",
   "execution_count": null,
   "id": "ab94baa8",
   "metadata": {},
   "outputs": [],
   "source": [
    "df_data['M'] = df_data['invoice_date'].apply(lambda x: map_date_month[str(x)[:10]])"
   ]
  },
  {
   "cell_type": "code",
   "execution_count": null,
   "id": "5b670174",
   "metadata": {},
   "outputs": [],
   "source": [
    "df_data.head()"
   ]
  },
  {
   "cell_type": "code",
   "execution_count": null,
   "id": "b22f2ed7",
   "metadata": {},
   "outputs": [],
   "source": [
    "# Number of purchases made in each chunk\n",
    "df_data['M'].value_counts()"
   ]
  },
  {
   "cell_type": "code",
   "execution_count": null,
   "id": "61b93131",
   "metadata": {},
   "outputs": [],
   "source": []
  }
 ],
 "metadata": {
  "kernelspec": {
   "display_name": "Python 3",
   "language": "python",
   "name": "python3"
  },
  "language_info": {
   "codemirror_mode": {
    "name": "ipython",
    "version": 3
   },
   "file_extension": ".py",
   "mimetype": "text/x-python",
   "name": "python",
   "nbconvert_exporter": "python",
   "pygments_lexer": "ipython3",
   "version": "3.8.8"
  }
 },
 "nbformat": 4,
 "nbformat_minor": 5
}

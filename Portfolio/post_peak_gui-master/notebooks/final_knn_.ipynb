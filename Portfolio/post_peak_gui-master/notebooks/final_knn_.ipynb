{
 "cells": [
  {
   "cell_type": "code",
   "execution_count": 24,
   "metadata": {
    "ExecuteTime": {
     "end_time": "2020-11-27T18:13:23.790510Z",
     "start_time": "2020-11-27T18:13:21.001422Z"
    }
   },
   "outputs": [],
   "source": [
    "# imports\n",
    "import pickle\n",
    "import numpy as np\n",
    "import pandas as pd\n",
    "from sklearn.neighbors import KNeighborsRegressor\n",
    "from sklearn.model_selection import train_test_split"
   ]
  },
  {
   "cell_type": "code",
   "execution_count": 25,
   "metadata": {
    "ExecuteTime": {
     "end_time": "2020-11-27T18:13:25.279338Z",
     "start_time": "2020-11-27T18:13:23.793590Z"
    }
   },
   "outputs": [],
   "source": [
    "# load filtered df\n",
    "# ???\n",
    "# load final dataset\n",
    "df = pd.read_csv('../raw_data/full_dataset.csv')"
   ]
  },
  {
   "cell_type": "code",
   "execution_count": 99,
   "metadata": {},
   "outputs": [
    {
     "data": {
      "text/plain": [
       "<bound method NDFrame.describe of 0                       ['classical', 'early romantic era']\n",
       "1                                ['tango', 'vintage tango']\n",
       "2         ['classical', 'early romantic era', 'polish cl...\n",
       "3                       ['classical', 'early romantic era']\n",
       "4                        ['classical', 'late romantic era']\n",
       "5                                ['tango', 'vintage tango']\n",
       "6         ['classical', 'post-romantic era', 'russian ro...\n",
       "7         ['classical', 'early romantic era', 'polish cl...\n",
       "8         ['american modern classical', 'classical', 'ea...\n",
       "9                       ['classical', 'early romantic era']\n",
       "10        ['classical', 'classical era', 'early romantic...\n",
       "11        ['british modern classical', 'early modern cla...\n",
       "12        ['early modern classical', 'impressionism', 'l...\n",
       "13                               ['tango', 'vintage tango']\n",
       "14                                          ['galante era']\n",
       "15                               ['tango', 'vintage tango']\n",
       "16                ['late romantic era', 'polish classical']\n",
       "17                               ['tango', 'vintage tango']\n",
       "18        ['classical', 'early romantic era', 'polish cl...\n",
       "19                               ['tango', 'vintage tango']\n",
       "20                               ['tango', 'vintage tango']\n",
       "21        ['british modern classical', 'early modern cla...\n",
       "22        ['classical', 'early romantic era', 'polish cl...\n",
       "23                                        ['classical era']\n",
       "24                               ['tango', 'vintage tango']\n",
       "25                               ['tango', 'vintage tango']\n",
       "26        ['british modern classical', 'early modern cla...\n",
       "27                               ['tango', 'vintage tango']\n",
       "28                                      ['vintage chanson']\n",
       "29                               ['tango', 'vintage tango']\n",
       "                                ...                        \n",
       "159004                    ['canadian house', 'float house']\n",
       "159005    ['ambient', 'ambient house', 'art pop', 'canad...\n",
       "159006    ['bass music', 'chillwave', 'electronica', 'fu...\n",
       "159007                    ['lo-fi house', 'outsider house']\n",
       "159008    ['art pop', 'collage pop', 'escape room', 'exp...\n",
       "159009                                      ['float house']\n",
       "159010                                    ['aussietronica']\n",
       "159011                                    ['aussietronica']\n",
       "159012                                       ['synth funk']\n",
       "159013                                       ['synth funk']\n",
       "159014                                   ['abstract beats']\n",
       "159015                                 ['ecuadorian indie']\n",
       "159016                                    ['chamber psych']\n",
       "159017              ['broken beat', 'frankfurt electronic']\n",
       "159018    ['indie garage rock', 'montreal indie', 'quebe...\n",
       "159019               ['experimental pop', 'montreal indie']\n",
       "159020                                      ['float house']\n",
       "159021    ['art pop', 'art rock', 'chamber psych', 'coll...\n",
       "159022                                       ['dub techno']\n",
       "159023                                       ['dub techno']\n",
       "159024                                         ['uk house']\n",
       "159025                             ['icelandic electronic']\n",
       "159026                       ['float house', 'lo-fi house']\n",
       "159027    ['ambient', 'ambient house', 'art pop', 'canad...\n",
       "159028    ['deep house', 'electronica', 'float house', '...\n",
       "159029    ['cologne electronic', 'microhouse', 'minimal ...\n",
       "159030                                        ['bass trip']\n",
       "159031    ['ambient', 'art pop', 'compositional ambient'...\n",
       "159032    ['conscious hip hop', 'dance pop', 'hip pop', ...\n",
       "159033    ['deep house', 'electronica', 'float house', '...\n",
       "Name: genres, Length: 159034, dtype: object>"
      ]
     },
     "execution_count": 99,
     "metadata": {},
     "output_type": "execute_result"
    }
   ],
   "source": [
    "df['genres'].describe"
   ]
  },
  {
   "cell_type": "code",
   "execution_count": 26,
   "metadata": {},
   "outputs": [
    {
     "data": {
      "text/plain": [
       "numpy.float64"
      ]
     },
     "execution_count": 26,
     "metadata": {},
     "output_type": "execute_result"
    }
   ],
   "source": [
    "type(df['duration_min'][0])"
   ]
  },
  {
   "cell_type": "code",
   "execution_count": 3,
   "metadata": {
    "ExecuteTime": {
     "end_time": "2020-11-27T18:13:25.302284Z",
     "start_time": "2020-11-27T18:13:25.290697Z"
    }
   },
   "outputs": [],
   "source": [
    "# # explore data\n",
    "# df.describe()"
   ]
  },
  {
   "cell_type": "code",
   "execution_count": 63,
   "metadata": {
    "ExecuteTime": {
     "end_time": "2020-11-27T18:13:25.338032Z",
     "start_time": "2020-11-27T18:13:25.307610Z"
    }
   },
   "outputs": [],
   "source": [
    "# functionize seeding & feature selection\n",
    "def get_seed_features(df):\n",
    "    '''Get random seed track & features'''\n",
    "    seed = df.sample()\n",
    "    #tempo = seed['scaled_tempo'].iat[0] \n",
    "    #loudness = seed['scaled_loudness'].iat[0]\n",
    "    #da = seed['danceability'].iat[0]\n",
    "    #energy = seed['energy'].iat[0]\n",
    "    seed_df= seed[['scaled_tempo','scaled_loudness','danceability','energy']]\n",
    "    return seed_df#, popularity"
   ]
  },
  {
   "cell_type": "code",
   "execution_count": 64,
   "metadata": {},
   "outputs": [
    {
     "data": {
      "text/html": [
       "<div>\n",
       "<style scoped>\n",
       "    .dataframe tbody tr th:only-of-type {\n",
       "        vertical-align: middle;\n",
       "    }\n",
       "\n",
       "    .dataframe tbody tr th {\n",
       "        vertical-align: top;\n",
       "    }\n",
       "\n",
       "    .dataframe thead th {\n",
       "        text-align: right;\n",
       "    }\n",
       "</style>\n",
       "<table border=\"1\" class=\"dataframe\">\n",
       "  <thead>\n",
       "    <tr style=\"text-align: right;\">\n",
       "      <th></th>\n",
       "      <th>scaled_tempo</th>\n",
       "      <th>scaled_loudness</th>\n",
       "      <th>danceability</th>\n",
       "      <th>energy</th>\n",
       "    </tr>\n",
       "  </thead>\n",
       "  <tbody>\n",
       "    <tr>\n",
       "      <th>62313</th>\n",
       "      <td>0.372474</td>\n",
       "      <td>0.790569</td>\n",
       "      <td>0.76</td>\n",
       "      <td>0.99</td>\n",
       "    </tr>\n",
       "  </tbody>\n",
       "</table>\n",
       "</div>"
      ],
      "text/plain": [
       "       scaled_tempo  scaled_loudness  danceability  energy\n",
       "62313      0.372474         0.790569          0.76    0.99"
      ]
     },
     "execution_count": 64,
     "metadata": {},
     "output_type": "execute_result"
    }
   ],
   "source": [
    "get_seed_features(df)"
   ]
  },
  {
   "cell_type": "code",
   "execution_count": 65,
   "metadata": {
    "ExecuteTime": {
     "end_time": "2020-11-27T18:13:25.361461Z",
     "start_time": "2020-11-27T18:13:25.343364Z"
    }
   },
   "outputs": [],
   "source": [
    "# functionize trainig\n",
    "def train_knn(df):\n",
    "    '''Train the model'''\n",
    "    features_names = ['scaled_tempo', 'scaled_loudness', 'danceability', 'energy'] # 'scaled_year', 'popularity_binned'\n",
    "    X = df[features_names]\n",
    "    y = df['track_id']\n",
    "    model = KNeighborsRegressor(algorithm='kd_tree', n_jobs=-1).fit(X, y)\n",
    "    return model"
   ]
  },
  {
   "cell_type": "code",
   "execution_count": 66,
   "metadata": {
    "ExecuteTime": {
     "end_time": "2020-11-27T18:13:25.818824Z",
     "start_time": "2020-11-27T18:13:25.366415Z"
    }
   },
   "outputs": [],
   "source": [
    "# train model\n",
    "model = train_knn(df)\n",
    "# pickle model\n",
    "with open(\"../peak/knn_trained.pkl\", \"wb\") as file:\n",
    "    pickle.dump(model, file)   "
   ]
  },
  {
   "cell_type": "code",
   "execution_count": 69,
   "metadata": {
    "ExecuteTime": {
     "end_time": "2020-11-27T18:13:26.095598Z",
     "start_time": "2020-11-27T18:13:25.926872Z"
    }
   },
   "outputs": [],
   "source": [
    "# load trained model\n",
    "knn_trained = pickle.load(open(\"../peak/knn_trained.pkl\",\"rb\")) #file is in peak/peak"
   ]
  },
  {
   "cell_type": "code",
   "execution_count": 68,
   "metadata": {
    "ExecuteTime": {
     "end_time": "2020-11-27T18:13:25.876919Z",
     "start_time": "2020-11-27T18:13:25.826783Z"
    }
   },
   "outputs": [],
   "source": [
    "# get seed features\n",
    "seed_df = get_seed_features(df)"
   ]
  },
  {
   "cell_type": "code",
   "execution_count": 71,
   "metadata": {
    "ExecuteTime": {
     "end_time": "2020-11-27T18:13:26.127415Z",
     "start_time": "2020-11-27T18:13:26.108251Z"
    }
   },
   "outputs": [],
   "source": [
    "def get_k_dist_ind(knn_trained, seed_df):\n",
    "    '''Get model output: distances & indices'''\n",
    "    # set output & k\n",
    "    knn_out, k = [], 100\n",
    "    # get trained model output for k: distances & indices\n",
    "    knn_out = knn_trained.kneighbors(seed_df, n_neighbors=k)\n",
    "    return knn_out"
   ]
  },
  {
   "cell_type": "code",
   "execution_count": 74,
   "metadata": {
    "ExecuteTime": {
     "end_time": "2020-11-27T18:13:53.492562Z",
     "start_time": "2020-11-27T18:13:53.375364Z"
    }
   },
   "outputs": [],
   "source": [
    "# get output: distances & indices\n",
    "knn_out = get_k_dist_ind(knn_trained,seed_df)\n",
    "# get indices\n",
    "ind = knn_out[1][0].tolist()"
   ]
  },
  {
   "cell_type": "code",
   "execution_count": 81,
   "metadata": {},
   "outputs": [],
   "source": []
  },
  {
   "cell_type": "code",
   "execution_count": 96,
   "metadata": {
    "ExecuteTime": {
     "end_time": "2020-11-27T18:13:26.635332Z",
     "start_time": "2020-11-27T18:13:21.060Z"
    }
   },
   "outputs": [
    {
     "data": {
      "text/plain": [
       "29.06"
      ]
     },
     "execution_count": 96,
     "metadata": {},
     "output_type": "execute_result"
    }
   ],
   "source": [
    "# k=100 recommendations df\n",
    "recs = df.iloc[ind] \n",
    "total = recs[recs['duration_min'].cumsum() <= 30]\n",
    "total['duration_min'].sum()"
   ]
  },
  {
   "cell_type": "code",
   "execution_count": null,
   "metadata": {},
   "outputs": [],
   "source": []
  }
 ],
 "metadata": {
  "hide_input": false,
  "kernelspec": {
   "display_name": "Python 3",
   "language": "python",
   "name": "python3"
  },
  "language_info": {
   "codemirror_mode": {
    "name": "ipython",
    "version": 3
   },
   "file_extension": ".py",
   "mimetype": "text/x-python",
   "name": "python",
   "nbconvert_exporter": "python",
   "pygments_lexer": "ipython3",
   "version": "3.8.8"
  },
  "toc": {
   "base_numbering": 1,
   "nav_menu": {},
   "number_sections": true,
   "sideBar": true,
   "skip_h1_title": false,
   "title_cell": "Table of Contents",
   "title_sidebar": "Contents",
   "toc_cell": false,
   "toc_position": {},
   "toc_section_display": true,
   "toc_window_display": true
  },
  "varInspector": {
   "cols": {
    "lenName": 16,
    "lenType": 16,
    "lenVar": 40
   },
   "kernels_config": {
    "python": {
     "delete_cmd_postfix": "",
     "delete_cmd_prefix": "del ",
     "library": "var_list.py",
     "varRefreshCmd": "print(var_dic_list())"
    },
    "r": {
     "delete_cmd_postfix": ") ",
     "delete_cmd_prefix": "rm(",
     "library": "var_list.r",
     "varRefreshCmd": "cat(var_dic_list()) "
    }
   },
   "types_to_exclude": [
    "module",
    "function",
    "builtin_function_or_method",
    "instance",
    "_Feature"
   ],
   "window_display": false
  }
 },
 "nbformat": 4,
 "nbformat_minor": 4
}
